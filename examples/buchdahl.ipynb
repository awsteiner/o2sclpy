{
 "cells": [
  {
   "cell_type": "markdown",
   "id": "d6633e83",
   "metadata": {},
   "source": [
    "# Buchdahl equation of state example for O$_2$sclpy"
   ]
  },
  {
   "cell_type": "markdown",
   "id": "9a9e763c",
   "metadata": {},
   "source": [
    "See the O$_2$sclpy documentation at https://neutronstars.utk.edu/code/o2sclpy for more information."
   ]
  },
  {
   "cell_type": "code",
   "execution_count": 1,
   "id": "4e1c97bf",
   "metadata": {},
   "outputs": [],
   "source": [
    "import o2sclpy\n",
    "import matplotlib.pyplot as plot\n",
    "import ctypes\n",
    "import numpy\n",
    "import sys\n",
    "\n",
    "plots=True\n",
    "if 'pytest' in sys.modules:\n",
    "    plots=False"
   ]
  },
  {
   "cell_type": "markdown",
   "id": "366d67d6",
   "metadata": {},
   "source": [
    "Link the O$_2$scl library:"
   ]
  },
  {
   "cell_type": "code",
   "execution_count": 2,
   "id": "dae07403",
   "metadata": {},
   "outputs": [],
   "source": [
    "link=o2sclpy.linker()\n",
    "link.link_o2scl()"
   ]
  },
  {
   "cell_type": "markdown",
   "id": "a3461505",
   "metadata": {},
   "source": [
    "Get a copy (a pointer to) the O$_2$scl unit conversion object:"
   ]
  },
  {
   "cell_type": "code",
   "execution_count": 3,
   "id": "6da48214",
   "metadata": {},
   "outputs": [],
   "source": [
    "cu=link.o2scl_settings.get_convert_units()"
   ]
  },
  {
   "cell_type": "markdown",
   "id": "227d3d42",
   "metadata": {},
   "source": [
    "Create the Buchdahl EOS object:"
   ]
  },
  {
   "cell_type": "code",
   "execution_count": 4,
   "id": "6ca1dcae",
   "metadata": {},
   "outputs": [],
   "source": [
    "b=o2sclpy.eos_tov_buchdahl(link)"
   ]
  },
  {
   "cell_type": "markdown",
   "id": "9c659e14",
   "metadata": {},
   "source": [
    "Create the TOV solve object, set the EOS and compute the M-R curve:"
   ]
  },
  {
   "cell_type": "code",
   "execution_count": 5,
   "id": "44f497e1",
   "metadata": {},
   "outputs": [
    {
     "name": "stdout",
     "output_type": "stream",
     "text": [
      "1.400000e+00 solar mass mode.\n",
      "Central P: 5.2000e-05 (Msun/km^3), M: 2.2703e+00 (Msun), R: 1.5779e+01 (km)\n",
      "Central P: 5.2000e-05 (Msun/km^3), M: 2.2703e+00 (Msun), R: 1.5779e+01 (km)\n",
      "Central P: 5.2000e-05 (Msun/km^3), M: 2.2703e+00 (Msun), R: 1.5779e+01 (km)\n",
      "Central P: 1.5746e-05 (Msun/km^3), M: 1.2137e+00 (Msun), R: 1.5329e+01 (km)\n",
      "Central P: 2.2140e-05 (Msun/km^3), M: 1.4453e+00 (Msun), R: 1.5395e+01 (km)\n",
      "Central P: 2.0889e-05 (Msun/km^3), M: 1.4027e+00 (Msun), R: 1.5381e+01 (km)\n",
      "Central P: 2.0811e-05 (Msun/km^3), M: 1.4000e+00 (Msun), R: 1.5380e+01 (km)\n",
      "Central P: 2.0812e-05 (Msun/km^3), M: 1.4000e+00 (Msun), R: 1.5380e+01 (km)\n",
      "Central P: 2.0812e-05 (Msun/km^3), M: 1.4000e+00 (Msun), R: 1.5380e+01 (km)\n",
      "Gravitational mass is: 1.400000e+00\n",
      "Radius is: 1.538043e+01\n",
      "Exact radius is 1.538043e+01, computed radius is 1.538043e+01.\n",
      "Relative difference 5.976744e-10.\n"
     ]
    }
   ],
   "source": [
    "ts=o2sclpy.tov_solve(link)\n",
    "ts.set_eos(b);\n",
    "ts.fixed(1.4,1.0e-4)\n",
    "print('Exact radius is %7.6e, computed radius is %7.6e.' %\n",
    "      (b.rad_from_gm(1.4),ts.rad))\n",
    "print('Relative difference %7.6e.' %\n",
    "      (abs(b.rad_from_gm(1.4)-ts.rad)/ts.rad))"
   ]
  },
  {
   "cell_type": "markdown",
   "id": "7bfcc1ee",
   "metadata": {},
   "source": [
    "Get the table for the TOV results:"
   ]
  },
  {
   "cell_type": "code",
   "execution_count": null,
   "id": "66d67093",
   "metadata": {},
   "outputs": [],
   "source": [
    "tov_table=ts.get_results()"
   ]
  },
  {
   "cell_type": "markdown",
   "id": "3774bba0",
   "metadata": {},
   "source": [
    "The compactness of a 1.4 solar mass NS:"
   ]
  },
  {
   "cell_type": "code",
   "execution_count": 6,
   "id": "8d34b357",
   "metadata": {},
   "outputs": [],
   "source": [
    "beta=ts.mass*b.G_km_Msun/ts.rad"
   ]
  },
  {
   "cell_type": "markdown",
   "id": "d08055ac",
   "metadata": {},
   "source": [
    "Construct two lists, a radius grid and a list containing the\n",
    "relative difference of the exact and calculated enclosed\n",
    "gravitational mass:"
   ]
  },
  {
   "cell_type": "code",
   "execution_count": 7,
   "id": "f8a89a4a",
   "metadata": {},
   "outputs": [],
   "source": [
    "radial_grid=[]\n",
    "rel_diff=[]\n",
    "for i in range(1,tov_table.get_nlines()):\n",
    "    r=tov_table['r'][i]\n",
    "    radial_grid.append(r)\n",
    "    enc_mass=r*(1.0-1.0/b.exp2lam_from_r_gm(tov_table['r'][i],\n",
    "                                            beta))/2.0/b.G_km_Msun\n",
    "    enc_mass2=tov_table['gm'][i]\n",
    "    rel_diff.append(abs(enc_mass-enc_mass2)/enc_mass)"
   ]
  },
  {
   "cell_type": "markdown",
   "id": "3ebb56ce",
   "metadata": {},
   "source": [
    "Initialize the plotting object:"
   ]
  },
  {
   "cell_type": "code",
   "execution_count": 8,
   "id": "e5e11ac7",
   "metadata": {},
   "outputs": [],
   "source": [
    "if plots:\n",
    "    pl=o2sclpy.plotter()"
   ]
  },
  {
   "cell_type": "markdown",
   "id": "a9940eeb",
   "metadata": {},
   "source": [
    "Plot the enclosed gravitational mass as a function of\n",
    "radius for a 1.4 solar mass neutron star:"
   ]
  },
  {
   "cell_type": "code",
   "execution_count": 9,
   "id": "033e8f4d",
   "metadata": {},
   "outputs": [
    {
     "data": {
      "image/png": "[encoded data removed]",
      "text/plain": [
       "<Figure size 432x432 with 1 Axes>"
      ]
     },
     "metadata": {},
     "output_type": "display_data"
    }
   ],
   "source": [
    "if plots:\n",
    "    pl.canvas()\n",
    "    plot.plot(tov_table['r'][0:tov_table.get_nlines()],\n",
    "              tov_table['gm'][0:tov_table.get_nlines()])\n",
    "    pl.xtitle('radius (km)')\n",
    "    pl.ytitle('gravitational mass (Msun)')\n",
    "    plot.show()"
   ]
  },
  {
   "cell_type": "markdown",
   "id": "cbd3bded",
   "metadata": {},
   "source": [
    "For the enclosed gravitational mass, plot the relative\n",
    "difference of the exact results and that computed from\n",
    "the tov_solve class:"
   ]
  },
  {
   "cell_type": "code",
   "execution_count": 10,
   "id": "69c45734",
   "metadata": {
    "lines_to_next_cell": 1
   },
   "outputs": [
    {
     "data": {
      "image/png": "[encoded data removed]",
      "text/plain": [
       "<Figure size 432x432 with 1 Axes>"
      ]
     },
     "metadata": {},
     "output_type": "display_data"
    }
   ],
   "source": [
    "if plots:\n",
    "    pl.canvas_flag=False\n",
    "    pl.canvas()\n",
    "    plot.plot(radial_grid,rel_diff)\n",
    "    pl.xtitle('radius (km)')\n",
    "    pl.ytitle('rel. error in enclosed grav. mass')\n",
    "    plot.show()"
   ]
  },
  {
   "cell_type": "markdown",
   "id": "7f17c764",
   "metadata": {},
   "source": [
    "For testing using ``pytest``:"
   ]
  },
  {
   "cell_type": "code",
   "execution_count": 11,
   "id": "bf8fffcc",
   "metadata": {},
   "outputs": [],
   "source": [
    "def test_fun():\n",
    "    assert numpy.allclose(b.rad_from_gm(1.4),ts.rad,rtol=1.0e-9,atol=0)\n",
    "    for i in range(0,len(rel_diff)):\n",
    "        assert numpy.allclose(rel_diff[i],0.0,atol=5.0e-11)\n",
    "    return"
   ]
  }
 ],
 "metadata": {
  "jupytext": {
   "cell_metadata_filter": "-all",
   "main_language": "python",
   "notebook_metadata_filter": "-all"
  },
  "kernelspec": {
   "display_name": "Python 3 (ipykernel)",
   "language": "python",
   "name": "python3"
  },
  "language_info": {
   "codemirror_mode": {
    "name": "ipython",
    "version": 3
   },
   "file_extension": ".py",
   "mimetype": "text/x-python",
   "name": "python",
   "nbconvert_exporter": "python",
   "pygments_lexer": "ipython3",
   "version": "3.10.4"
  }
 },
 "nbformat": 4,
 "nbformat_minor": 5
}
