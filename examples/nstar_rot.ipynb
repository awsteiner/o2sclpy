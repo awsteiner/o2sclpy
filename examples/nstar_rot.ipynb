{
 "cells": [
  {
   "cell_type": "markdown",
   "id": "4b0d63b3",
   "metadata": {},
   "source": [
    "# Rotating neutron star example for O$_2$sclpy"
   ]
  },
  {
   "cell_type": "markdown",
   "id": "3b3a66ad",
   "metadata": {},
   "source": [
    "For the underlying C++ code, see the O$_2$scl documentation at\n",
    "https://awsteiner.org/code/o2scl/html. The Python wrapper,\n",
    "O$_2$sclpy, is documentated at https://awsteiner.org/code/o2sclpy.\n",
    "This rotating neutron star code is a Python wrapper to a C++ version\n",
    "which was, in turn, based on the original RNS code developed by Stergioulas\n",
    "and Morsink. See\n",
    "https://awsteiner.org/code/o2scl/html/class/nstar_rot.html for the C++ documentation and https://awsteiner.org/code/o2sclpy-dev/eos.html#class-eos-nstar-rot for the Python interface."
   ]
  },
  {
   "cell_type": "markdown",
   "id": "c807d000",
   "metadata": {},
   "source": [
    "Import necessary modules"
   ]
  },
  {
   "cell_type": "code",
   "execution_count": 1,
   "id": "b25041d9",
   "metadata": {},
   "outputs": [],
   "source": [
    "import o2sclpy\n",
    "import matplotlib.pyplot as plot\n",
    "import numpy\n",
    "import sys\n",
    "from tqdm import trange, tqdm"
   ]
  },
  {
   "cell_type": "code",
   "execution_count": 2,
   "id": "24d243ce",
   "metadata": {},
   "outputs": [],
   "source": [
    "plots=True\n",
    "if 'pytest' in sys.modules:\n",
    "    plots=False"
   ]
  },
  {
   "cell_type": "markdown",
   "id": "b12af25e",
   "metadata": {},
   "source": [
    "Get a copy (a pointer to) the O$_2$scl unit conversion object, which\n",
    "also allows access to the constant library"
   ]
  },
  {
   "cell_type": "code",
   "execution_count": 3,
   "id": "e521fb2a",
   "metadata": {},
   "outputs": [],
   "source": [
    "o2scl_settings=o2sclpy.lib_settings_class()\n",
    "cu=o2scl_settings.get_convert_units()"
   ]
  },
  {
   "cell_type": "markdown",
   "id": "230f0286-0458-4f3f-b463-37b1fea26caf",
   "metadata": {},
   "source": [
    "## Rotating configuration with a tabulated EOS"
   ]
  },
  {
   "cell_type": "markdown",
   "id": "00e48c43",
   "metadata": {},
   "source": [
    "Set up an EOS designed with the original RNS code (see\n",
    "https://awsteiner.org/code/o2scl/html/class/eos_nstar_rot_C.html for the C++ documentation and https://awsteiner.org/code/o2sclpy-dev/eos.html#class-eos-nstar-rot-c for the Python interface)."
   ]
  },
  {
   "cell_type": "code",
   "execution_count": 4,
   "id": "843fbd5f",
   "metadata": {},
   "outputs": [],
   "source": [
    "eC=o2sclpy.eos_nstar_rot_C()\n",
    "eC.set(True)"
   ]
  },
  {
   "cell_type": "markdown",
   "id": "68dd6d5c",
   "metadata": {},
   "source": [
    "Create the rotating neutron star object and set the EOS"
   ]
  },
  {
   "cell_type": "code",
   "execution_count": 5,
   "id": "e4b7222a",
   "metadata": {},
   "outputs": [],
   "source": [
    "nr=o2sclpy.nstar_rot()\n",
    "nr.verbose=1\n",
    "nr.set_eos(eC)"
   ]
  },
  {
   "cell_type": "markdown",
   "id": "7ed9ba68",
   "metadata": {},
   "source": [
    "Compute a configuration with a fixed central energy density and\n",
    "a fixed axis ratio"
   ]
  },
  {
   "cell_type": "code",
   "execution_count": 6,
   "id": "e23caea6",
   "metadata": {},
   "outputs": [],
   "source": [
    "nr.fix_cent_eden_axis_rat(2.0e15,0.59)"
   ]
  },
  {
   "cell_type": "markdown",
   "id": "5bd4bdf9",
   "metadata": {},
   "source": [
    "Obtain the output as a table3d object. See\n",
    "https://awsteiner.org/code/o2scl/html/class/table3d.html."
   ]
  },
  {
   "cell_type": "code",
   "execution_count": 7,
   "id": "da582a72",
   "metadata": {},
   "outputs": [],
   "source": [
    "t3d=o2sclpy.table3d()\n",
    "nr.output_table(t3d)"
   ]
  },
  {
   "cell_type": "markdown",
   "id": "c82a2cf9",
   "metadata": {},
   "source": [
    "Output the slice names: ed, pr, h, vsq, rho, gamma, omega, alpha.\n",
    "Each of these slices is a two-dimensional array of numbers."
   ]
  },
  {
   "cell_type": "code",
   "execution_count": 8,
   "id": "d9c1f739",
   "metadata": {},
   "outputs": [
    {
     "name": "stdout",
     "output_type": "stream",
     "text": [
      "0 b'ed'\n",
      "1 b'pr'\n",
      "2 b'h'\n",
      "3 b'vsq'\n",
      "4 b'rho'\n",
      "5 b'gamma'\n",
      "6 b'omega'\n",
      "7 b'alpha'\n"
     ]
    }
   ],
   "source": [
    "for i in range(0,t3d.get_nslices()):\n",
    "    print(i,t3d.get_slice_name(i))"
   ]
  },
  {
   "cell_type": "markdown",
   "id": "d2925bb8",
   "metadata": {},
   "source": [
    "Print out the gravitational mass"
   ]
  },
  {
   "cell_type": "code",
   "execution_count": 9,
   "id": "f89fb41e",
   "metadata": {},
   "outputs": [
    {
     "name": "stdout",
     "output_type": "stream",
     "text": [
      "Mass: 2.131250e+00\n"
     ]
    }
   ],
   "source": [
    "print('Mass: %7.6e' % (nr.Mass/nr.MSUN))"
   ]
  },
  {
   "cell_type": "markdown",
   "id": "19f147b0",
   "metadata": {},
   "source": [
    "The final pressure has noise in the region of spacetime occupied by the vacuum, but the pressure elsehwere varies by orders of magnitudes. We use use a cutoff at low pressures to remove the noise."
   ]
  },
  {
   "cell_type": "code",
   "execution_count": 10,
   "id": "6a33a85b",
   "metadata": {},
   "outputs": [],
   "source": [
    "t3d.function_slice('if(pr>1.0e-12,log10(pr),-12.0)','log10_pr')"
   ]
  },
  {
   "cell_type": "markdown",
   "id": "8c83033b",
   "metadata": {},
   "source": [
    "Plot the pressure in the internal coordinate system"
   ]
  },
  {
   "cell_type": "code",
   "execution_count": 11,
   "id": "58cfe36d",
   "metadata": {},
   "outputs": [
    {
     "data": {
      "image/png": "[encoded data removed]",
      "text/plain": [
       "<Figure size 600x600 with 2 Axes>"
      ]
     },
     "metadata": {},
     "output_type": "display_data"
    }
   ],
   "source": [
    "if plots:\n",
    "    pb=o2sclpy.plot_base()\n",
    "    pb.fig_dict='fig_size_x=6,fig_size_y=6,dpi=100'\n",
    "    pb.colbar=True\n",
    "    pb.den_plot([t3d,'log10_pr'])\n",
    "    pb.show()\n",
    "    plot.close()"
   ]
  },
  {
   "cell_type": "markdown",
   "id": "2057ff30",
   "metadata": {},
   "source": [
    "Create a new table for the output in Cartesian coordinates"
   ]
  },
  {
   "cell_type": "code",
   "execution_count": 12,
   "id": "291f818e",
   "metadata": {},
   "outputs": [],
   "source": [
    "t3db=o2sclpy.table3d()\n",
    "t3db.set_interp_type(o2sclpy.itp_linear)\n",
    "rad_eq=nr.R_e/1.0e5\n",
    "coord_grid=o2sclpy.uniform_grid_end.init(0.01,rad_eq*1.1,100)\n",
    "t3db.set_xy_grid('x',coord_grid,'z',coord_grid)\n",
    "t3db.line_of_names('ed pr')"
   ]
  },
  {
   "cell_type": "markdown",
   "id": "0520f81e",
   "metadata": {},
   "source": [
    "Interpolate into Cartesian coordinates (to interpolate 10,000 points takes a minute):"
   ]
  },
  {
   "cell_type": "code",
   "execution_count": 13,
   "id": "45cc8aed",
   "metadata": {},
   "outputs": [
    {
     "name": "stderr",
     "output_type": "stream",
     "text": [
      "100%|█████████████████████████████████████████| 101/101 [00:45<00:00,  2.24it/s]\n"
     ]
    }
   ],
   "source": [
    "for i in trange(t3db.get_nx()):\n",
    "    for j in range(0,t3db.get_ny()):\n",
    "        r=numpy.sqrt(coord_grid[i]**2+coord_grid[j]**2)\n",
    "        theta=numpy.atan(-coord_grid[j]/coord_grid[i])+numpy.pi/2.0\n",
    "        t3db.set(i,j,'ed',t3d.interp(r/(r+rad_eq),\n",
    "                                     numpy.cos(theta),'ed'))\n",
    "        t3db.set(i,j,'pr',t3d.interp(r/(r+rad_eq),\n",
    "                                     numpy.cos(theta),'pr'))"
   ]
  },
  {
   "cell_type": "markdown",
   "id": "d0790fb2-006a-4a9f-b68d-8556955fe675",
   "metadata": {},
   "source": [
    "Take the log carefully so we can plot"
   ]
  },
  {
   "cell_type": "code",
   "execution_count": 14,
   "id": "81e3421e-e0b5-4ef9-8038-8e26e068734e",
   "metadata": {},
   "outputs": [],
   "source": [
    "t3db.function_slice('if(pr>1.0e-5,log10(pr),-5.0)','log10_pr')"
   ]
  },
  {
   "cell_type": "markdown",
   "id": "c50216cf-9319-427e-9758-27efb0b4ee19",
   "metadata": {},
   "source": [
    "Plot the rotating neutron star, with the equator along the x-axis:"
   ]
  },
  {
   "cell_type": "code",
   "execution_count": 15,
   "id": "e2fe974f-da48-41f4-ad62-eb6c4e674d3e",
   "metadata": {},
   "outputs": [
    {
     "data": {
      "image/png": "[encoded data removed]",
      "text/plain": [
       "<Figure size 600x600 with 2 Axes>"
      ]
     },
     "metadata": {},
     "output_type": "display_data"
    }
   ],
   "source": [
    "if plots:\n",
    "    # Set canvas_flag=False to draw a new matplotlib canvas:\n",
    "    pb.canvas_flag=False\n",
    "    pb.den_plot([t3db,'log10_pr'])\n",
    "    pb.xtitle(r'$ x~(\\mathrm{km}) $')\n",
    "    pb.ytitle(r'$ z~(\\mathrm{km}) $')\n",
    "    pb.ttext(1.27,0.5,r'$ \\log_{10} \\left( P~[\\mathrm{fm}^{-4}] \\right) $',rotation=90)\n",
    "    pb.show()\n",
    "    plot.close()"
   ]
  },
  {
   "cell_type": "markdown",
   "id": "8decfefc-874d-4723-8a66-5d949a306e19",
   "metadata": {},
   "source": [
    "## A rotating neutron star with a more complex EOS"
   ]
  },
  {
   "cell_type": "markdown",
   "id": "ccce0b86",
   "metadata": {},
   "source": [
    "Set up the equation of state of neutron matter near the saturation density. We use the parameterization from Gandolfi et al. (2012) (https://doi.org/10.1103/PhysRevC.85.032801). The values ``a`` and ``b`` are in MeV. The saturation density, ``n0`` is in $ \\mathrm{fm}^{-3} $. We begin by setting up the basic variables."
   ]
  },
  {
   "cell_type": "code",
   "execution_count": 16,
   "id": "f6a2011c",
   "metadata": {},
   "outputs": [],
   "source": [
    "a=13\n",
    "alpha=0.49\n",
    "S=32\n",
    "L=44\n",
    "b=S-16-a\n",
    "beta=(L-3*a*alpha)/b/3\n",
    "n0=0.16"
   ]
  },
  {
   "cell_type": "markdown",
   "id": "3fd44d75",
   "metadata": {},
   "source": [
    "We compute the EOS from baryon densities of $0.08$ to $0.32~\\mathrm{fm}^{-3}$. We store EOS in a O$_2$scl ``table_units`` object (see https://awsteiner.org/code/o2scl/html/class/table_units.html). Note we store energy densities and pressures in units of $\\mathrm{fm}^{-4}$. "
   ]
  },
  {
   "cell_type": "code",
   "execution_count": 17,
   "id": "0dc8b7f3",
   "metadata": {},
   "outputs": [],
   "source": [
    "tab=o2sclpy.table_units()\n",
    "tab.line_of_names('nb ed pr')\n",
    "tab.line_of_units('1/fm^3 1/fm^4 1/fm^4')\n",
    "tab.set_nlines(25)\n",
    "for i in range(0,25):\n",
    "    nb=0.08+i*0.01\n",
    "    tab.set('nb',i,nb)\n",
    "    tab.set('ed',i,939.0/197.33*nb+(nb*a*(nb/n0)**alpha+\n",
    "                                    nb*b*(nb/n0)**beta)/197.33)\n",
    "    tab.set('pr',i,(n0*a*alpha*(nb/n0)**(1.0+alpha)+\n",
    "                    n0*b*beta*(nb/n0)**(1.0+beta))/197.33)"
   ]
  },
  {
   "cell_type": "markdown",
   "id": "f56115bb",
   "metadata": {},
   "source": [
    "Compute the energy density and pressure at the highest baryon density currently in the table."
   ]
  },
  {
   "cell_type": "code",
   "execution_count": 18,
   "id": "b18496fe-1b6e-4a87-953d-b9f54ea5ad7e",
   "metadata": {},
   "outputs": [],
   "source": [
    "#         n1=3.11681476319e-01\n",
    " #       nbtrans=4.31297304991e-01\n",
    "#        n2=3.61608550927e+00\n"
   ]
  },
  {
   "cell_type": "code",
   "execution_count": 19,
   "id": "428cc642",
   "metadata": {},
   "outputs": [],
   "source": [
    "ed32=tab.get('ed',tab.get_nlines()-1)\n",
    "pr32=tab.get('pr',tab.get_nlines()-1)"
   ]
  },
  {
   "cell_type": "markdown",
   "id": "029cd5be",
   "metadata": {},
   "source": [
    "Beginning at $n_B=0.32$, we create a polytrope, with an index of $0.8$. (See https://awsteiner.org/code/o2scl/html/class/eos_tov_polytrope.html.) The coefficient is fixed by ensuring that the energy density and pressure from the lower-density EOS are matched. We use this polytrope up to a transition density of $n_B=0.64~\\mathrm{fm}^{-3}$."
   ]
  },
  {
   "cell_type": "code",
   "execution_count": 20,
   "id": "48d9ae82-99db-4490-b033-d1215ab7d1d5",
   "metadata": {},
   "outputs": [],
   "source": [
    "n1=3.11681476319e-01\n",
    "coeff1=pr32/ed32**(1.0+1.0/n1)\n",
    "p1=o2sclpy.eos_tov_polytrope()\n",
    "p1.set_coeff_index(coeff1,n1)\n",
    "p1.set_baryon_density(0.32,ed32)\n",
    "nbtrans=4.31297304991e-01"
   ]
  },
  {
   "cell_type": "markdown",
   "id": "0b1bb6c7",
   "metadata": {},
   "source": [
    "Loop over baryon densities and add the polytrope to the table object:"
   ]
  },
  {
   "cell_type": "code",
   "execution_count": 21,
   "id": "d15f50dc",
   "metadata": {},
   "outputs": [],
   "source": [
    "for i in range(1,33):\n",
    "    nb=0.32+i*(nbtrans-0.32)/32\n",
    "    tab.line_of_data([nb,p1.ed_from_nb(nb),p1.pr_from_nb(nb)])"
   ]
  },
  {
   "cell_type": "markdown",
   "id": "e89d6b27",
   "metadata": {},
   "source": [
    "Record the last energy density and pressure so we can add another polytrope:"
   ]
  },
  {
   "cell_type": "code",
   "execution_count": 22,
   "id": "a6e6c0d2",
   "metadata": {},
   "outputs": [],
   "source": [
    "edlast=tab.get('ed',tab.get_nlines()-1)\n",
    "prlast=tab.get('pr',tab.get_nlines()-1)"
   ]
  },
  {
   "cell_type": "markdown",
   "id": "f0f8b9dc",
   "metadata": {},
   "source": [
    "Set up the polytrope:"
   ]
  },
  {
   "cell_type": "code",
   "execution_count": 23,
   "id": "3789e953",
   "metadata": {},
   "outputs": [],
   "source": [
    "n2=3.61608550927e+00\n",
    "coeff2=prlast/edlast**(1.0+1.0/n2)\n",
    "p2=o2sclpy.eos_tov_polytrope()\n",
    "p2.set_coeff_index(coeff2,n2)\n",
    "p2.set_baryon_density(nbtrans,edlast)"
   ]
  },
  {
   "cell_type": "markdown",
   "id": "87aaabe6",
   "metadata": {},
   "source": [
    "We extend this to a very large baryon density, $n_B=1.5~\\mathrm{fm}^{-3}$:"
   ]
  },
  {
   "cell_type": "code",
   "execution_count": 24,
   "id": "8972a073",
   "metadata": {},
   "outputs": [],
   "source": [
    "for i in range(1,33):\n",
    "    nb=nbtrans+i*(1.5-nbtrans)/32\n",
    "    tab.line_of_data([nb,p2.ed_from_nb(nb),p2.pr_from_nb(nb)])"
   ]
  },
  {
   "cell_type": "markdown",
   "id": "e50a1f1a",
   "metadata": {},
   "source": [
    "Plot the EOS, indicating the points where the different EOS parts connect."
   ]
  },
  {
   "cell_type": "code",
   "execution_count": 25,
   "id": "80c2722b",
   "metadata": {},
   "outputs": [
    {
     "data": {
      "image/png": "[encoded data removed]",
      "text/plain": [
       "<Figure size 600x600 with 1 Axes>"
      ]
     },
     "metadata": {},
     "output_type": "display_data"
    }
   ],
   "source": [
    "if plots:\n",
    "    # Set canvas_flag=False to draw a new matplotlib canvas:\n",
    "    pb.canvas_flag=False\n",
    "    pb.colbar=False\n",
    "    pb.logx=False\n",
    "    pb.logy=True\n",
    "    pb.plot([tab,'ed','pr'])\n",
    "    pb.xtitle(r'$ \\varepsilon~(\\mathrm{fm}^{-4}) $')\n",
    "    pb.ytitle(r'$ P~(\\mathrm{fm}^{-4}) $')\n",
    "    pb.point(ed32,pr32,marker='+')\n",
    "    pb.point(edlast,prlast,marker='+')\n",
    "    pb.show()\n",
    "    plot.close()"
   ]
  },
  {
   "cell_type": "markdown",
   "id": "df0f93eb",
   "metadata": {},
   "source": [
    "Construct an EOS object for the TOV solver (see https://awsteiner.org/code/o2scl/html/class/eos_tov_interp.html for the C++ documentation and https://awsteiner.org/code/o2sclpy-dev/eos.html#class-eos-tov-interp for the Python interface). Add the default neutron star crust."
   ]
  },
  {
   "cell_type": "code",
   "execution_count": 26,
   "id": "f4d90808-ad64-49ed-9823-100a4f1952fd",
   "metadata": {
    "scrolled": true
   },
   "outputs": [],
   "source": [
    "eti=o2sclpy.eos_tov_interp()\n",
    "eti.default_low_dens_eos()\n",
    "eti.read_table(tab,'ed','pr','nb')\n",
    "eti_ed=eti.get_full_vece().to_numpy()\n",
    "eti_pr=eti.get_full_vecp().to_numpy()"
   ]
  },
  {
   "cell_type": "markdown",
   "id": "a92e1439-6e08-4327-b64a-f650d4acbbb6",
   "metadata": {},
   "source": [
    "Plot the full EOS, with the crust"
   ]
  },
  {
   "cell_type": "code",
   "execution_count": 27,
   "id": "0a7487a5-d91c-4d88-a338-8f379481bd2f",
   "metadata": {},
   "outputs": [
    {
     "data": {
      "image/png": "[encoded data removed]",
      "text/plain": [
       "<Figure size 600x600 with 1 Axes>"
      ]
     },
     "metadata": {},
     "output_type": "display_data"
    }
   ],
   "source": [
    "if plots:\n",
    "    # Set canvas_flag=False to draw a new matplotlib canvas:\n",
    "    pb.canvas_flag=False\n",
    "    pb.logx=True\n",
    "    pb.logy=True\n",
    "    pb.plot([eti_ed,eti_pr])\n",
    "    pb.xtitle(r'$ \\varepsilon~(\\mathrm{fm}^{-4}) $')\n",
    "    pb.ytitle(r'$ P~(\\mathrm{fm}^{-4}) $')\n",
    "    pb.show()\n",
    "    plot.close()"
   ]
  },
  {
   "cell_type": "markdown",
   "id": "99a6077a-26d8-46e2-9b11-0e06305a1882",
   "metadata": {},
   "source": [
    "Compute the full mass-radius curve with the nonrotating TOV solver (see https://awsteiner.org/code/o2scl/html/tov_solve.html and https://awsteiner.org/code/o2sclpy/eos.html#class-tov-solve):"
   ]
  },
  {
   "cell_type": "code",
   "execution_count": 28,
   "id": "5bf3a53c-1e02-47cc-92a7-9ee1126be1b3",
   "metadata": {},
   "outputs": [
    {
     "data": {
      "text/plain": [
       "0"
      ]
     },
     "execution_count": 28,
     "metadata": {},
     "output_type": "execute_result"
    }
   ],
   "source": [
    "ts=o2sclpy.tov_solve()\n",
    "ts.set_eos(eti)\n",
    "ts.verbose=0\n",
    "ts.mvsr()"
   ]
  },
  {
   "cell_type": "markdown",
   "id": "3376d44d-b00c-408c-b5fb-fbb62e2e896c",
   "metadata": {},
   "source": [
    "The results are stored in a ``table_units`` object. We delete table rows larger than the maximum mass."
   ]
  },
  {
   "cell_type": "code",
   "execution_count": 29,
   "id": "abbf1a24",
   "metadata": {},
   "outputs": [],
   "source": [
    "nonrot=ts.get_results()\n",
    "prmax=nonrot.get('pr',nonrot.lookup('gm',nonrot.max('gm')))\n",
    "nonrot.delete_rows_func('pr>'+str(prmax))"
   ]
  },
  {
   "cell_type": "markdown",
   "id": "05a3686c-a8ea-4b74-959c-458efcb760e0",
   "metadata": {},
   "source": [
    "Plot the mass-radius curve"
   ]
  },
  {
   "cell_type": "code",
   "execution_count": 30,
   "id": "bdfbf003-144e-4ccc-b8d6-34d20e187c33",
   "metadata": {},
   "outputs": [
    {
     "data": {
      "image/png": "[encoded data removed]",
      "text/plain": [
       "<Figure size 600x600 with 1 Axes>"
      ]
     },
     "metadata": {},
     "output_type": "display_data"
    }
   ],
   "source": [
    "if plots:\n",
    "    # Set canvas_flag=False to draw a new matplotlib canvas:\n",
    "    pb.canvas_flag=False\n",
    "    pb.colbar=False\n",
    "    pb.logx=False\n",
    "    pb.logy=False\n",
    "    pb.plot([nonrot,'r','gm'])\n",
    "    pb.xtitle(r'$ R~(\\mathrm{km}) $')\n",
    "    pb.ytitle(r'$ M~(\\mathrm{M}_{\\odot}) $')\n",
    "    pb.show()\n",
    "    plot.close()"
   ]
  },
  {
   "cell_type": "markdown",
   "id": "f25254f8",
   "metadata": {},
   "source": [
    "Compute the central energy density of the maximum mass star. Confert to different units."
   ]
  },
  {
   "cell_type": "code",
   "execution_count": 31,
   "id": "ac930a2f",
   "metadata": {},
   "outputs": [
    {
     "name": "stdout",
     "output_type": "stream",
     "text": [
      "edmax: 9.423201e-04 b'Msun/km^3'\n",
      "     = 5.326586e+00 1/fm^4\n"
     ]
    }
   ],
   "source": [
    "edmax=nonrot.max('ed')\n",
    "print('edmax: %7.6e %s' %(edmax,nonrot.get_unit('ed')))\n",
    "edmax2=cu.convert('Msun/km^3','1/fm^4',edmax)\n",
    "print('     = %7.6e 1/fm^4' %(edmax2))"
   ]
  },
  {
   "cell_type": "markdown",
   "id": "a83bbe05",
   "metadata": {},
   "source": [
    "Compute the speed of sound over the entire table, and then also the maximum value of the speed of sound in the maximum mass star:"
   ]
  },
  {
   "cell_type": "code",
   "execution_count": 34,
   "id": "38429d25",
   "metadata": {},
   "outputs": [
    {
     "name": "stdout",
     "output_type": "stream",
     "text": [
      "cs2_max: 8.121636e-01\n"
     ]
    }
   ],
   "source": [
    "tab.deriv_col('ed','pr','cs2')\n",
    "cs2_max=0\n",
    "for i in range(0,tab.get_nlines()):\n",
    "    #print(i,tab.get('ed',i),edmax2,tab.get('cs2',i))\n",
    "    if tab.get('ed',i)<edmax2 and tab.get('cs2',i)>cs2_max:\n",
    "        cs2_max=tab.get('cs2',i)\n",
    "print('cs2_max: %7.6e' %(cs2_max))"
   ]
  },
  {
   "cell_type": "markdown",
   "id": "e37a8d31",
   "metadata": {},
   "source": [
    "The radius of a 1.4 solar mass neutron star"
   ]
  },
  {
   "cell_type": "code",
   "execution_count": 35,
   "id": "b436ae16",
   "metadata": {},
   "outputs": [
    {
     "name": "stdout",
     "output_type": "stream",
     "text": [
      "rad14 1.238311e+01\n"
     ]
    }
   ],
   "source": [
    "rad14=nonrot.interp('gm',1.4,'r')\n",
    "print('rad14 %7.6e' % (rad14))"
   ]
  },
  {
   "cell_type": "markdown",
   "id": "3b6e5f60",
   "metadata": {},
   "source": [
    "We need to reformulate the EOS for the rotating neutron star object:"
   ]
  },
  {
   "cell_type": "code",
   "execution_count": 36,
   "id": "023601fe",
   "metadata": {},
   "outputs": [],
   "source": [
    "enri=o2sclpy.eos_nstar_rot_interp()\n",
    "edv=o2sclpy.std_vector()    \n",
    "prv=o2sclpy.std_vector()    \n",
    "nbv=o2sclpy.std_vector()"
   ]
  },
  {
   "cell_type": "markdown",
   "id": "6e32e983",
   "metadata": {},
   "source": [
    "Add all of the rows in the table to the EOS object:"
   ]
  },
  {
   "cell_type": "code",
   "execution_count": 38,
   "id": "ef092359",
   "metadata": {},
   "outputs": [],
   "source": [
    "for i in range(0,tab.get_nlines()):\n",
    "    edv.push_back(tab.get('ed',i))\n",
    "    prv.push_back(tab.get('pr',i))\n",
    "    nbv.push_back(tab.get('nb',i))\n",
    "enri.set_eos_fm(tab.get_nlines(),edv,prv,nbv)"
   ]
  },
  {
   "cell_type": "markdown",
   "id": "3df0d89b",
   "metadata": {},
   "source": [
    "Construct a configuration with a specified central energy density\n",
    "and axis ratio"
   ]
  },
  {
   "cell_type": "code",
   "execution_count": 39,
   "id": "6954a472",
   "metadata": {},
   "outputs": [],
   "source": [
    "nr=o2sclpy.nstar_rot()\n",
    "nr.verbose=1\n",
    "nr.set_eos(enri)\n",
    "nr.fix_cent_eden_axis_rat(2.0e15,0.59)"
   ]
  },
  {
   "cell_type": "markdown",
   "id": "47904477-ee0a-42c3-8ef5-5ed398fb034b",
   "metadata": {},
   "source": [
    "Output the gravitational mass of this configuration:"
   ]
  },
  {
   "cell_type": "code",
   "execution_count": 42,
   "id": "c49dd340",
   "metadata": {
    "lines_to_next_cell": 2
   },
   "outputs": [
    {
     "name": "stdout",
     "output_type": "stream",
     "text": [
      "Mass: 2.485506e+00\n"
     ]
    }
   ],
   "source": [
    "print('Mass: %7.6e' % (nr.Mass/nr.MSUN))"
   ]
  },
  {
   "cell_type": "code",
   "execution_count": null,
   "id": "a30950e5-3fc1-4a9e-ba18-ca8aa82ce5a3",
   "metadata": {},
   "outputs": [],
   "source": []
  }
 ],
 "metadata": {
  "jupytext": {
   "cell_metadata_filter": "-all",
   "main_language": "python",
   "notebook_metadata_filter": "-all"
  },
  "kernelspec": {
   "display_name": "Python 3 (ipykernel)",
   "language": "python",
   "name": "python3"
  },
  "language_info": {
   "codemirror_mode": {
    "name": "ipython",
    "version": 3
   },
   "file_extension": ".py",
   "mimetype": "text/x-python",
   "name": "python",
   "nbconvert_exporter": "python",
   "pygments_lexer": "ipython3",
   "version": "3.12.3"
  }
 },
 "nbformat": 4,
 "nbformat_minor": 5
}
