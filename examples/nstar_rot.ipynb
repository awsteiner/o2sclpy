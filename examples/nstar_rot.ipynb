{
 "cells": [
  {
   "cell_type": "markdown",
   "id": "ee023138",
   "metadata": {},
   "source": [
    "# Rotating neutron star example for O$_2$sclpy"
   ]
  },
  {
   "cell_type": "markdown",
   "id": "625b9961",
   "metadata": {},
   "source": [
    "See the O$_2$scl documentation at https://awsteiner.org/code/o2scl/html and the O$_2$sclpy documentation at https://awsteiner.org/code/o2sclpy for more information. This rotating neutron star code is a Python wrapper to a C++ version which was based on the original RNS code developed by Stergioulas and Morsink. See https://awsteiner.org/code/o2scl/html/class/nstar_rot.html."
   ]
  },
  {
   "cell_type": "code",
   "execution_count": 2,
   "id": "1d1ade65",
   "metadata": {},
   "outputs": [],
   "source": [
    "import o2sclpy\n",
    "import matplotlib.pyplot as plot\n",
    "import numpy\n",
    "import sys\n",
    "\n",
    "plots=True\n",
    "if 'pytest' in sys.modules:\n",
    "    plots=False"
   ]
  },
  {
   "cell_type": "markdown",
   "id": "1843f6ed",
   "metadata": {},
   "source": [
    "Get a copy (a pointer to) the O$_2$scl unit conversion object,\n",
    "which also allows access to the constant library"
   ]
  },
  {
   "cell_type": "code",
   "execution_count": 3,
   "id": "79f21abc",
   "metadata": {},
   "outputs": [],
   "source": [
    "o2scl_settings=o2sclpy.lib_settings_class()\n",
    "cu=o2scl_settings.get_convert_units()"
   ]
  },
  {
   "cell_type": "markdown",
   "id": "2dd392a3-81e9-4200-896d-e3bfaa1bc07d",
   "metadata": {},
   "source": [
    "Set up an EOS designed with the original RNS code (see https://awsteiner.org/code/o2scl/html/class/eos_nstar_rot_C.html)"
   ]
  },
  {
   "cell_type": "code",
   "execution_count": 4,
   "id": "92e51e56-1cee-4838-b561-ca2a9bcdd61f",
   "metadata": {},
   "outputs": [],
   "source": [
    "eC=o2sclpy.eos_nstar_rot_C()\n",
    "eC.set(True)"
   ]
  },
  {
   "cell_type": "markdown",
   "id": "3d413d4c-c30e-4808-bdd6-1509d6bb5346",
   "metadata": {},
   "source": [
    "Create the rotating neutron star object and set the EOS"
   ]
  },
  {
   "cell_type": "code",
   "execution_count": null,
   "id": "6eeb2424-8ce4-42c8-9d33-e2d8d873740a",
   "metadata": {},
   "outputs": [],
   "source": [
    "nr=o2sclpy.nstar_rot()\n",
    "nr.verbose=1\n",
    "nr.set_eos(eC)"
   ]
  },
  {
   "cell_type": "code",
   "execution_count": null,
   "id": "82159907-7292-4660-9f5e-d2ba86601f65",
   "metadata": {},
   "outputs": [],
   "source": [
    "nr.fix_cent_eden_axis_rat(2.0e15,0.59)"
   ]
  },
  {
   "cell_type": "markdown",
   "id": "fc9b4d3c-4e34-40ef-a685-ae52affa4f84",
   "metadata": {},
   "source": [
    "Obtain the output table3d object    "
   ]
  },
  {
   "cell_type": "code",
   "execution_count": null,
   "id": "b4501714-fa11-48a3-b1cc-c544351962c7",
   "metadata": {},
   "outputs": [],
   "source": [
    "t3d=o2sclpy.table3d()\n",
    "nr.output_table(t3d)\n",
    "    "
   ]
  },
  {
   "cell_type": "markdown",
   "id": "ced93b3d-abb2-4be7-98a2-620d7b207110",
   "metadata": {},
   "source": [
    "Output the slice names: ed, pr, h, vsq, rho, gamma, omega, alpha"
   ]
  },
  {
   "cell_type": "code",
   "execution_count": null,
   "id": "cc680211-c8ee-4384-a4c3-0160e528883e",
   "metadata": {},
   "outputs": [],
   "source": [
    "    for i in range(0,t3d.get_nslices()):\n",
    "        print(i,t3d.get_slice_name(i))\n",
    "    "
   ]
  },
  {
   "cell_type": "markdown",
   "id": "f9cd8f1b-f878-4503-8a4c-5a161a1d1840",
   "metadata": {},
   "source": [
    "Print out the gravitational mass\n",
    "        "
   ]
  },
  {
   "cell_type": "code",
   "execution_count": null,
   "id": "2fba5e11-0bd8-4fb9-90b5-8b69c5977131",
   "metadata": {},
   "outputs": [],
   "source": [
    "    print('Mass: %7.6e' % (nr.Mass/nr.MSUN))"
   ]
  },
  {
   "cell_type": "markdown",
   "id": "3b3219db-e67d-4a80-975a-3032fdeebad8",
   "metadata": {},
   "source": [
    "    # The the log carefully so we can plot\n",
    "    "
   ]
  },
  {
   "cell_type": "code",
   "execution_count": null,
   "id": "dc5badb1-f722-4f87-ab09-f709902dd44e",
   "metadata": {},
   "outputs": [],
   "source": [
    "    t3d.function_slice('if(pr>1.0e-12,log10(pr),-12.0)','log10_pr')\n",
    "    "
   ]
  },
  {
   "cell_type": "markdown",
   "id": "80211fd3-dde6-41ea-989f-823a0dc4e6d2",
   "metadata": {},
   "source": [
    "    # Plot the pressure output\n",
    "    "
   ]
  },
  {
   "cell_type": "code",
   "execution_count": null,
   "id": "4588a147-d48e-49b7-bb0c-e0685e97060f",
   "metadata": {},
   "outputs": [],
   "source": [
    "    if plots:\n",
    "        pb=o2sclpy.plot_base()\n",
    "        pb.colbar=True\n",
    "        pb.den_plot([t3d,'log10_pr'])\n",
    "        pb.save('nr1.png')\n",
    "        plot.close()\n",
    "    "
   ]
  },
  {
   "cell_type": "markdown",
   "id": "b66e87ec-3b67-4945-8e6b-7bde22159409",
   "metadata": {},
   "source": [
    "    # Create a new table for the output in Cartesian coordinates"
   ]
  },
  {
   "cell_type": "code",
   "execution_count": null,
   "id": "d5a75bfb-d769-4e8c-8653-311a99c68879",
   "metadata": {},
   "outputs": [],
   "source": [
    "    t3db=o2sclpy.table3d()\n",
    "    t3db.set_interp_type(o2sclpy.itp_linear)\n",
    "    rad_eq=nr.R_e/1.0e5\n",
    "    coord_grid=o2sclpy.uniform_grid_end.init(0.01,rad_eq*1.1,100)\n",
    "    t3db.set_xy_grid('x',coord_grid,'z',coord_grid)\n",
    "    t3db.line_of_names('ed pr')"
   ]
  },
  {
   "cell_type": "markdown",
   "id": "c8335c9b-0d95-4c39-9fdd-e4ed8aacaf3a",
   "metadata": {},
   "source": [
    "    # Interpolate into the Cartesian coordinates\n",
    "    "
   ]
  },
  {
   "cell_type": "code",
   "execution_count": null,
   "id": "c230013e-bce1-4fbb-bdfa-d2ddadd3ea2b",
   "metadata": {},
   "outputs": [],
   "source": [
    "    for i in range(0,t3db.get_nx()):\n",
    "        for j in range(0,t3db.get_ny()):\n",
    "            r=numpy.sqrt(coord_grid[i]**2+coord_grid[j]**2)\n",
    "            theta=numpy.atan(-coord_grid[j]/coord_grid[i])+numpy.pi/2.0\n",
    "            t3db.set(i,j,'ed',t3d.interp(r/(r+rad_eq),\n",
    "                                         numpy.cos(theta),'ed'))\n",
    "            t3db.set(i,j,'pr',t3d.interp(r/(r+rad_eq),\n",
    "                                         numpy.cos(theta),'pr'))\n",
    "    "
   ]
  },
  {
   "cell_type": "markdown",
   "id": "63d542dc-64f1-49cf-923e-c801db6195c3",
   "metadata": {},
   "source": [
    "    # The the log carefully so we can plot\n",
    "    "
   ]
  },
  {
   "cell_type": "code",
   "execution_count": null,
   "id": "4a4d8301-2f6e-406e-aafa-0669eff69c62",
   "metadata": {},
   "outputs": [],
   "source": [
    "    t3db.function_slice('if(pr>1.0e-5,log10(pr),-5.0)','log10_pr')\n",
    "     "
   ]
  },
  {
   "cell_type": "markdown",
   "id": "6bfaa70b-5ff1-4cd9-a5ed-27e34a1823bf",
   "metadata": {},
   "source": [
    "   \n",
    "    # Plot the rotating star\n",
    "    "
   ]
  },
  {
   "cell_type": "code",
   "execution_count": null,
   "id": "4b6eff0d-fae6-4ade-bec5-11ba1042566e",
   "metadata": {},
   "outputs": [],
   "source": [
    "    if plots:\n",
    "        pb=o2sclpy.plot_base()\n",
    "        pb.fig_dict='dpi=250'\n",
    "        pb.colbar=True\n",
    "        pb.den_plot([t3db,'log10_pr'])\n",
    "        pb.save('nr2.png')\n",
    "        plot.close()"
   ]
  },
  {
   "cell_type": "code",
   "execution_count": null,
   "id": "9633111c",
   "metadata": {},
   "outputs": [],
   "source": [
    "    \n",
    "    # Set up the EOS\n",
    "\n",
    "    a=13\n",
    "    alpha=0.49\n",
    "    S=32\n",
    "    L=44\n",
    "    b=S-16-a\n",
    "    beta=(L-3*a*alpha)/b/3\n",
    "    n0=0.16\n",
    "    print('b,beta:',b,beta)\n",
    "\n",
    "    tab=o2sclpy.table_units()\n",
    "    tab.line_of_names('nb ed pr')\n",
    "    tab.line_of_units('1/fm^3 1/fm^4 1/fm^4')\n",
    "    tab.set_nlines(25)\n",
    "    for i in range(0,25):\n",
    "        print('i',i)\n",
    "        nb=0.08+i*0.01\n",
    "        tab.set('nb',i,nb)\n",
    "        tab.set('ed',i,939.0/197.33*nb+(nb*a*(nb/n0)**alpha+\n",
    "                                        nb*b*(nb/n0)**beta)/197.33)\n",
    "        tab.set('pr',i,(n0*a*alpha*(nb/n0)**(1.0+alpha)+\n",
    "                        n0*b*beta*(nb/n0)**(1.0+beta))/197.33)\n",
    "\n",
    "    ed32=tab.get('ed',tab.get_nlines()-1)\n",
    "    pr32=tab.get('pr',tab.get_nlines()-1)\n",
    "\n",
    "    n1=0.8\n",
    "    coeff1=pr32/ed32**(1.0+1.0/n1)\n",
    "    p1=o2sclpy.eos_tov_polytrope()\n",
    "    p1.set_coeff_index(coeff1,n1)\n",
    "    p1.set_baryon_density(0.32,ed32)\n",
    "\n",
    "    nbtrans=0.64\n",
    "\n",
    "    for i in range(1,33):\n",
    "        nb=0.32+i*(nbtrans-0.32)/32\n",
    "        tab.line_of_data([nb,p1.ed_from_nb(nb),p1.pr_from_nb(nb)])\n",
    "\n",
    "    edlast=tab.get('ed',tab.get_nlines()-1)\n",
    "    prlast=tab.get('pr',tab.get_nlines()-1)\n",
    "\n",
    "    n2=0.7\n",
    "    coeff2=prlast/edlast**(1.0+1.0/n2)\n",
    "    p2=o2sclpy.eos_tov_polytrope()\n",
    "    p2.set_coeff_index(coeff2,n2)\n",
    "    p2.set_baryon_density(nbtrans,edlast)\n",
    "    \n",
    "    for i in range(1,33):\n",
    "        nb=nbtrans+i*(1.5-nbtrans)/32\n",
    "        tab.line_of_data([nb,p2.ed_from_nb(nb),p2.pr_from_nb(nb)])\n",
    "        \n",
    "    for i in range(0,tab.get_nlines()):\n",
    "        print('%7.6e %7.6e %7.6e' % (tab.get('nb',i),tab.get('ed',i),\n",
    "                                     tab.get('pr',i)))\n",
    "\n",
    "    eti=o2sclpy.eos_tov_interp()\n",
    "    eti.default_low_dens_eos()\n",
    "    eti.read_table(tab,'ed','pr','nb')\n",
    "    ts=o2sclpy.tov_solve()\n",
    "    ts.set_eos(eti)\n",
    "    ts.verbose=1\n",
    "    ts.mvsr()\n",
    "\n",
    "    # Delete table rows larger than the maximum mass\n",
    "    nonrot=ts.get_results()\n",
    "    prmax=nonrot.get('pr',nonrot.lookup('gm',nonrot.max('gm')))\n",
    "    nonrot.delete_rows_func('pr>'+str(prmax))\n",
    "\n",
    "    edmax=nonrot.max('ed')\n",
    "    print('edmax',edmax,nonrot.get_unit('ed'))\n",
    "    edmax2=cu.convert('Msun/km^3','1/fm^4',edmax)\n",
    "    print('edmax2',edmax2,'1/fm^4')\n",
    "    tab.deriv_col('ed','pr','cs2')\n",
    "    cs2_max=0\n",
    "    for i in range(0,tab.get_nlines()):\n",
    "        print(i,tab.get('ed',i),edmax2,tab.get('cs2',i))\n",
    "        if tab.get('ed',i)<edmax2 and tab.get('cs2',i)>cs2_max:\n",
    "            cs2_max=tab.get('cs2',i)\n",
    "    print('cs2_max',cs2_max)\n",
    "\n",
    "    # The radius of a 1.4 solar mass neutron star\n",
    "    rad14=nonrot.interp('gm',1.4,'r')\n",
    "    print('rad14 %7.6e' % (rad14))\n",
    "\n",
    "    enri=o2sclpy.eos_nstar_rot_interp()\n",
    "    edv=o2sclpy.std_vector()    \n",
    "    prv=o2sclpy.std_vector()    \n",
    "    nbv=o2sclpy.std_vector()\n",
    "    for i in range(0,tab.get_nlines()):\n",
    "        edv.push_back(tab.get('ed',i))\n",
    "        prv.push_back(tab.get('pr',i))\n",
    "        nbv.push_back(tab.get('nb',i))\n",
    "    enri.set_eos_fm(tab.get_nlines(),edv,prv,nbv)\n",
    "    \n",
    "    # Construct a configuration with a specified central energy density\n",
    "    # and axis ratio\n",
    "    \n",
    "    nr=o2sclpy.nstar_rot()\n",
    "    nr.verbose=1\n",
    "    nr.set_eos(enri)\n",
    "    nr.fix_cent_eden_axis_rat(2.0e15,0.59)\n",
    "        \n",
    "    print('Mass: %7.6e' % (nr.Mass/nr.MSUN))\n",
    "    "
   ]
  }
 ],
 "metadata": {
  "jupytext": {
   "cell_metadata_filter": "-all",
   "main_language": "python",
   "notebook_metadata_filter": "-all"
  },
  "kernelspec": {
   "display_name": "Python 3 (ipykernel)",
   "language": "python",
   "name": "python3"
  },
  "language_info": {
   "codemirror_mode": {
    "name": "ipython",
    "version": 3
   },
   "file_extension": ".py",
   "mimetype": "text/x-python",
   "name": "python",
   "nbconvert_exporter": "python",
   "pygments_lexer": "ipython3",
   "version": "3.12.3"
  }
 },
 "nbformat": 4,
 "nbformat_minor": 5
}
