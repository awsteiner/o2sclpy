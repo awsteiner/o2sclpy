{
 "cells": [
  {
   "cell_type": "markdown",
   "id": "8a794792",
   "metadata": {},
   "source": [
    "# Rotating neutron star example for O$_2$sclpy"
   ]
  },
  {
   "cell_type": "markdown",
   "id": "e305cbc6",
   "metadata": {},
   "source": [
    "For the underlying C++ code, see the O$_2$scl documentation at https://awsteiner.org/code/o2scl/html. The Python wrapper, O$_2$sclpy, is documentated at https://awsteiner.org/code/o2sclpy. This rotating neutron star code is a Python wrapper to a C++ version which was based on the original RNS code developed by Stergioulas and Morsink. See https://awsteiner.org/code/o2scl/html/class/nstar_rot.html."
   ]
  },
  {
   "cell_type": "code",
   "execution_count": null,
   "id": "a592f86e",
   "metadata": {},
   "outputs": [],
   "source": [
    "# Imports\n",
    "import o2sclpy\n",
    "import matplotlib.pyplot as plot\n",
    "import numpy\n",
    "import sys"
   ]
  },
  {
   "cell_type": "code",
   "execution_count": null,
   "id": "9802880e",
   "metadata": {},
   "outputs": [],
   "source": [
    "plots=True\n",
    "if 'pytest' in sys.modules:\n",
    "    plots=False"
   ]
  },
  {
   "cell_type": "code",
   "execution_count": null,
   "id": "dda99ae9",
   "metadata": {},
   "outputs": [],
   "source": [
    "# Get a copy (a pointer to) the O$_2$scl unit conversion object, which\n",
    "# also allows access to the constant library\n",
    "o2scl_settings=o2sclpy.lib_settings_class()\n",
    "cu=o2scl_settings.get_convert_units()"
   ]
  },
  {
   "cell_type": "code",
   "execution_count": null,
   "id": "49d2dcad",
   "metadata": {},
   "outputs": [],
   "source": [
    "# Set up an EOS designed with the original RNS code (see\n",
    "# https://awsteiner.org/code/o2scl/html/class/eos_nstar_rot_C.html)\n",
    "eC=o2sclpy.eos_nstar_rot_C()\n",
    "eC.set(True)"
   ]
  },
  {
   "cell_type": "code",
   "execution_count": null,
   "id": "a1ed23d6",
   "metadata": {},
   "outputs": [],
   "source": [
    "# Create the rotating neutron star object and set the EOS\n",
    "nr=o2sclpy.nstar_rot()\n",
    "nr.verbose=1\n",
    "nr.set_eos(eC)"
   ]
  },
  {
   "cell_type": "code",
   "execution_count": null,
   "id": "00c2a39c",
   "metadata": {},
   "outputs": [],
   "source": [
    "# Compute a configuration with a fixed central energy density and\n",
    "# a fixed axis ratio\n",
    "nr.fix_cent_eden_axis_rat(2.0e15,0.59)"
   ]
  },
  {
   "cell_type": "code",
   "execution_count": null,
   "id": "4cbb527c",
   "metadata": {},
   "outputs": [],
   "source": [
    "# Obtain the output as a table3d object. See\n",
    "# https://awsteiner.org/code/o2scl/html/class/table3d.html.\n",
    "t3d=o2sclpy.table3d()\n",
    "nr.output_table(t3d)"
   ]
  },
  {
   "cell_type": "code",
   "execution_count": null,
   "id": "909cfd36",
   "metadata": {},
   "outputs": [],
   "source": [
    "# Output the slice names: ed, pr, h, vsq, rho, gamma, omega, alpha.\n",
    "# Each of these slices is a two-dimensional array of numbers.\n",
    "for i in range(0,t3d.get_nslices()):\n",
    "    print(i,t3d.get_slice_name(i))"
   ]
  },
  {
   "cell_type": "code",
   "execution_count": null,
   "id": "dc1b8cba",
   "metadata": {},
   "outputs": [],
   "source": [
    "# Print out the gravitational mass\n",
    "print('Mass: %7.6e' % (nr.Mass/nr.MSUN))"
   ]
  },
  {
   "cell_type": "code",
   "execution_count": null,
   "id": "60a497f7",
   "metadata": {},
   "outputs": [],
   "source": [
    "# Take the log carefully so we can plot\n",
    "t3d.function_slice('if(pr>1.0e-12,log10(pr),-12.0)','log10_pr')"
   ]
  },
  {
   "cell_type": "code",
   "execution_count": null,
   "id": "d46ff530",
   "metadata": {},
   "outputs": [],
   "source": [
    "# Plot the pressure in the internal coordinate system\n",
    "if plots:\n",
    "    pb=o2sclpy.plot_base()\n",
    "    pb.colbar=True\n",
    "    pb.den_plot([t3d,'log10_pr'])\n",
    "    pb.save('nr1.png')\n",
    "    plot.close()"
   ]
  },
  {
   "cell_type": "code",
   "execution_count": null,
   "id": "4938e1dc",
   "metadata": {
    "lines_to_next_cell": 0
   },
   "outputs": [],
   "source": [
    "# Create a new table for the output in Cartesian coordinates"
   ]
  },
  {
   "cell_type": "code",
   "execution_count": null,
   "id": "60bf4501",
   "metadata": {},
   "outputs": [],
   "source": [
    "t3db=o2sclpy.table3d()\n",
    "t3db.set_interp_type(o2sclpy.itp_linear)\n",
    "rad_eq=nr.R_e/1.0e5\n",
    "coord_grid=o2sclpy.uniform_grid_end.init(0.01,rad_eq*1.1,100)\n",
    "t3db.set_xy_grid('x',coord_grid,'z',coord_grid)\n",
    "t3db.line_of_names('ed pr')"
   ]
  },
  {
   "cell_type": "code",
   "execution_count": null,
   "id": "0b60cf4d",
   "metadata": {
    "lines_to_next_cell": 0
   },
   "outputs": [],
   "source": [
    "# Interpolate into Cartesian coordinates"
   ]
  },
  {
   "cell_type": "code",
   "execution_count": null,
   "id": "64e96a32",
   "metadata": {},
   "outputs": [],
   "source": [
    "for i in range(0,t3db.get_nx()):\n",
    "    for j in range(0,t3db.get_ny()):\n",
    "        r=numpy.sqrt(coord_grid[i]**2+coord_grid[j]**2)\n",
    "        theta=numpy.atan(-coord_grid[j]/coord_grid[i])+numpy.pi/2.0\n",
    "        t3db.set(i,j,'ed',t3d.interp(r/(r+rad_eq),\n",
    "                                     numpy.cos(theta),'ed'))\n",
    "        t3db.set(i,j,'pr',t3d.interp(r/(r+rad_eq),\n",
    "                                     numpy.cos(theta),'pr'))"
   ]
  },
  {
   "cell_type": "code",
   "execution_count": null,
   "id": "50fc221c",
   "metadata": {},
   "outputs": [],
   "source": [
    "# Take the log carefully so we can plot\n",
    "t3db.function_slice('if(pr>1.0e-5,log10(pr),-5.0)','log10_pr')"
   ]
  },
  {
   "cell_type": "code",
   "execution_count": null,
   "id": "20561b71",
   "metadata": {},
   "outputs": [],
   "source": [
    "# Plot the rotating star\n",
    "if plots:\n",
    "    pb=o2sclpy.plot_base()\n",
    "    pb.fig_dict='dpi=250'\n",
    "    pb.colbar=True\n",
    "    pb.den_plot([t3db,'log10_pr'])\n",
    "    pb.save('nr2.png')\n",
    "    plot.close()"
   ]
  },
  {
   "cell_type": "markdown",
   "id": "c767bc36",
   "metadata": {},
   "source": [
    "Set up the EOS"
   ]
  },
  {
   "cell_type": "code",
   "execution_count": null,
   "id": "c19d856c",
   "metadata": {},
   "outputs": [],
   "source": [
    "a=13\n",
    "alpha=0.49\n",
    "S=32\n",
    "L=44\n",
    "b=S-16-a\n",
    "beta=(L-3*a*alpha)/b/3\n",
    "n0=0.16\n",
    "print('b,beta:',b,beta)"
   ]
  },
  {
   "cell_type": "code",
   "execution_count": null,
   "id": "559dcb0b",
   "metadata": {},
   "outputs": [],
   "source": [
    "tab=o2sclpy.table_units()\n",
    "tab.line_of_names('nb ed pr')\n",
    "tab.line_of_units('1/fm^3 1/fm^4 1/fm^4')\n",
    "tab.set_nlines(25)\n",
    "for i in range(0,25):\n",
    "    print('i',i)\n",
    "    nb=0.08+i*0.01\n",
    "    tab.set('nb',i,nb)\n",
    "    tab.set('ed',i,939.0/197.33*nb+(nb*a*(nb/n0)**alpha+\n",
    "                                    nb*b*(nb/n0)**beta)/197.33)\n",
    "    tab.set('pr',i,(n0*a*alpha*(nb/n0)**(1.0+alpha)+\n",
    "                    n0*b*beta*(nb/n0)**(1.0+beta))/197.33)"
   ]
  },
  {
   "cell_type": "code",
   "execution_count": null,
   "id": "31cb10f3",
   "metadata": {},
   "outputs": [],
   "source": [
    "ed32=tab.get('ed',tab.get_nlines()-1)\n",
    "pr32=tab.get('pr',tab.get_nlines()-1)"
   ]
  },
  {
   "cell_type": "code",
   "execution_count": null,
   "id": "d20f7d07",
   "metadata": {},
   "outputs": [],
   "source": [
    "n1=0.8\n",
    "coeff1=pr32/ed32**(1.0+1.0/n1)\n",
    "p1=o2sclpy.eos_tov_polytrope()\n",
    "p1.set_coeff_index(coeff1,n1)\n",
    "p1.set_baryon_density(0.32,ed32)"
   ]
  },
  {
   "cell_type": "code",
   "execution_count": null,
   "id": "a2a504ab",
   "metadata": {},
   "outputs": [],
   "source": [
    "nbtrans=0.64"
   ]
  },
  {
   "cell_type": "code",
   "execution_count": null,
   "id": "ca9decc0",
   "metadata": {},
   "outputs": [],
   "source": [
    "for i in range(1,33):\n",
    "    nb=0.32+i*(nbtrans-0.32)/32\n",
    "    tab.line_of_data([nb,p1.ed_from_nb(nb),p1.pr_from_nb(nb)])"
   ]
  },
  {
   "cell_type": "code",
   "execution_count": null,
   "id": "140d1eee",
   "metadata": {},
   "outputs": [],
   "source": [
    "edlast=tab.get('ed',tab.get_nlines()-1)\n",
    "prlast=tab.get('pr',tab.get_nlines()-1)"
   ]
  },
  {
   "cell_type": "code",
   "execution_count": null,
   "id": "036c9740",
   "metadata": {},
   "outputs": [],
   "source": [
    "n2=0.7\n",
    "coeff2=prlast/edlast**(1.0+1.0/n2)\n",
    "p2=o2sclpy.eos_tov_polytrope()\n",
    "p2.set_coeff_index(coeff2,n2)\n",
    "p2.set_baryon_density(nbtrans,edlast)"
   ]
  },
  {
   "cell_type": "code",
   "execution_count": null,
   "id": "50d044cd",
   "metadata": {},
   "outputs": [],
   "source": [
    "for i in range(1,33):\n",
    "    nb=nbtrans+i*(1.5-nbtrans)/32\n",
    "    tab.line_of_data([nb,p2.ed_from_nb(nb),p2.pr_from_nb(nb)])"
   ]
  },
  {
   "cell_type": "code",
   "execution_count": null,
   "id": "69f52c4d",
   "metadata": {},
   "outputs": [],
   "source": [
    "for i in range(0,tab.get_nlines()):\n",
    "    print('%7.6e %7.6e %7.6e' % (tab.get('nb',i),tab.get('ed',i),\n",
    "                                 tab.get('pr',i)))"
   ]
  },
  {
   "cell_type": "code",
   "execution_count": null,
   "id": "f4089c35",
   "metadata": {},
   "outputs": [],
   "source": [
    "eti=o2sclpy.eos_tov_interp()\n",
    "eti.default_low_dens_eos()\n",
    "eti.read_table(tab,'ed','pr','nb')\n",
    "ts=o2sclpy.tov_solve()\n",
    "ts.set_eos(eti)\n",
    "ts.verbose=1\n",
    "ts.mvsr()"
   ]
  },
  {
   "cell_type": "code",
   "execution_count": null,
   "id": "02e5b78f",
   "metadata": {},
   "outputs": [],
   "source": [
    "# Delete table rows larger than the maximum mass\n",
    "nonrot=ts.get_results()\n",
    "prmax=nonrot.get('pr',nonrot.lookup('gm',nonrot.max('gm')))\n",
    "nonrot.delete_rows_func('pr>'+str(prmax))"
   ]
  },
  {
   "cell_type": "code",
   "execution_count": null,
   "id": "d2c4b0d6",
   "metadata": {},
   "outputs": [],
   "source": [
    "edmax=nonrot.max('ed')\n",
    "print('edmax',edmax,nonrot.get_unit('ed'))\n",
    "edmax2=cu.convert('Msun/km^3','1/fm^4',edmax)\n",
    "print('edmax2',edmax2,'1/fm^4')\n",
    "tab.deriv_col('ed','pr','cs2')\n",
    "cs2_max=0\n",
    "for i in range(0,tab.get_nlines()):\n",
    "    print(i,tab.get('ed',i),edmax2,tab.get('cs2',i))\n",
    "    if tab.get('ed',i)<edmax2 and tab.get('cs2',i)>cs2_max:\n",
    "        cs2_max=tab.get('cs2',i)\n",
    "print('cs2_max',cs2_max)"
   ]
  },
  {
   "cell_type": "code",
   "execution_count": null,
   "id": "d00cd5d1",
   "metadata": {},
   "outputs": [],
   "source": [
    "# The radius of a 1.4 solar mass neutron star\n",
    "rad14=nonrot.interp('gm',1.4,'r')\n",
    "print('rad14 %7.6e' % (rad14))"
   ]
  },
  {
   "cell_type": "code",
   "execution_count": null,
   "id": "c507a5bc",
   "metadata": {},
   "outputs": [],
   "source": [
    "enri=o2sclpy.eos_nstar_rot_interp()\n",
    "edv=o2sclpy.std_vector()    \n",
    "prv=o2sclpy.std_vector()    \n",
    "nbv=o2sclpy.std_vector()\n",
    "for i in range(0,tab.get_nlines()):\n",
    "    edv.push_back(tab.get('ed',i))\n",
    "    prv.push_back(tab.get('pr',i))\n",
    "    nbv.push_back(tab.get('nb',i))\n",
    "enri.set_eos_fm(tab.get_nlines(),edv,prv,nbv)"
   ]
  },
  {
   "cell_type": "markdown",
   "id": "28e524ea",
   "metadata": {},
   "source": [
    "Construct a configuration with a specified central energy density\n",
    "and axis ratio"
   ]
  },
  {
   "cell_type": "code",
   "execution_count": null,
   "id": "04f3359a",
   "metadata": {},
   "outputs": [],
   "source": [
    "nr=o2sclpy.nstar_rot()\n",
    "nr.verbose=1\n",
    "nr.set_eos(enri)\n",
    "nr.fix_cent_eden_axis_rat(2.0e15,0.59)"
   ]
  },
  {
   "cell_type": "code",
   "execution_count": null,
   "id": "2596b171",
   "metadata": {
    "lines_to_next_cell": 2
   },
   "outputs": [],
   "source": [
    "print('Mass: %7.6e' % (nr.Mass/nr.MSUN))"
   ]
  }
 ],
 "metadata": {
  "jupytext": {
   "cell_metadata_filter": "-all",
   "main_language": "python",
   "notebook_metadata_filter": "-all"
  }
 },
 "nbformat": 4,
 "nbformat_minor": 5
}
