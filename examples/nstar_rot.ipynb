{
 "cells": [
  {
   "cell_type": "markdown",
   "id": "4b0d63b3",
   "metadata": {},
   "source": [
    "# Rotating neutron star example for O$_2$sclpy"
   ]
  },
  {
   "cell_type": "markdown",
   "id": "3b3a66ad",
   "metadata": {},
   "source": [
    "For the underlying C++ code, see the O$_2$scl documentation at\n",
    "https://awsteiner.org/code/o2scl/html. The Python wrapper,\n",
    "O$_2$sclpy, is documentated at https://awsteiner.org/code/o2sclpy.\n",
    "This rotating neutron star code is a Python wrapper to a C++ version\n",
    "which was based on the original RNS code developed by Stergioulas\n",
    "and Morsink. See\n",
    "https://awsteiner.org/code/o2scl/html/class/nstar_rot.html."
   ]
  },
  {
   "cell_type": "markdown",
   "id": "c807d000",
   "metadata": {},
   "source": [
    "Import necessary modules"
   ]
  },
  {
   "cell_type": "code",
   "execution_count": 2,
   "id": "b25041d9",
   "metadata": {},
   "outputs": [],
   "source": [
    "import o2sclpy\n",
    "import matplotlib.pyplot as plot\n",
    "import numpy\n",
    "import sys\n",
    "from tqdm import trange, tqdm"
   ]
  },
  {
   "cell_type": "code",
   "execution_count": 3,
   "id": "24d243ce",
   "metadata": {},
   "outputs": [],
   "source": [
    "plots=True\n",
    "if 'pytest' in sys.modules:\n",
    "    plots=False"
   ]
  },
  {
   "cell_type": "markdown",
   "id": "b12af25e",
   "metadata": {},
   "source": [
    "Get a copy (a pointer to) the O$_2$scl unit conversion object, which\n",
    "also allows access to the constant library"
   ]
  },
  {
   "cell_type": "code",
   "execution_count": 4,
   "id": "e521fb2a",
   "metadata": {},
   "outputs": [],
   "source": [
    "o2scl_settings=o2sclpy.lib_settings_class()\n",
    "cu=o2scl_settings.get_convert_units()"
   ]
  },
  {
   "cell_type": "markdown",
   "id": "230f0286-0458-4f3f-b463-37b1fea26caf",
   "metadata": {},
   "source": [
    "## Rotating configuration with a tabulated EOS"
   ]
  },
  {
   "cell_type": "markdown",
   "id": "00e48c43",
   "metadata": {},
   "source": [
    "Set up an EOS designed with the original RNS code (see\n",
    "https://awsteiner.org/code/o2scl/html/class/eos_nstar_rot_C.html for the C++ documentation)."
   ]
  },
  {
   "cell_type": "code",
   "execution_count": 5,
   "id": "843fbd5f",
   "metadata": {},
   "outputs": [],
   "source": [
    "eC=o2sclpy.eos_nstar_rot_C()\n",
    "eC.set(True)"
   ]
  },
  {
   "cell_type": "markdown",
   "id": "68dd6d5c",
   "metadata": {},
   "source": [
    "Create the rotating neutron star object and set the EOS"
   ]
  },
  {
   "cell_type": "code",
   "execution_count": 6,
   "id": "e4b7222a",
   "metadata": {},
   "outputs": [],
   "source": [
    "nr=o2sclpy.nstar_rot()\n",
    "nr.verbose=1\n",
    "nr.set_eos(eC)"
   ]
  },
  {
   "cell_type": "markdown",
   "id": "7ed9ba68",
   "metadata": {},
   "source": [
    "Compute a configuration with a fixed central energy density and\n",
    "a fixed axis ratio"
   ]
  },
  {
   "cell_type": "code",
   "execution_count": 7,
   "id": "e23caea6",
   "metadata": {},
   "outputs": [],
   "source": [
    "nr.fix_cent_eden_axis_rat(2.0e15,0.59)"
   ]
  },
  {
   "cell_type": "markdown",
   "id": "5bd4bdf9",
   "metadata": {},
   "source": [
    "Obtain the output as a table3d object. See\n",
    "https://awsteiner.org/code/o2scl/html/class/table3d.html."
   ]
  },
  {
   "cell_type": "code",
   "execution_count": 8,
   "id": "da582a72",
   "metadata": {},
   "outputs": [],
   "source": [
    "t3d=o2sclpy.table3d()\n",
    "nr.output_table(t3d)"
   ]
  },
  {
   "cell_type": "markdown",
   "id": "c82a2cf9",
   "metadata": {},
   "source": [
    "Output the slice names: ed, pr, h, vsq, rho, gamma, omega, alpha.\n",
    "Each of these slices is a two-dimensional array of numbers."
   ]
  },
  {
   "cell_type": "code",
   "execution_count": 9,
   "id": "d9c1f739",
   "metadata": {},
   "outputs": [
    {
     "name": "stdout",
     "output_type": "stream",
     "text": [
      "0 b'ed'\n",
      "1 b'pr'\n",
      "2 b'h'\n",
      "3 b'vsq'\n",
      "4 b'rho'\n",
      "5 b'gamma'\n",
      "6 b'omega'\n",
      "7 b'alpha'\n"
     ]
    }
   ],
   "source": [
    "for i in range(0,t3d.get_nslices()):\n",
    "    print(i,t3d.get_slice_name(i))"
   ]
  },
  {
   "cell_type": "markdown",
   "id": "d2925bb8",
   "metadata": {},
   "source": [
    "Print out the gravitational mass"
   ]
  },
  {
   "cell_type": "code",
   "execution_count": 10,
   "id": "f89fb41e",
   "metadata": {},
   "outputs": [
    {
     "name": "stdout",
     "output_type": "stream",
     "text": [
      "Mass: 2.131250e+00\n"
     ]
    }
   ],
   "source": [
    "print('Mass: %7.6e' % (nr.Mass/nr.MSUN))"
   ]
  },
  {
   "cell_type": "markdown",
   "id": "19f147b0",
   "metadata": {},
   "source": [
    "The final pressure has noise in the region of spacetime occupied by the vacuum, but the pressure elsehwere varies by orders of magnitudes. We use use a cutoff at low pressures to remove the noise."
   ]
  },
  {
   "cell_type": "code",
   "execution_count": 11,
   "id": "6a33a85b",
   "metadata": {},
   "outputs": [],
   "source": [
    "t3d.function_slice('if(pr>1.0e-12,log10(pr),-12.0)','log10_pr')"
   ]
  },
  {
   "cell_type": "markdown",
   "id": "8c83033b",
   "metadata": {},
   "source": [
    "Plot the pressure in the internal coordinate system"
   ]
  },
  {
   "cell_type": "code",
   "execution_count": 12,
   "id": "58cfe36d",
   "metadata": {},
   "outputs": [
    {
     "data": {
      "image/png": "[encoded data removed]",
      "text/plain": [
       "<Figure size 600x600 with 2 Axes>"
      ]
     },
     "metadata": {},
     "output_type": "display_data"
    }
   ],
   "source": [
    "if plots:\n",
    "    pb=o2sclpy.plot_base()\n",
    "    pb.fig_dict='fig_size_x=6,fig_size_y=6,dpi=100'\n",
    "    pb.colbar=True\n",
    "    pb.den_plot([t3d,'log10_pr'])\n",
    "    pb.show()\n",
    "    plot.close()"
   ]
  },
  {
   "cell_type": "markdown",
   "id": "2057ff30",
   "metadata": {},
   "source": [
    "Create a new table for the output in Cartesian coordinates"
   ]
  },
  {
   "cell_type": "code",
   "execution_count": 13,
   "id": "291f818e",
   "metadata": {},
   "outputs": [],
   "source": [
    "t3db=o2sclpy.table3d()\n",
    "t3db.set_interp_type(o2sclpy.itp_linear)\n",
    "rad_eq=nr.R_e/1.0e5\n",
    "coord_grid=o2sclpy.uniform_grid_end.init(0.01,rad_eq*1.1,100)\n",
    "t3db.set_xy_grid('x',coord_grid,'z',coord_grid)\n",
    "t3db.line_of_names('ed pr')"
   ]
  },
  {
   "cell_type": "markdown",
   "id": "0520f81e",
   "metadata": {},
   "source": [
    "Interpolate into Cartesian coordinates (to interpolate 10,000 points takes a minute):"
   ]
  },
  {
   "cell_type": "code",
   "execution_count": 14,
   "id": "45cc8aed",
   "metadata": {},
   "outputs": [
    {
     "name": "stderr",
     "output_type": "stream",
     "text": [
      "100%|█████████████████████████████████████████| 101/101 [00:44<00:00,  2.25it/s]\n"
     ]
    }
   ],
   "source": [
    "for i in trange(t3db.get_nx()):\n",
    "    for j in range(0,t3db.get_ny()):\n",
    "        r=numpy.sqrt(coord_grid[i]**2+coord_grid[j]**2)\n",
    "        theta=numpy.atan(-coord_grid[j]/coord_grid[i])+numpy.pi/2.0\n",
    "        t3db.set(i,j,'ed',t3d.interp(r/(r+rad_eq),\n",
    "                                     numpy.cos(theta),'ed'))\n",
    "        t3db.set(i,j,'pr',t3d.interp(r/(r+rad_eq),\n",
    "                                     numpy.cos(theta),'pr'))"
   ]
  },
  {
   "cell_type": "markdown",
   "id": "d0790fb2-006a-4a9f-b68d-8556955fe675",
   "metadata": {},
   "source": [
    "Take the log carefully so we can plot"
   ]
  },
  {
   "cell_type": "code",
   "execution_count": 15,
   "id": "81e3421e-e0b5-4ef9-8038-8e26e068734e",
   "metadata": {},
   "outputs": [],
   "source": [
    "t3db.function_slice('if(pr>1.0e-5,log10(pr),-5.0)','log10_pr')"
   ]
  },
  {
   "cell_type": "markdown",
   "id": "c50216cf-9319-427e-9758-27efb0b4ee19",
   "metadata": {},
   "source": [
    "Plot the rotating neutron star, with the equator along the x-axis:"
   ]
  },
  {
   "cell_type": "code",
   "execution_count": 16,
   "id": "e2fe974f-da48-41f4-ad62-eb6c4e674d3e",
   "metadata": {},
   "outputs": [
    {
     "data": {
      "image/png": "[encoded data removed]",
      "text/plain": [
       "<Figure size 600x600 with 2 Axes>"
      ]
     },
     "metadata": {},
     "output_type": "display_data"
    }
   ],
   "source": [
    "if plots:\n",
    "    # Set canvas_flag=False to draw a new matplotlib canvas:\n",
    "    pb.canvas_flag=False\n",
    "    pb.den_plot([t3db,'log10_pr'])\n",
    "    pb.xtitle(r'$ x~(\\mathrm{km}) $')\n",
    "    pb.ytitle(r'$ z~(\\mathrm{km}) $')\n",
    "    pb.ttext(1.27,0.5,r'$ \\log_{10} \\left( P~[\\mathrm{fm}^{-4}] \\right) $',rotation=90)\n",
    "    pb.show()\n",
    "    plot.close()"
   ]
  },
  {
   "cell_type": "markdown",
   "id": "8decfefc-874d-4723-8a66-5d949a306e19",
   "metadata": {},
   "source": [
    "## A rotating neutron star with a more complex EOS"
   ]
  },
  {
   "cell_type": "markdown",
   "id": "ccce0b86",
   "metadata": {},
   "source": [
    "Set up the equation of state of neutron matter near the saturation density. We use the parameterization from Gandolfi et al. (2012) (https://doi.org/10.1103/PhysRevC.85.032801). The values ``a`` and ``b`` are in MeV. The saturation density, ``n0`` is in $ \\mathrm{fm}^{-3} $. We begin by setting up the basic variables."
   ]
  },
  {
   "cell_type": "code",
   "execution_count": 17,
   "id": "f6a2011c",
   "metadata": {},
   "outputs": [],
   "source": [
    "a=13\n",
    "alpha=0.49\n",
    "S=32\n",
    "L=44\n",
    "b=S-16-a\n",
    "beta=(L-3*a*alpha)/b/3\n",
    "n0=0.16"
   ]
  },
  {
   "cell_type": "markdown",
   "id": "3fd44d75",
   "metadata": {},
   "source": [
    "We compute the EOS from baryon densities of $0.08$ to $0.32~\\mathrm{fm}^{-3}$. We store EOS in a O$_2$scl ``table_units`` object (see https://awsteiner.org/code/o2scl/html/class/table_units.html). Note we store energy densities and pressures in units of $\\mathrm{fm}^{-4}$. "
   ]
  },
  {
   "cell_type": "code",
   "execution_count": 18,
   "id": "0dc8b7f3",
   "metadata": {},
   "outputs": [],
   "source": [
    "tab=o2sclpy.table_units()\n",
    "tab.line_of_names('nb ed pr')\n",
    "tab.line_of_units('1/fm^3 1/fm^4 1/fm^4')\n",
    "tab.set_nlines(25)\n",
    "for i in range(0,25):\n",
    "    nb=0.08+i*0.01\n",
    "    tab.set('nb',i,nb)\n",
    "    tab.set('ed',i,939.0/197.33*nb+(nb*a*(nb/n0)**alpha+\n",
    "                                    nb*b*(nb/n0)**beta)/197.33)\n",
    "    tab.set('pr',i,(n0*a*alpha*(nb/n0)**(1.0+alpha)+\n",
    "                    n0*b*beta*(nb/n0)**(1.0+beta))/197.33)"
   ]
  },
  {
   "cell_type": "markdown",
   "id": "f56115bb",
   "metadata": {},
   "source": [
    "Compute the energy density and pressure at the highest baryon density currently in the table."
   ]
  },
  {
   "cell_type": "code",
   "execution_count": 19,
   "id": "428cc642",
   "metadata": {},
   "outputs": [],
   "source": [
    "ed32=tab.get('ed',tab.get_nlines()-1)\n",
    "pr32=tab.get('pr',tab.get_nlines()-1)"
   ]
  },
  {
   "cell_type": "markdown",
   "id": "029cd5be",
   "metadata": {},
   "source": [
    "Beginning at $n_B=0.32$, we create a polytrope, with an index of $0.8$. (See https://awsteiner.org/code/o2scl/html/class/eos_tov_polytrope.html.) The coefficient is fixed by ensuring that the energy density and pressure from the lower-density EOS are matched. We use this polytrope up to a transition density of $n_B=0.64~\\mathrm{fm}^{-3}$."
   ]
  },
  {
   "cell_type": "code",
   "execution_count": 20,
   "id": "48d9ae82-99db-4490-b033-d1215ab7d1d5",
   "metadata": {},
   "outputs": [],
   "source": [
    "n1=0.8\n",
    "coeff1=pr32/ed32**(1.0+1.0/n1)\n",
    "p1=o2sclpy.eos_tov_polytrope()\n",
    "p1.set_coeff_index(coeff1,n1)\n",
    "p1.set_baryon_density(0.32,ed32)\n",
    "nbtrans=0.64"
   ]
  },
  {
   "cell_type": "markdown",
   "id": "0b1bb6c7",
   "metadata": {},
   "source": [
    "Loop over baryon densities and add the polytrope to the table object:"
   ]
  },
  {
   "cell_type": "code",
   "execution_count": 21,
   "id": "d15f50dc",
   "metadata": {},
   "outputs": [],
   "source": [
    "for i in range(1,33):\n",
    "    nb=0.32+i*(nbtrans-0.32)/32\n",
    "    tab.line_of_data([nb,p1.ed_from_nb(nb),p1.pr_from_nb(nb)])"
   ]
  },
  {
   "cell_type": "markdown",
   "id": "e89d6b27",
   "metadata": {},
   "source": [
    "Record the last energy density and pressure so we can add another polytrope:"
   ]
  },
  {
   "cell_type": "code",
   "execution_count": 22,
   "id": "a6e6c0d2",
   "metadata": {},
   "outputs": [],
   "source": [
    "edlast=tab.get('ed',tab.get_nlines()-1)\n",
    "prlast=tab.get('pr',tab.get_nlines()-1)"
   ]
  },
  {
   "cell_type": "markdown",
   "id": "f0f8b9dc",
   "metadata": {},
   "source": [
    "Set up the polytrope:"
   ]
  },
  {
   "cell_type": "code",
   "execution_count": 23,
   "id": "3789e953",
   "metadata": {},
   "outputs": [],
   "source": [
    "n2=0.7\n",
    "coeff2=prlast/edlast**(1.0+1.0/n2)\n",
    "p2=o2sclpy.eos_tov_polytrope()\n",
    "p2.set_coeff_index(coeff2,n2)\n",
    "p2.set_baryon_density(nbtrans,edlast)"
   ]
  },
  {
   "cell_type": "markdown",
   "id": "87aaabe6",
   "metadata": {},
   "source": [
    "We extend this to a very large baryon density, $n_B=1.5~\\mathrm{fm}^{-3}$:"
   ]
  },
  {
   "cell_type": "code",
   "execution_count": 24,
   "id": "8972a073",
   "metadata": {},
   "outputs": [],
   "source": [
    "for i in range(1,33):\n",
    "    nb=nbtrans+i*(1.5-nbtrans)/32\n",
    "    tab.line_of_data([nb,p2.ed_from_nb(nb),p2.pr_from_nb(nb)])"
   ]
  },
  {
   "cell_type": "markdown",
   "id": "e50a1f1a",
   "metadata": {},
   "source": [
    "Plot the EOS, indicating the points where the different EOS parts connect."
   ]
  },
  {
   "cell_type": "code",
   "execution_count": 25,
   "id": "80c2722b",
   "metadata": {},
   "outputs": [
    {
     "data": {
      "image/png": "[encoded data removed]",
      "text/plain": [
       "<Figure size 600x600 with 1 Axes>"
      ]
     },
     "metadata": {},
     "output_type": "display_data"
    }
   ],
   "source": [
    "if plots:\n",
    "    # Set canvas_flag=False to draw a new matplotlib canvas:\n",
    "    pb.canvas_flag=False\n",
    "    pb.colbar=False\n",
    "    pb.logx=False\n",
    "    pb.logy=True\n",
    "    pb.plot([tab,'ed','pr'])\n",
    "    pb.xtitle(r'$ \\varepsilon~(\\mathrm{fm}^{-4}) $')\n",
    "    pb.ytitle(r'$ P~(\\mathrm{fm}^{-4}) $')\n",
    "    pb.point(ed32,pr32,marker='+')\n",
    "    pb.point(edlast,prlast,marker='+')\n",
    "    pb.show()\n",
    "    plot.close()"
   ]
  },
  {
   "cell_type": "markdown",
   "id": "df0f93eb",
   "metadata": {},
   "source": [
    "Construct an EOS object for the TOV solver (see https://awsteiner.org/code/o2scl/html/class/eos_tov_interp.html). Add the default neutron star crust."
   ]
  },
  {
   "cell_type": "code",
   "execution_count": 26,
   "id": "f4d90808-ad64-49ed-9823-100a4f1952fd",
   "metadata": {},
   "outputs": [],
   "source": [
    "eti=o2sclpy.eos_tov_interp()\n",
    "eti.default_low_dens_eos()\n",
    "eti.read_table(tab,'ed','pr','nb')"
   ]
  },
  {
   "cell_type": "code",
   "execution_count": 28,
   "id": "5bf3a53c-1e02-47cc-92a7-9ee1126be1b3",
   "metadata": {},
   "outputs": [
    {
     "name": "stdout",
     "output_type": "stream",
     "text": [
      "Mass versus radius mode.\n",
      "Central P: 7.0000e-07 (Msun/km^3), M: 1.0686e-01 (Msun), R: 5.9523e+01 (km)\n",
      "Central P: 7.7000e-07 (Msun/km^3), M: 1.1070e-01 (Msun), R: 4.9019e+01 (km)\n",
      "Central P: 8.4700e-07 (Msun/km^3), M: 1.1499e-01 (Msun), R: 4.1684e+01 (km)\n",
      "Central P: 9.3170e-07 (Msun/km^3), M: 1.1975e-01 (Msun), R: 3.6266e+01 (km)\n",
      "Central P: 1.0249e-06 (Msun/km^3), M: 1.2497e-01 (Msun), R: 3.2147e+01 (km)\n",
      "Central P: 1.1274e-06 (Msun/km^3), M: 1.3069e-01 (Msun), R: 2.8909e+01 (km)\n",
      "Central P: 1.2401e-06 (Msun/km^3), M: 1.3692e-01 (Msun), R: 2.6321e+01 (km)\n",
      "Central P: 1.3641e-06 (Msun/km^3), M: 1.4371e-01 (Msun), R: 2.4206e+01 (km)\n",
      "Central P: 1.5005e-06 (Msun/km^3), M: 1.5107e-01 (Msun), R: 2.2460e+01 (km)\n",
      "Central P: 1.6506e-06 (Msun/km^3), M: 1.5907e-01 (Msun), R: 2.0997e+01 (km)\n",
      "Central P: 1.8156e-06 (Msun/km^3), M: 1.6773e-01 (Msun), R: 1.9763e+01 (km)\n",
      "Central P: 1.9972e-06 (Msun/km^3), M: 1.7713e-01 (Msun), R: 1.8711e+01 (km)\n",
      "Central P: 2.1969e-06 (Msun/km^3), M: 1.8727e-01 (Msun), R: 1.7811e+01 (km)\n",
      "Central P: 2.4166e-06 (Msun/km^3), M: 1.9825e-01 (Msun), R: 1.7034e+01 (km)\n",
      "Central P: 2.6582e-06 (Msun/km^3), M: 2.1010e-01 (Msun), R: 1.6363e+01 (km)\n",
      "Central P: 2.9241e-06 (Msun/km^3), M: 2.2289e-01 (Msun), R: 1.5780e+01 (km)\n",
      "Central P: 3.2165e-06 (Msun/km^3), M: 2.3667e-01 (Msun), R: 1.5273e+01 (km)\n",
      "Central P: 3.5381e-06 (Msun/km^3), M: 2.5151e-01 (Msun), R: 1.4831e+01 (km)\n",
      "Central P: 3.8919e-06 (Msun/km^3), M: 2.6749e-01 (Msun), R: 1.4445e+01 (km)\n",
      "Central P: 4.2811e-06 (Msun/km^3), M: 2.8465e-01 (Msun), R: 1.4109e+01 (km)\n",
      "Central P: 4.7092e-06 (Msun/km^3), M: 3.0308e-01 (Msun), R: 1.3815e+01 (km)\n",
      "Central P: 5.1802e-06 (Msun/km^3), M: 3.2285e-01 (Msun), R: 1.3559e+01 (km)\n",
      "Central P: 5.6982e-06 (Msun/km^3), M: 3.4401e-01 (Msun), R: 1.3336e+01 (km)\n",
      "Central P: 6.2680e-06 (Msun/km^3), M: 3.6665e-01 (Msun), R: 1.3143e+01 (km)\n",
      "Central P: 6.8948e-06 (Msun/km^3), M: 3.9085e-01 (Msun), R: 1.2976e+01 (km)\n",
      "Central P: 7.5843e-06 (Msun/km^3), M: 4.1665e-01 (Msun), R: 1.2832e+01 (km)\n",
      "Central P: 8.3427e-06 (Msun/km^3), M: 4.4413e-01 (Msun), R: 1.2709e+01 (km)\n",
      "Central P: 9.1770e-06 (Msun/km^3), M: 4.7337e-01 (Msun), R: 1.2605e+01 (km)\n",
      "Central P: 1.0095e-05 (Msun/km^3), M: 5.0441e-01 (Msun), R: 1.2517e+01 (km)\n",
      "Central P: 1.1104e-05 (Msun/km^3), M: 5.3730e-01 (Msun), R: 1.2443e+01 (km)\n",
      "Central P: 1.2215e-05 (Msun/km^3), M: 5.7210e-01 (Msun), R: 1.2383e+01 (km)\n",
      "Central P: 1.3436e-05 (Msun/km^3), M: 6.0884e-01 (Msun), R: 1.2333e+01 (km)\n",
      "Central P: 1.4780e-05 (Msun/km^3), M: 6.4756e-01 (Msun), R: 1.2294e+01 (km)\n",
      "Central P: 1.6258e-05 (Msun/km^3), M: 6.8825e-01 (Msun), R: 1.2264e+01 (km)\n",
      "Central P: 1.7883e-05 (Msun/km^3), M: 7.3094e-01 (Msun), R: 1.2242e+01 (km)\n",
      "Central P: 1.9672e-05 (Msun/km^3), M: 7.7534e-01 (Msun), R: 1.2226e+01 (km)\n",
      "Central P: 2.1639e-05 (Msun/km^3), M: 8.1993e-01 (Msun), R: 1.2214e+01 (km)\n",
      "Central P: 2.3803e-05 (Msun/km^3), M: 8.6442e-01 (Msun), R: 1.2203e+01 (km)\n",
      "Central P: 2.6183e-05 (Msun/km^3), M: 9.0883e-01 (Msun), R: 1.2191e+01 (km)\n",
      "Central P: 2.8801e-05 (Msun/km^3), M: 9.5310e-01 (Msun), R: 1.2177e+01 (km)\n",
      "Central P: 3.1681e-05 (Msun/km^3), M: 9.9722e-01 (Msun), R: 1.2161e+01 (km)\n",
      "Central P: 3.4850e-05 (Msun/km^3), M: 1.0411e+00 (Msun), R: 1.2142e+01 (km)\n",
      "Central P: 3.8335e-05 (Msun/km^3), M: 1.0848e+00 (Msun), R: 1.2120e+01 (km)\n",
      "Central P: 4.2168e-05 (Msun/km^3), M: 1.1282e+00 (Msun), R: 1.2094e+01 (km)\n",
      "Central P: 4.6385e-05 (Msun/km^3), M: 1.1712e+00 (Msun), R: 1.2064e+01 (km)\n",
      "Central P: 5.1023e-05 (Msun/km^3), M: 1.2137e+00 (Msun), R: 1.2030e+01 (km)\n",
      "Central P: 5.6126e-05 (Msun/km^3), M: 1.2558e+00 (Msun), R: 1.1992e+01 (km)\n",
      "Central P: 6.1738e-05 (Msun/km^3), M: 1.2973e+00 (Msun), R: 1.1950e+01 (km)\n",
      "Central P: 6.7912e-05 (Msun/km^3), M: 1.3381e+00 (Msun), R: 1.1904e+01 (km)\n",
      "Central P: 7.4703e-05 (Msun/km^3), M: 1.3781e+00 (Msun), R: 1.1855e+01 (km)\n",
      "Central P: 8.2174e-05 (Msun/km^3), M: 1.4173e+00 (Msun), R: 1.1801e+01 (km)\n",
      "Central P: 9.0391e-05 (Msun/km^3), M: 1.4556e+00 (Msun), R: 1.1743e+01 (km)\n",
      "Central P: 9.9430e-05 (Msun/km^3), M: 1.4929e+00 (Msun), R: 1.1682e+01 (km)\n",
      "Central P: 1.0937e-04 (Msun/km^3), M: 1.5292e+00 (Msun), R: 1.1616e+01 (km)\n",
      "Central P: 1.2031e-04 (Msun/km^3), M: 1.5646e+00 (Msun), R: 1.1548e+01 (km)\n",
      "Central P: 1.3234e-04 (Msun/km^3), M: 1.5992e+00 (Msun), R: 1.1476e+01 (km)\n",
      "Central P: 1.4558e-04 (Msun/km^3), M: 1.6328e+00 (Msun), R: 1.1401e+01 (km)\n",
      "Central P: 1.6013e-04 (Msun/km^3), M: 1.6654e+00 (Msun), R: 1.1323e+01 (km)\n",
      "Central P: 1.7615e-04 (Msun/km^3), M: 1.6969e+00 (Msun), R: 1.1243e+01 (km)\n",
      "Central P: 1.9376e-04 (Msun/km^3), M: 1.7272e+00 (Msun), R: 1.1160e+01 (km)\n",
      "Central P: 2.1314e-04 (Msun/km^3), M: 1.7561e+00 (Msun), R: 1.1076e+01 (km)\n",
      "Central P: 2.3445e-04 (Msun/km^3), M: 1.7837e+00 (Msun), R: 1.0989e+01 (km)\n",
      "Central P: 2.5790e-04 (Msun/km^3), M: 1.8097e+00 (Msun), R: 1.0901e+01 (km)\n",
      "Central P: 2.8369e-04 (Msun/km^3), M: 1.8343e+00 (Msun), R: 1.0810e+01 (km)\n",
      "Central P: 3.1205e-04 (Msun/km^3), M: 1.8572e+00 (Msun), R: 1.0719e+01 (km)\n",
      "Central P: 3.4326e-04 (Msun/km^3), M: 1.8786e+00 (Msun), R: 1.0626e+01 (km)\n",
      "Central P: 3.7759e-04 (Msun/km^3), M: 1.8982e+00 (Msun), R: 1.0532e+01 (km)\n",
      "Central P: 4.1534e-04 (Msun/km^3), M: 1.9162e+00 (Msun), R: 1.0437e+01 (km)\n",
      "Central P: 4.5688e-04 (Msun/km^3), M: 1.9325e+00 (Msun), R: 1.0341e+01 (km)\n",
      "Central P: 5.0257e-04 (Msun/km^3), M: 1.9471e+00 (Msun), R: 1.0245e+01 (km)\n",
      "Central P: 5.5282e-04 (Msun/km^3), M: 1.9600e+00 (Msun), R: 1.0148e+01 (km)\n",
      "Central P: 6.0811e-04 (Msun/km^3), M: 1.9713e+00 (Msun), R: 1.0051e+01 (km)\n",
      "Central P: 6.6892e-04 (Msun/km^3), M: 1.9809e+00 (Msun), R: 9.9538e+00 (km)\n",
      "Central P: 7.3581e-04 (Msun/km^3), M: 1.9890e+00 (Msun), R: 9.8569e+00 (km)\n",
      "Central P: 8.0939e-04 (Msun/km^3), M: 1.9955e+00 (Msun), R: 9.7603e+00 (km)\n",
      "Central P: 8.9033e-04 (Msun/km^3), M: 2.0006e+00 (Msun), R: 9.6642e+00 (km)\n",
      "Central P: 9.7936e-04 (Msun/km^3), M: 2.0042e+00 (Msun), R: 9.5688e+00 (km)\n",
      "Central P: 1.0773e-03 (Msun/km^3), M: 2.0065e+00 (Msun), R: 9.4742e+00 (km)\n",
      "Central P: 1.1850e-03 (Msun/km^3), M: 2.0075e+00 (Msun), R: 9.3807e+00 (km)\n",
      "Central P: 1.3035e-03 (Msun/km^3), M: 2.0073e+00 (Msun), R: 9.2882e+00 (km)\n",
      "Central P: 1.4339e-03 (Msun/km^3), M: 2.0059e+00 (Msun), R: 9.1971e+00 (km)\n",
      "Central P: 1.5773e-03 (Msun/km^3), M: 2.0035e+00 (Msun), R: 9.1074e+00 (km)\n",
      "Central P: 1.7350e-03 (Msun/km^3), M: 2.0001e+00 (Msun), R: 9.0193e+00 (km)\n",
      "Central P: 1.9085e-03 (Msun/km^3), M: 1.9958e+00 (Msun), R: 8.9329e+00 (km)\n",
      "Central P: 2.0993e-03 (Msun/km^3), M: 1.9907e+00 (Msun), R: 8.8482e+00 (km)\n",
      "Central P: 2.3093e-03 (Msun/km^3), M: 1.9849e+00 (Msun), R: 8.7656e+00 (km)\n",
      "Central P: 2.5402e-03 (Msun/km^3), M: 1.9783e+00 (Msun), R: 8.6851e+00 (km)\n",
      "Central P: 2.7942e-03 (Msun/km^3), M: 1.9711e+00 (Msun), R: 8.6069e+00 (km)\n",
      "Central P: 3.0736e-03 (Msun/km^3), M: 1.9632e+00 (Msun), R: 8.5311e+00 (km)\n",
      "Central P: 3.3810e-03 (Msun/km^3), M: 1.9547e+00 (Msun), R: 8.4577e+00 (km)\n",
      "Central P: 3.7191e-03 (Msun/km^3), M: 1.9456e+00 (Msun), R: 8.3867e+00 (km)\n",
      "Central P: 4.0910e-03 (Msun/km^3), M: 1.9359e+00 (Msun), R: 8.3182e+00 (km)\n",
      "Central P: 4.5001e-03 (Msun/km^3), M: 1.9258e+00 (Msun), R: 8.2521e+00 (km)\n",
      "Central P: 4.9501e-03 (Msun/km^3), M: 1.9152e+00 (Msun), R: 8.1885e+00 (km)\n",
      "Central P: 5.4452e-03 (Msun/km^3), M: 1.9042e+00 (Msun), R: 8.1274e+00 (km)\n",
      "Central P: 5.9897e-03 (Msun/km^3), M: 1.8929e+00 (Msun), R: 8.0687e+00 (km)\n",
      "Central P: 6.5886e-03 (Msun/km^3), M: 1.8813e+00 (Msun), R: 8.0124e+00 (km)\n",
      "Central P: 7.2475e-03 (Msun/km^3), M: 1.8695e+00 (Msun), R: 7.9586e+00 (km)\n",
      "Central P: 7.9723e-03 (Msun/km^3), M: 1.8575e+00 (Msun), R: 7.9073e+00 (km)\n"
     ]
    },
    {
     "data": {
      "text/plain": [
       "0"
      ]
     },
     "execution_count": 28,
     "metadata": {},
     "output_type": "execute_result"
    }
   ],
   "source": [
    "ts=o2sclpy.tov_solve()\n",
    "ts.set_eos(eti)\n",
    "ts.verbose=1\n",
    "ts.mvsr()"
   ]
  },
  {
   "cell_type": "code",
   "execution_count": null,
   "id": "c2c8907f-a53c-453a-87ed-c5e55ca0a0c4",
   "metadata": {},
   "outputs": [],
   "source": [
    "Delete table rows larger than the maximum mass"
   ]
  },
  {
   "cell_type": "code",
   "execution_count": 27,
   "id": "abbf1a24",
   "metadata": {},
   "outputs": [],
   "source": [
    "nonrot=ts.get_results()\n",
    "prmax=nonrot.get('pr',nonrot.lookup('gm',nonrot.max('gm')))\n",
    "nonrot.delete_rows_func('pr>'+str(prmax))"
   ]
  },
  {
   "cell_type": "markdown",
   "id": "f25254f8",
   "metadata": {},
   "source": [
    "Desc"
   ]
  },
  {
   "cell_type": "code",
   "execution_count": 28,
   "id": "ac930a2f",
   "metadata": {},
   "outputs": [
    {
     "name": "stdout",
     "output_type": "stream",
     "text": [
      "edmax 0.0016363122285021168 b'Msun/km^3'\n",
      "edmax2 9.249465315790495 1/fm^4\n"
     ]
    }
   ],
   "source": [
    "edmax=nonrot.max('ed')\n",
    "print('edmax',edmax,nonrot.get_unit('ed'))\n",
    "edmax2=cu.convert('Msun/km^3','1/fm^4',edmax)\n",
    "print('edmax2',edmax2,'1/fm^4')\n",
    "tab.deriv_col('ed','pr','cs2')\n",
    "cs2_max=0"
   ]
  },
  {
   "cell_type": "markdown",
   "id": "a83bbe05",
   "metadata": {},
   "source": [
    "Desc"
   ]
  },
  {
   "cell_type": "code",
   "execution_count": 29,
   "id": "38429d25",
   "metadata": {},
   "outputs": [
    {
     "name": "stdout",
     "output_type": "stream",
     "text": [
      "0 0.384613589977625 9.249465315790495 0.012494176897938018\n",
      "1 0.4330185839599573 9.249465315790495 0.013985637274658139\n",
      "2 0.4814998033113402 9.249465315790495 0.016811121846601794\n",
      "3 0.5300624556310402 9.249465315790495 0.01978080985253972\n",
      "4 0.5787126307167264 9.249465315790495 0.02325477280974863\n",
      "5 0.6274572234749629 9.249465315790495 0.027174846701916496\n",
      "6 0.6763038759895955 9.249465315790495 0.03159263373311714\n",
      "7 0.7252609326297224 9.249465315790495 0.036528004641609525\n",
      "8 0.7743374043480464 9.249465315790495 0.04200710343007176\n",
      "9 0.8235429396515173 9.249465315790495 0.04805216986047157\n",
      "10 0.872887800541321 9.249465315790495 0.05468426022240193\n",
      "11 0.9223828422371005 9.249465315790495 0.06192249636320628\n",
      "12 0.9720394958397978 9.249465315790495 0.069784218255791\n",
      "13 1.0218697533163397 9.249465315790495 0.0782849541459594\n",
      "14 1.0718861543474325 9.249465315790495 0.08743819161697494\n",
      "15 1.1221017746912596 9.249465315790495 0.09725612176814875\n",
      "16 1.1725302157961375 9.249465315790495 0.10774668839028677\n",
      "17 1.2231855954539301 9.249465315790495 0.11892448658339927\n",
      "18 1.2740825393297588 9.249465315790495 0.13076987678176286\n",
      "19 1.3252361732365077 9.249465315790495 0.14338184136428955\n",
      "20 1.376662116047866 9.249465315790495 0.1564060243512984\n",
      "21 1.428376473163166 9.249465315790495 0.17117493431753783\n",
      "22 1.4803958304525604 9.249465315790495 0.18269834881974295\n",
      "23 1.532737248623154 9.249465315790495 0.20964320702060388\n",
      "24 1.5854182579563778 9.249465315790495 0.182102862181101\n",
      "25 1.6383998886838136 9.249465315790495 0.1482342499387448\n",
      "26 1.6916337650408606 9.249465315790495 0.1654172513130404\n",
      "27 1.745123671067315 9.249465315790495 0.168991887086093\n",
      "28 1.7988734107651243 9.249465315790495 0.1763251837537441\n",
      "29 1.8528868103575502 9.249465315790495 0.18275248479022219\n",
      "30 1.9071677204523914 9.249465315790495 0.1895268543995683\n",
      "31 1.9617200181216579 9.249465315790495 0.19631188863875407\n",
      "32 2.016547608908595 9.249465315790495 0.20319818471361886\n",
      "33 2.0716544287717102 9.249465315790495 0.2101616910150745\n",
      "34 2.1270444459743465 9.249465315790495 0.21720920182392267\n",
      "35 2.1827216629274693 9.249465315790495 0.2243392718889518\n",
      "36 2.23869011799249 9.249465315790495 0.23155271416693876\n",
      "37 2.294953887250312 9.249465315790495 0.23884977814366165\n",
      "38 2.351517086242158 9.249465315790495 0.24623090643137416\n",
      "39 2.4083838716872545 9.249465315790495 0.2536965302340709\n",
      "40 2.465558443181991 9.249465315790495 0.26124712318532983\n",
      "41 2.5230450448847717 9.249465315790495 0.2688831858150975\n",
      "42 2.580847967190495 9.249465315790495 0.276605249091124\n",
      "43 2.638971548398216 9.249465315790495 0.2844138717412281\n",
      "44 2.6974201763753904 9.249465315790495 0.29230964383668395\n",
      "45 2.7561982902217954 9.249465315790495 0.30029317196750716\n",
      "46 2.815310381936067 9.249465315790495 0.30836513237678165\n",
      "47 2.8747609980876323 9.249465315790495 0.31652607038377045\n",
      "48 2.934554741496627 9.249465315790495 0.3247771495585969\n",
      "49 2.9946962729243136 9.249465315790495 0.3331173464509197\n",
      "50 3.05519031277635 9.249465315790495 0.341553949408218\n",
      "51 3.116041642821225 9.249465315790495 0.3500632609155943\n",
      "52 3.177255107926018 9.249465315790495 0.35873769064200595\n",
      "53 3.2388356178116595 9.249465315790495 0.3672351641001066\n",
      "54 3.3007881488297355 9.249465315790495 0.37684011320553\n",
      "55 3.3631177457628625 9.249465315790495 0.38274853835631967\n",
      "56 3.4258295236506413 9.249465315790495 0.402948105441834\n",
      "57 3.596419145527554 9.249465315790495 0.4620332987694775\n",
      "58 3.7701726366575303 9.249465315790495 0.486117587866594\n",
      "59 3.947240708015502 9.249465315790495 0.5212547059506514\n",
      "60 4.127781903989479 9.249465315790495 0.5550514017346567\n",
      "61 4.311963259974175 9.249465315790495 0.5909277994160668\n",
      "62 4.499961014971622 9.249465315790495 0.6280310808034394\n",
      "63 4.691961386172613 9.249465315790495 0.6666704099072469\n",
      "64 4.888161413279605 9.249465315790495 0.7068464783070533\n",
      "65 5.088769881260033 9.249465315790495 0.7486500287855363\n",
      "66 5.294008331308221 9.249465315790495 0.7921544620077154\n",
      "67 5.5041121710686784 9.249465315790495 0.8374455063230333\n",
      "68 5.719331896663149 9.249465315790495 0.8846138301393758\n",
      "69 5.9399344408050245 9.249465315790495 0.9337577728538909\n",
      "70 6.166204663322015 9.249465315790495 0.9849834207676594\n",
      "71 6.398447002795105 9.249465315790495 1.038405501605648\n",
      "72 6.636987310824657 9.249465315790495 1.0941481689083408\n",
      "73 6.882174893733277 9.249465315790495 1.152345943901843\n",
      "74 7.134384790407123 9.249465315790495 1.2131447588885784\n",
      "75 7.394020319583565 9.249465315790495 1.2767031433350131\n",
      "76 7.661515935360394 9.249465315790495 1.3431935473598697\n",
      "77 7.937340436213176 9.249465315790495 1.4128039042996121\n",
      "78 8.222000580588768 9.249465315790495 1.4857391692305382\n",
      "79 8.516045171476373 9.249465315790495 1.5622239683222583\n",
      "80 8.82006968359523 9.249465315790495 1.6425022196392856\n",
      "81 9.134721520423389 9.249465315790495 1.726849628175228\n",
      "82 9.460706004784832 9.249465315790495 1.8155389161540578\n",
      "83 9.798793226823244 9.249465315790495 1.908986496975801\n",
      "84 10.149825897828403 9.249465315790495 2.0072117568562997\n",
      "85 10.51472838871097 9.249465315790495 2.111913093342328\n",
      "86 10.894517169450422 9.249465315790495 2.218589836486363\n",
      "87 11.290312912527975 9.249465315790495 2.3465688488971512\n",
      "88 11.70335458176579 9.249465315790495 2.4246166330375507\n",
      "cs2_max 1.726849628175228\n"
     ]
    }
   ],
   "source": [
    "for i in range(0,tab.get_nlines()):\n",
    "    print(i,tab.get('ed',i),edmax2,tab.get('cs2',i))\n",
    "    if tab.get('ed',i)<edmax2 and tab.get('cs2',i)>cs2_max:\n",
    "        cs2_max=tab.get('cs2',i)\n",
    "print('cs2_max',cs2_max)"
   ]
  },
  {
   "cell_type": "markdown",
   "id": "e37a8d31",
   "metadata": {},
   "source": [
    "The radius of a 1.4 solar mass neutron star"
   ]
  },
  {
   "cell_type": "code",
   "execution_count": 30,
   "id": "b436ae16",
   "metadata": {},
   "outputs": [
    {
     "name": "stdout",
     "output_type": "stream",
     "text": [
      "rad14 1.182518e+01\n"
     ]
    }
   ],
   "source": [
    "rad14=nonrot.interp('gm',1.4,'r')\n",
    "print('rad14 %7.6e' % (rad14))"
   ]
  },
  {
   "cell_type": "markdown",
   "id": "3b6e5f60",
   "metadata": {},
   "source": [
    "Desc"
   ]
  },
  {
   "cell_type": "code",
   "execution_count": 31,
   "id": "023601fe",
   "metadata": {},
   "outputs": [],
   "source": [
    "enri=o2sclpy.eos_nstar_rot_interp()\n",
    "edv=o2sclpy.std_vector()    \n",
    "prv=o2sclpy.std_vector()    \n",
    "nbv=o2sclpy.std_vector()"
   ]
  },
  {
   "cell_type": "markdown",
   "id": "6e32e983",
   "metadata": {},
   "source": [
    "Desc"
   ]
  },
  {
   "cell_type": "code",
   "execution_count": 32,
   "id": "ef092359",
   "metadata": {},
   "outputs": [],
   "source": [
    "for i in range(0,tab.get_nlines()):\n",
    "    edv.push_back(tab.get('ed',i))\n",
    "    prv.push_back(tab.get('pr',i))\n",
    "    nbv.push_back(tab.get('nb',i))\n",
    "enri.set_eos_fm(tab.get_nlines(),edv,prv,nbv)"
   ]
  },
  {
   "cell_type": "markdown",
   "id": "3df0d89b",
   "metadata": {},
   "source": [
    "Construct a configuration with a specified central energy density\n",
    "and axis ratio"
   ]
  },
  {
   "cell_type": "code",
   "execution_count": 33,
   "id": "6954a472",
   "metadata": {},
   "outputs": [],
   "source": [
    "nr=o2sclpy.nstar_rot()\n",
    "nr.verbose=1\n",
    "nr.set_eos(enri)\n",
    "nr.fix_cent_eden_axis_rat(2.0e15,0.59)"
   ]
  },
  {
   "cell_type": "code",
   "execution_count": 34,
   "id": "c49dd340",
   "metadata": {
    "lines_to_next_cell": 2
   },
   "outputs": [
    {
     "name": "stdout",
     "output_type": "stream",
     "text": [
      "Mass: 2.256231e+00\n"
     ]
    }
   ],
   "source": [
    "print('Mass: %7.6e' % (nr.Mass/nr.MSUN))"
   ]
  }
 ],
 "metadata": {
  "jupytext": {
   "cell_metadata_filter": "-all",
   "main_language": "python",
   "notebook_metadata_filter": "-all"
  },
  "kernelspec": {
   "display_name": "Python 3 (ipykernel)",
   "language": "python",
   "name": "python3"
  },
  "language_info": {
   "codemirror_mode": {
    "name": "ipython",
    "version": 3
   },
   "file_extension": ".py",
   "mimetype": "text/x-python",
   "name": "python",
   "nbconvert_exporter": "python",
   "pygments_lexer": "ipython3",
   "version": "3.12.3"
  }
 },
 "nbformat": 4,
 "nbformat_minor": 5
}
