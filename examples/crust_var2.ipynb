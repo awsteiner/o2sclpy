{
 "cells": [
  {
   "cell_type": "markdown",
   "id": "2ecb36e7",
   "metadata": {},
   "source": [
    "# Variation in the crust and core EOS "
   ]
  },
  {
   "cell_type": "code",
   "execution_count": 1,
   "id": "9ac781c8",
   "metadata": {},
   "outputs": [],
   "source": [
    "import o2sclpy\n",
    "import matplotlib.pyplot as plot\n",
    "import ctypes\n",
    "import numpy\n",
    "import sys\n",
    "import random"
   ]
  },
  {
   "cell_type": "code",
   "execution_count": 2,
   "id": "def0267e",
   "metadata": {
    "lines_to_next_cell": 1
   },
   "outputs": [],
   "source": [
    "plots=True\n",
    "if 'pytest' in sys.modules:\n",
    "    plots=False"
   ]
  },
  {
   "cell_type": "markdown",
   "id": "5ce2f1fc",
   "metadata": {},
   "source": [
    "A simple function which tests to ensure that the EOS is monotonic"
   ]
  },
  {
   "cell_type": "code",
   "execution_count": 3,
   "id": "a298cb16",
   "metadata": {
    "lines_to_next_cell": 1
   },
   "outputs": [],
   "source": [
    "def test_eos(ve,vp):\n",
    "    for i in range(0,len(ve)-1):\n",
    "        if ve[i]>=ve[i+1]:\n",
    "            return False\n",
    "        if vp[i]>=vp[i+1]:\n",
    "            return False\n",
    "    return True"
   ]
  },
  {
   "cell_type": "markdown",
   "id": "52ea09d5",
   "metadata": {},
   "source": [
    "Link the O$_2$scl library:"
   ]
  },
  {
   "cell_type": "code",
   "execution_count": 4,
   "id": "828be44f",
   "metadata": {},
   "outputs": [],
   "source": [
    "link=o2sclpy.linker()\n",
    "link.link_o2scl()"
   ]
  },
  {
   "cell_type": "markdown",
   "id": "68612674",
   "metadata": {},
   "source": [
    "The O$_2$scl unit conversion object"
   ]
  },
  {
   "cell_type": "code",
   "execution_count": 5,
   "id": "891a152f",
   "metadata": {},
   "outputs": [],
   "source": [
    "cu=link.o2scl_settings.get_convert_units()"
   ]
  },
  {
   "cell_type": "markdown",
   "id": "9f765d65",
   "metadata": {},
   "source": [
    "Create the object which interpolates the EOS for the TOV\n",
    "solver. Use the default crust EOS."
   ]
  },
  {
   "cell_type": "code",
   "execution_count": 6,
   "id": "20ba0a27",
   "metadata": {},
   "outputs": [],
   "source": [
    "eti=o2sclpy.eos_tov_interp(link)"
   ]
  },
  {
   "cell_type": "markdown",
   "id": "a618d5e0",
   "metadata": {},
   "source": [
    "Specify the EOS and determine the M-R curve"
   ]
  },
  {
   "cell_type": "code",
   "execution_count": 7,
   "id": "a8a63599",
   "metadata": {},
   "outputs": [],
   "source": [
    "ts=o2sclpy.tov_solve(link)\n",
    "ts.verbose=0\n",
    "ts.set_eos(eti)"
   ]
  },
  {
   "cell_type": "markdown",
   "id": "4b6b894c",
   "metadata": {},
   "source": [
    "Prepare the two-panel plot"
   ]
  },
  {
   "cell_type": "code",
   "execution_count": 8,
   "id": "dfeb8440",
   "metadata": {},
   "outputs": [
    {
     "name": "stdout",
     "output_type": "stream",
     "text": [
      "Created new axes named subplot0.\n",
      "Created new axes named subplot1.\n"
     ]
    },
    {
     "data": {
      "image/png": "[encoded data removed]",
      "text/plain": [
       "<Figure size 900x600 with 2 Axes>"
      ]
     },
     "metadata": {},
     "output_type": "display_data"
    }
   ],
   "source": [
    "pb=o2sclpy.plot_base()\n",
    "pb.fig_dict='fig_size_x=9,fig_size_y=6'\n",
    "pb.subplots(1,2)\n",
    "plot.subplots_adjust(left=0.10,right=0.99,top=0.98,bottom=0.12,\n",
    "                     wspace=0.20)\n",
    "pb.selax('0')\n",
    "pb.xtitle(r'$ \\varepsilon~(\\mathrm{MeV}/\\mathrm{fm}^3) $')\n",
    "pb.ytitle(r'$ P~(\\mathrm{MeV}/\\mathrm{km}^3) $')\n",
    "pb.xlimits(0.1,2.0e2)\n",
    "pb.ylimits(2.0e-4,1.0)\n",
    "pb.selax('1')\n",
    "pb.xtitle(r'$ \\varepsilon~(\\mathrm{MeV}/\\mathrm{fm}^3) $')\n",
    "pb.xlimits(0.1,3.0e3)\n",
    "pb.ylimits(2.0e-4,2.0e3)"
   ]
  },
  {
   "cell_type": "markdown",
   "id": "15fd1067",
   "metadata": {},
   "source": [
    "Core EOS from the 2021 PRL, first we download the file\n",
    "(if it's not already stored locally)."
   ]
  },
  {
   "cell_type": "code",
   "execution_count": 9,
   "id": "6a4c5300",
   "metadata": {},
   "outputs": [
    {
     "name": "stdout",
     "output_type": "stream",
     "text": [
      "Function cloud_file::get_file_hash() succeeded to obtain file named 'a21_all_IS_threep_8.o2'.\n"
     ]
    },
    {
     "data": {
      "text/plain": [
       "0"
      ]
     },
     "execution_count": 9,
     "metadata": {},
     "output_type": "execute_result"
    }
   ],
   "source": [
    "cf=o2sclpy.cloud_file(link)\n",
    "cf.verbose=1\n",
    "cf.get_file('a21_all_IS_threep_8.o2',\n",
    "            ('https://isospin.roam.utk.edu/public_data/almamun21/'+\n",
    "             '3P_GW_all_IS/is_threep_8_out'))"
   ]
  },
  {
   "cell_type": "markdown",
   "id": "3a97c75c",
   "metadata": {},
   "source": [
    "Now we read the results table and the fixed energy density grid from\n",
    "the HDF5 file"
   ]
  },
  {
   "cell_type": "code",
   "execution_count": 10,
   "id": "8c84f8c7",
   "metadata": {},
   "outputs": [
    {
     "name": "stdout",
     "output_type": "stream",
     "text": [
      "Reading the file. This takes a bit of time because it is a large file.\n",
      "Done reading the file. Table has 124480 lines.\n"
     ]
    }
   ],
   "source": [
    "print('Reading the file. This takes a bit of time because',\n",
    "      'it is a large file.')\n",
    "hf=o2sclpy.hdf_file(link)\n",
    "a21_tab=o2sclpy.table_units(link)\n",
    "ug_ed=o2sclpy.uniform_grid(link)\n",
    "hf.open('a21_all_IS_threep_8.o2')\n",
    "o2sclpy.hdf_input_table(link,hf,a21_tab,'markov_chain_0')\n",
    "o2sclpy.hdf_input_uniform_grid(link,hf,ug_ed,'e_grid')\n",
    "hf.close()\n",
    "print('Done reading the file. Table has',a21_tab.get_nlines(),'lines.')"
   ]
  },
  {
   "cell_type": "markdown",
   "id": "82d37580",
   "metadata": {},
   "source": [
    "Convert the uniform_grid object to a numpy vector"
   ]
  },
  {
   "cell_type": "code",
   "execution_count": 11,
   "id": "bfca5245",
   "metadata": {},
   "outputs": [],
   "source": [
    "ug_ed_v=o2sclpy.std_vector(link)\n",
    "ug_ed.vector(ug_ed_v)\n",
    "ug_ed_v=ug_ed_v.to_numpy()"
   ]
  },
  {
   "cell_type": "markdown",
   "id": "c492e767",
   "metadata": {},
   "source": [
    "Loop over EOSs from the A21 table"
   ]
  },
  {
   "cell_type": "code",
   "execution_count": null,
   "id": "2ade679c",
   "metadata": {},
   "outputs": [
    {
     "name": "stdout",
     "output_type": "stream",
     "text": [
      "A21 row      0, NGL 13 crust, L: 6.094e+01, M_max: 2.136186e+00\n",
      "A21 row   1244, NGL 13 crust, L: 9.517e+01, M_max: 2.152985e+00\n",
      "A21 row   2488, NGL 13 crust, L: 8.714e+01, M_max: 2.133703e+00\n",
      "A21 row   3732, NGL 13 crust, L: 8.118e+01, M_max: 2.061248e+00\n",
      "A21 row   4976, NGL 13 crust, L: 5.930e+01, M_max: 2.030153e+00\n",
      "A21 row   6220, NGL 13 crust, L: 5.561e+01, M_max: 2.298663e+00\n",
      "A21 row   7464, NGL 13 crust, L: 4.457e+01, M_max: 2.127017e+00\n",
      "A21 row   8708, NGL 13 crust, L: 3.267e+01, M_max: 2.016899e+00\n",
      "A21 row   9952, NGL 13 crust, L: 4.573e+01, M_max: 2.009696e+00\n",
      "A21 row  11196, NGL 13 crust, L: 9.925e+01, M_max: 2.257970e+00\n",
      "A21 row  12440, NGL 13 crust, L: 9.159e+01, M_max: 2.108070e+00\n",
      "A21 row  13684, NGL 13 crust, L: 1.000e+02, M_max: 2.026185e+00\n",
      "A21 row  14928, NGL 13 crust, L: 1.005e+02, M_max: 2.192350e+00\n",
      "A21 row  16172, NGL 13 crust, L: 1.068e+02, M_max: 2.106179e+00\n",
      "A21 row  17416, NGL 13 crust, L: 5.379e+01, M_max: 2.043211e+00\n",
      "A21 row  18660, NGL 13 crust, L: 9.889e+01, M_max: 2.027151e+00\n",
      "A21 row  19904, NGL 13 crust, L: 4.187e+01, M_max: 2.014228e+00\n",
      "A21 row  21148, NGL 13 crust, L: 9.574e+01, M_max: 2.009888e+00\n",
      "A21 row  22392, NGL 13 crust, L: 3.177e+01, M_max: 2.108446e+00\n",
      "A21 row  23636, NGL 13 crust, L: 5.466e+01, M_max: 2.132254e+00\n",
      "A21 row  24880, NGL 13 crust, L: 1.049e+02, M_max: 2.210367e+00\n"
     ]
    }
   ],
   "source": [
    "for i_eos in range(0,a21_tab.get_nlines(),\n",
    "                   int(a21_tab.get_nlines()/100)):\n",
    "\n",
    "    # Get the EOS from the specified row of the table\n",
    "    \n",
    "    a21_eos=o2sclpy.table_units(link)\n",
    "    a21_eos.line_of_names('ed pr')\n",
    "    a21_eos.line_of_units('1/fm^4 1/fm^4')\n",
    "    for i in range(0,100):\n",
    "        Pi=a21_tab.get('P_'+str(i),i_eos)\n",
    "        if Pi>0:\n",
    "            a21_eos.line_of_data([ug_ed_v[i],Pi])\n",
    "\n",
    "    if a21_eos.get_nlines()>50:\n",
    "    \n",
    "        # The maximum mass, as obtained by Mamun using bamr\n",
    "    \n",
    "        mmax=a21_tab.get('M_max',i_eos)\n",
    "    \n",
    "        # Get a random crust and load the EOS in the eos_tov object\n",
    "\n",
    "        L=random.random()*80+30\n",
    "        eti.read_table(a21_eos,'ed','pr')\n",
    "        eti.ngl13_low_dens_eos(L)\n",
    "        ve=eti.get_full_vece()\n",
    "        vp=eti.get_full_vecp()\n",
    "        \n",
    "        # Test EOS\n",
    "        \n",
    "        if test_eos(ve,vp):\n",
    "\n",
    "            # Plot EOS\n",
    "            \n",
    "            pb.selax('0')\n",
    "            ve2=[cu.convert('Msun/km^3','MeV/fm^3',ve[i]) for\n",
    "                 i in range(0,len(ve))]\n",
    "            vp2=[cu.convert('Msun/km^3','MeV/fm^3',vp[i]) for\n",
    "                 i in range(0,len(vp))]\n",
    "            pb.axes.loglog(ve2,vp2)\n",
    "            pb.selax('1')\n",
    "            pb.axes.loglog(ve2,vp2)\n",
    "\n",
    "            # Get M-R curve and maximum mass\n",
    "            \n",
    "            ts.mvsr()\n",
    "        \n",
    "            print('A21 row %6d, NGL 13 crust, L: %4.3e, M_max: %7.6e' %\n",
    "                  (i_eos,L,ts.get_results().max('gm')))"
   ]
  },
  {
   "cell_type": "markdown",
   "id": "a82e977e",
   "metadata": {},
   "source": [
    "Show all the EOSs"
   ]
  },
  {
   "cell_type": "code",
   "execution_count": null,
   "id": "74b406b1",
   "metadata": {
    "lines_to_next_cell": 1
   },
   "outputs": [],
   "source": [
    "pb.show()"
   ]
  },
  {
   "cell_type": "markdown",
   "id": "f20ccc8e",
   "metadata": {},
   "source": [
    "For testing using ``pytest``:"
   ]
  },
  {
   "cell_type": "code",
   "execution_count": null,
   "id": "9671476f",
   "metadata": {},
   "outputs": [],
   "source": [
    "def test_fun():\n",
    "    assert 0==0\n",
    "    return"
   ]
  }
 ],
 "metadata": {
  "jupytext": {
   "cell_metadata_filter": "-all",
   "main_language": "python",
   "notebook_metadata_filter": "-all"
  },
  "kernelspec": {
   "display_name": "Python 3 (ipykernel)",
   "language": "python",
   "name": "python3"
  },
  "language_info": {
   "codemirror_mode": {
    "name": "ipython",
    "version": 3
   },
   "file_extension": ".py",
   "mimetype": "text/x-python",
   "name": "python",
   "nbconvert_exporter": "python",
   "pygments_lexer": "ipython3",
   "version": "3.10.6"
  }
 },
 "nbformat": 4,
 "nbformat_minor": 5
}
