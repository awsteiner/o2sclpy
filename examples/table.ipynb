{
 "cells": [
  {
   "cell_type": "markdown",
   "id": "33089189",
   "metadata": {},
   "source": [
    "# O$_2$scl table example for O$_2$sclpy"
   ]
  },
  {
   "cell_type": "markdown",
   "id": "86cf38a6",
   "metadata": {},
   "source": [
    "See the O$_2$sclpy documentation at\n",
    "https://awsteiner.org/code/o2sclpy for more information."
   ]
  },
  {
   "cell_type": "code",
   "execution_count": 1,
   "id": "aedb63ae",
   "metadata": {},
   "outputs": [],
   "source": [
    "import o2sclpy\n",
    "import matplotlib.pyplot as plot\n",
    "import sys\n",
    "\n",
    "plots=True\n",
    "if 'pytest' in sys.modules:\n",
    "    plots=False"
   ]
  },
  {
   "cell_type": "markdown",
   "id": "b98d904b",
   "metadata": {},
   "source": [
    "Link the o2scl library:"
   ]
  },
  {
   "cell_type": "code",
   "execution_count": 2,
   "id": "c227db17",
   "metadata": {},
   "outputs": [],
   "source": [
    "link=o2sclpy.linker()\n",
    "link.link_o2scl()"
   ]
  },
  {
   "cell_type": "markdown",
   "id": "ee88f274",
   "metadata": {},
   "source": [
    "Create an HDF5 file object and open the table in O$_2$scl's data file for the Akmal, Pandharipande, and Ravenhall equation of state. The `open()` function for the `hdf_file` class is documented [here](https://awsteiner.org/code/o2sclpy/hdf.html#o2sclpy.hdf_file.open)."
   ]
  },
  {
   "cell_type": "code",
   "execution_count": 3,
   "id": "f02ca232",
   "metadata": {},
   "outputs": [],
   "source": [
    "hf=o2sclpy.hdf_file(link)\n",
    "hf.open(link.o2scl_settings.get_data_dir()+b'apr98.o2')"
   ]
  },
  {
   "cell_type": "markdown",
   "id": "e81cc1de",
   "metadata": {},
   "source": [
    "We create a table object and specify a blank name to indicate\n",
    "that we just want to read the first table in the file."
   ]
  },
  {
   "cell_type": "code",
   "execution_count": 4,
   "id": "f8e78e5e",
   "metadata": {},
   "outputs": [],
   "source": [
    "tab=o2sclpy.table(link)\n",
    "name=b''"
   ]
  },
  {
   "cell_type": "markdown",
   "id": "adecc7e1",
   "metadata": {},
   "source": [
    "Read the table:"
   ]
  },
  {
   "cell_type": "code",
   "execution_count": 5,
   "id": "c32513ca",
   "metadata": {},
   "outputs": [],
   "source": [
    "o2sclpy.hdf_input_table(link,hf,tab,name)"
   ]
  },
  {
   "cell_type": "markdown",
   "id": "be47f760",
   "metadata": {},
   "source": [
    "Close the HDF5 file."
   ]
  },
  {
   "cell_type": "code",
   "execution_count": 6,
   "id": "34bb8dae",
   "metadata": {},
   "outputs": [],
   "source": [
    "hf.close()"
   ]
  },
  {
   "cell_type": "markdown",
   "id": "32243a8b",
   "metadata": {},
   "source": [
    "We use the `cap_cout` class to capture `std::cout` to the Jupyter notebook. The `summary()` function lists the columns in the table."
   ]
  },
  {
   "cell_type": "code",
   "execution_count": 7,
   "id": "14c56c8c",
   "metadata": {},
   "outputs": [
    {
     "name": "stdout",
     "output_type": "stream",
     "text": [
      "Contents of std::cout:\n",
      "0 constants:\n",
      "3 columns: \n",
      "0. rho  1. nuc  2. neut \n",
      "13 lines of data.\n",
      "\n"
     ]
    }
   ],
   "source": [
    "cc=o2sclpy.cap_cout()\n",
    "cc.open()\n",
    "tab.summary()\n",
    "cc.close()"
   ]
  },
  {
   "cell_type": "markdown",
   "id": "400717b4",
   "metadata": {},
   "source": [
    "Finally, we use `matplotlib` to plot the data stored in the table:"
   ]
  },
  {
   "cell_type": "code",
   "execution_count": 8,
   "id": "06dd7459",
   "metadata": {},
   "outputs": [
    {
     "data": {
      "image/png": "[encoded data removed]",
      "text/plain": [
       "<Figure size 432x288 with 1 Axes>"
      ]
     },
     "metadata": {
      "needs_background": "light"
     },
     "output_type": "display_data"
    }
   ],
   "source": [
    "if plots:\n",
    "    plot.plot(tab['rho'],tab['nuc'])\n",
    "    plot.plot(tab['rho'],tab['neut'])\n",
    "    plot.show()"
   ]
  }
 ],
 "metadata": {
  "jupytext": {
   "cell_metadata_filter": "-all",
   "main_language": "python",
   "notebook_metadata_filter": "-all"
  },
  "kernelspec": {
   "display_name": "Python 3 (ipykernel)",
   "language": "python",
   "name": "python3"
  },
  "language_info": {
   "codemirror_mode": {
    "name": "ipython",
    "version": 3
   },
   "file_extension": ".py",
   "mimetype": "text/x-python",
   "name": "python",
   "nbconvert_exporter": "python",
   "pygments_lexer": "ipython3",
   "version": "3.10.2"
  }
 },
 "nbformat": 4,
 "nbformat_minor": 5
}
