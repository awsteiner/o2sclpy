{
 "cells": [
  {
   "cell_type": "code",
   "execution_count": 1,
   "id": "52f610cc-c3e7-487e-988a-f8f5babb4a4f",
   "metadata": {},
   "outputs": [],
   "source": [
    "import o2sclpy\n",
    "import numpy"
   ]
  },
  {
   "cell_type": "code",
   "execution_count": 2,
   "id": "3b47acb3-ef2d-4ace-8042-02a1a6451411",
   "metadata": {},
   "outputs": [],
   "source": [
    "link=o2sclpy.linker()\n",
    "link.link_o2scl()"
   ]
  },
  {
   "cell_type": "markdown",
   "id": "b1ade19e-8da0-49b4-8db3-149af27d1e7b",
   "metadata": {},
   "source": [
    "Get a copy (a pointer to) the O$_2$scl unit conversion object,\n",
    "which also allows access to the constant library"
   ]
  },
  {
   "cell_type": "code",
   "execution_count": 3,
   "id": "faef531a-c436-4a24-9aac-203f2c0b7e12",
   "metadata": {},
   "outputs": [],
   "source": [
    "cu=link.o2scl_settings.get_convert_units()"
   ]
  },
  {
   "cell_type": "markdown",
   "id": "1e7a8df6-da7b-492d-b06a-bb4426a0f47d",
   "metadata": {},
   "source": [
    "Get the value of $\\hbar c$ from an O$_2$scl find_constants object:"
   ]
  },
  {
   "cell_type": "code",
   "execution_count": 4,
   "id": "263f624f-7689-49c1-a18e-06ded0f984ca",
   "metadata": {},
   "outputs": [
    {
     "name": "stdout",
     "output_type": "stream",
     "text": [
      "hbarc = 1.973270e+02\n"
     ]
    }
   ],
   "source": [
    "hc=cu.find_unique('hbarc','MeV*fm')\n",
    "print('hbarc = %7.6e' % (hc))"
   ]
  },
  {
   "cell_type": "markdown",
   "id": "6a9472e2-30e4-4e2c-9a5d-a4f9c6a39189",
   "metadata": {},
   "source": [
    "Create neutron and proton objects and set their spin degeneracy and\n",
    "masses. The O$_2$scl EOS classes expect these masses to be in units\n",
    "of inverse femtometers."
   ]
  },
  {
   "cell_type": "code",
   "execution_count": 5,
   "id": "b353ffb5-4f94-437d-8245-8988381093f7",
   "metadata": {},
   "outputs": [],
   "source": [
    "neut=o2sclpy.fermion(link)\n",
    "neut.g=2.0\n",
    "neut.m=cu.convert('g','1/fm',cu.find_unique('massneutron','g'))"
   ]
  },
  {
   "cell_type": "code",
   "execution_count": 6,
   "id": "233482ae-d617-493b-bcbd-a5b4f6755e77",
   "metadata": {},
   "outputs": [],
   "source": [
    "prot=o2sclpy.fermion(link)\n",
    "prot.g=2.0\n",
    "prot.m=cu.convert('g','1/fm',cu.find_unique('massproton','g'))"
   ]
  },
  {
   "cell_type": "markdown",
   "id": "e81db4fd-487b-462e-8646-10f3a144c3df",
   "metadata": {},
   "source": [
    "Create the Skyrme EOS object and load the NRAPR parameterization:"
   ]
  },
  {
   "cell_type": "code",
   "execution_count": 7,
   "id": "94ee2cbe-82b6-434a-8742-bfb9d50c8662",
   "metadata": {},
   "outputs": [],
   "source": [
    "sk=o2sclpy.eos_had_skyrme(link)\n",
    "o2sclpy.skyrme_load(link,sk,'NRAPR',False,0)"
   ]
  },
  {
   "cell_type": "markdown",
   "id": "402efd5c-003e-45d0-89de-fe2e1c962c71",
   "metadata": {},
   "source": [
    "Compute nuclear saturation and output the saturation density\n",
    "and binding energy:"
   ]
  },
  {
   "cell_type": "code",
   "execution_count": 8,
   "id": "9f533abd-93f1-4d25-84c4-178b65e794b8",
   "metadata": {},
   "outputs": [
    {
     "name": "stdout",
     "output_type": "stream",
     "text": [
      "NRAPR: n0=1.605785e-01 1/fm^3, E/A=-1.585619e+01 MeV\n",
      "\n"
     ]
    }
   ],
   "source": [
    "sk.saturation()\n",
    "print('NRAPR: n0=%7.6e 1/fm^3, E/A=%7.6e MeV' % (sk.n0,sk.eoa*hc))\n",
    "print('')"
   ]
  },
  {
   "cell_type": "markdown",
   "id": "2a9bfa79-343c-492e-a19a-62afbd98f645",
   "metadata": {},
   "source": [
    "Create the nstar_cold object for automatically computing the\n",
    "beta-equilibrium EOS and solving the TOV equations:"
   ]
  },
  {
   "cell_type": "code",
   "execution_count": 9,
   "id": "96cb7871-d77e-4560-b8b1-165e1972982d",
   "metadata": {},
   "outputs": [],
   "source": [
    "nc=o2sclpy.nstar_cold(link)"
   ]
  },
  {
   "cell_type": "markdown",
   "id": "2b9b7993-1d24-4e78-b73b-57108e3ac587",
   "metadata": {},
   "source": [
    "Let the nstar_cold object know we want to use the Skyrme NRAPR EOS:"
   ]
  },
  {
   "cell_type": "code",
   "execution_count": 10,
   "id": "89d2164a-8934-4c6b-9ea0-f7327d957b7d",
   "metadata": {},
   "outputs": [],
   "source": [
    "nc.set_eos(sk)"
   ]
  },
  {
   "cell_type": "markdown",
   "id": "708a1df6-0156-4902-817f-f6459e2e76f2",
   "metadata": {},
   "source": [
    "Compute the EOS"
   ]
  },
  {
   "cell_type": "code",
   "execution_count": 11,
   "id": "fd280e00-d4ca-4648-8a6c-23df533d1bef",
   "metadata": {},
   "outputs": [],
   "source": [
    "ret1=nc.calc_eos(0.01)"
   ]
  },
  {
   "cell_type": "code",
   "execution_count": 12,
   "id": "af7e6439-6223-4223-8836-4127edab4a5c",
   "metadata": {},
   "outputs": [
    {
     "name": "stdout",
     "output_type": "stream",
     "text": [
      "1.400000e+00 solar mass mode.\n",
      "Maximum mass mode.\n",
      "Central P: 7.0000e-05 (Msun/km^3), M: 1.3444e+00 (Msun), R: 1.1935e+01 (km)\n",
      "Central P: 9.1000e-05 (Msun/km^3), M: 1.4623e+00 (Msun), R: 1.1788e+01 (km)\n",
      "Central P: 1.1830e-04 (Msun/km^3), M: 1.5723e+00 (Msun), R: 1.1619e+01 (km)\n",
      "Central P: 1.5379e-04 (Msun/km^3), M: 1.6714e+00 (Msun), R: 1.1425e+01 (km)\n",
      "Central P: 1.9993e-04 (Msun/km^3), M: 1.7567e+00 (Msun), R: 1.1208e+01 (km)\n",
      "Central P: 2.5991e-04 (Msun/km^3), M: 1.8263e+00 (Msun), R: 1.0968e+01 (km)\n",
      "Central P: 3.3788e-04 (Msun/km^3), M: 1.8791e+00 (Msun), R: 1.0710e+01 (km)\n",
      "Central P: 4.3924e-04 (Msun/km^3), M: 1.9149e+00 (Msun), R: 1.0437e+01 (km)\n",
      "Central P: 5.7101e-04 (Msun/km^3), M: 1.9340e+00 (Msun), R: 1.0154e+01 (km)\n",
      "Central P: 7.4231e-04 (Msun/km^3), M: 1.9379e+00 (Msun), R: 9.8650e+00 (km)\n",
      "Central P: 9.6501e-04 (Msun/km^3), M: 1.9282e+00 (Msun), R: 9.5751e+00 (km)\n",
      "Central P: 1.2545e-03 (Msun/km^3), M: 1.9069e+00 (Msun), R: 9.2890e+00 (km)\n",
      "Central P: 1.6309e-03 (Msun/km^3), M: 1.8762e+00 (Msun), R: 9.0109e+00 (km)\n",
      "Central P: 2.1201e-03 (Msun/km^3), M: 1.8383e+00 (Msun), R: 8.7448e+00 (km)\n",
      "Central P: 2.7562e-03 (Msun/km^3), M: 1.7951e+00 (Msun), R: 8.4944e+00 (km)\n",
      "Central P: 3.5830e-03 (Msun/km^3), M: 1.7487e+00 (Msun), R: 8.2643e+00 (km)\n",
      "Central P: 4.6579e-03 (Msun/km^3), M: 1.7007e+00 (Msun), R: 8.0582e+00 (km)\n",
      "Central P: 6.6808e-04 (Msun/km^3), M: 1.9381e+00 (Msun), R: 9.9814e+00 (km)\n",
      "Central P: 7.4231e-04 (Msun/km^3), M: 1.9379e+00 (Msun), R: 9.8650e+00 (km)\n",
      "Central P: 7.0520e-04 (Msun/km^3), M: 1.9383e+00 (Msun), R: 9.9217e+00 (km)\n",
      "Central P: 7.0520e-04 (Msun/km^3), M: 1.9383e+00 (Msun), R: 9.9217e+00 (km)\n",
      "Central P: 7.4231e-04 (Msun/km^3), M: 1.9379e+00 (Msun), R: 9.8650e+00 (km)\n",
      "Central P: 6.6808e-04 (Msun/km^3), M: 1.9381e+00 (Msun), R: 9.9814e+00 (km)\n",
      "Central P: 6.9644e-04 (Msun/km^3), M: 1.9383e+00 (Msun), R: 9.9355e+00 (km)\n",
      "Central P: 6.9102e-04 (Msun/km^3), M: 1.9383e+00 (Msun), R: 9.9441e+00 (km)\n",
      "Central P: 7.0520e-04 (Msun/km^3), M: 1.9383e+00 (Msun), R: 9.9217e+00 (km)\n",
      "Maximum gravitational mass is: 1.938299e+00\n",
      "Corresponding baryon mass is: 2.282546e+00\n",
      "Corresponding radius is: 9.921711e+00\n",
      "Central P: 5.2000e-05 (Msun/km^3), M: 1.2058e+00 (Msun), R: 1.2078e+01 (km)\n",
      "Central P: 5.2000e-05 (Msun/km^3), M: 1.2058e+00 (Msun), R: 1.2078e+01 (km)\n",
      "Central P: 5.2000e-05 (Msun/km^3), M: 1.2058e+00 (Msun), R: 1.2078e+01 (km)\n",
      "Central P: 7.3503e-05 (Msun/km^3), M: 1.3667e+00 (Msun), R: 1.1910e+01 (km)\n",
      "Central P: 7.7947e-05 (Msun/km^3), M: 1.3934e+00 (Msun), R: 1.1878e+01 (km)\n",
      "Central P: 7.9045e-05 (Msun/km^3), M: 1.3997e+00 (Msun), R: 1.1870e+01 (km)\n",
      "Central P: 7.9093e-05 (Msun/km^3), M: 1.4000e+00 (Msun), R: 1.1870e+01 (km)\n",
      "Central P: 7.9093e-05 (Msun/km^3), M: 1.4000e+00 (Msun), R: 1.1870e+01 (km)\n",
      "Central P: 7.9093e-05 (Msun/km^3), M: 1.4000e+00 (Msun), R: 1.1870e+01 (km)\n",
      "Gravitational mass is: 1.400000e+00\n",
      "Radius is: 1.186970e+01\n",
      "Baryon mass is: 1.554925e+00\n"
     ]
    },
    {
     "data": {
      "text/plain": [
       "0"
      ]
     },
     "execution_count": 12,
     "metadata": {},
     "output_type": "execute_result"
    }
   ],
   "source": [
    "nc.fixed(1.4)"
   ]
  },
  {
   "cell_type": "markdown",
   "id": "717c4f36-1256-4dd4-9ecd-a815d6e36bcb",
   "metadata": {},
   "source": [
    "Get the table for the TOV results"
   ]
  },
  {
   "cell_type": "code",
   "execution_count": 13,
   "id": "60751395-da76-4415-b93b-a67bd8f63e15",
   "metadata": {},
   "outputs": [],
   "source": [
    "tov_table=nc.get_tov_results()"
   ]
  },
  {
   "cell_type": "code",
   "execution_count": 14,
   "id": "00913836-97a0-4908-a284-d21378c79f73",
   "metadata": {},
   "outputs": [
    {
     "name": "stdout",
     "output_type": "stream",
     "text": [
      "<class 'o2sclpy.base.shared_ptr_table_units'>\n"
     ]
    }
   ],
   "source": [
    "print(type(tov_table))"
   ]
  },
  {
   "cell_type": "code",
   "execution_count": 15,
   "id": "616a4afe-0066-4af7-a883-92d61202bf71",
   "metadata": {},
   "outputs": [
    {
     "name": "stdout",
     "output_type": "stream",
     "text": [
      "400\n"
     ]
    }
   ],
   "source": [
    "print(tov_table.get_nlines())"
   ]
  },
  {
   "cell_type": "code",
   "execution_count": null,
   "id": "470ee808-d09c-4b47-85e5-a2bdd2003ce8",
   "metadata": {},
   "outputs": [],
   "source": [
    "cc=o2sclpy.cap_cout()\n",
    "cc.open()\n",
    "tov_table.summary()\n",
    "cc.close()"
   ]
  },
  {
   "cell_type": "code",
   "execution_count": null,
   "id": "8c3a466a-0645-4533-a983-91460d30fb69",
   "metadata": {},
   "outputs": [],
   "source": [
    "tov_table.summary()"
   ]
  },
  {
   "cell_type": "code",
   "execution_count": null,
   "id": "0a27f39a-19b3-4964-8a29-5729cd532258",
   "metadata": {},
   "outputs": [],
   "source": []
  }
 ],
 "metadata": {
  "kernelspec": {
   "display_name": "Python 3 (ipykernel)",
   "language": "python",
   "name": "python3"
  },
  "language_info": {
   "codemirror_mode": {
    "name": "ipython",
    "version": 3
   },
   "file_extension": ".py",
   "mimetype": "text/x-python",
   "name": "python",
   "nbconvert_exporter": "python",
   "pygments_lexer": "ipython3",
   "version": "3.12.3"
  }
 },
 "nbformat": 4,
 "nbformat_minor": 5
}
