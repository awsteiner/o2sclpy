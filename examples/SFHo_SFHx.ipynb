{
 "cells": [
  {
   "cell_type": "markdown",
   "id": "e0929fae",
   "metadata": {},
   "source": [
    "# SFHo/SFHx example for O$_2$sclpy"
   ]
  },
  {
   "cell_type": "markdown",
   "id": "27ed45fb",
   "metadata": {},
   "source": [
    "See the O$_2$sclpy documentation at\n",
    "https://neutronstars.utk.edu/code/o2sclpy for more information."
   ]
  },
  {
   "cell_type": "code",
   "execution_count": 1,
   "id": "770f6e3c",
   "metadata": {},
   "outputs": [],
   "source": [
    "import o2sclpy\n",
    "import matplotlib.pyplot as plot\n",
    "import numpy\n",
    "import sys\n",
    "\n",
    "plots=True\n",
    "if 'pytest' in sys.modules:\n",
    "    plots=False"
   ]
  },
  {
   "cell_type": "markdown",
   "id": "1302c3d8",
   "metadata": {},
   "source": [
    "Link the O$_2$scl library:"
   ]
  },
  {
   "cell_type": "code",
   "execution_count": 2,
   "id": "f2d3c2ad",
   "metadata": {},
   "outputs": [],
   "source": [
    "link=o2sclpy.linker()\n",
    "link.link_o2scl()"
   ]
  },
  {
   "cell_type": "markdown",
   "id": "9521b1db",
   "metadata": {},
   "source": [
    "Get a copy (a pointer to) the O$_2$scl unit conversion object, which\n",
    "also allows access to the constant library, then get ħc."
   ]
  },
  {
   "cell_type": "code",
   "execution_count": 3,
   "id": "64829780",
   "metadata": {},
   "outputs": [
    {
     "name": "stdout",
     "output_type": "stream",
     "text": [
      "ħc = 1.973270e+02\n",
      "\n"
     ]
    }
   ],
   "source": [
    "cu=link.o2scl_settings.get_convert_units()\n",
    "hc=cu.find_unique('hbarc','MeV*fm')\n",
    "print('ħc = %7.6e\\n' % (ħc))"
   ]
  },
  {
   "cell_type": "markdown",
   "id": "b2c798dd",
   "metadata": {},
   "source": [
    "Create the EOS objects"
   ]
  },
  {
   "cell_type": "code",
   "execution_count": 5,
   "id": "ce958a89",
   "metadata": {},
   "outputs": [],
   "source": [
    "sfho=o2sclpy.eos_had_rmf(link)\n",
    "o2sclpy.rmf_load(link,sfho,'SFHo')\n",
    "sfhx=o2sclpy.eos_had_rmf(link)\n",
    "o2sclpy.rmf_load(link,sfhx,'SFHx')"
   ]
  },
  {
   "cell_type": "markdown",
   "id": "4166fdae",
   "metadata": {},
   "source": [
    "Compute nuclear saturation and output the saturation density\n",
    "and binding energy:"
   ]
  },
  {
   "cell_type": "code",
   "execution_count": 6,
   "id": "09f6d5fb",
   "metadata": {},
   "outputs": [
    {
     "name": "stdout",
     "output_type": "stream",
     "text": [
      "SFHo: n0=1.582415e-01 1/fm^3, E/A=-1.617240e+01 MeV, K=2.452197e+02 MeV, M*/M=7.610394e-01, S=3.123132e+01 MeV, L=4.574056e+01 MeV\n",
      "\n",
      "SFHx: n0=1.600292e-01 1/fm^3, E/A=-1.614755e+01 MeV, K=2.386347e+02 MeV, M*/M=7.181083e-01, S=2.827230e+01 MeV, L=2.318924e+01 MeV\n",
      "\n"
     ]
    }
   ],
   "source": [
    "sfho.saturation()\n",
    "print(('SFHo: n0=%7.6e 1/fm^3, E/A=%7.6e MeV, K=%7.6e MeV, '+\n",
    "       'M*/M=%7.6e, S=%7.6e MeV, L=%7.6e MeV\\n') % \n",
    "      (sfho.n0,sfho.eoa*ħc,sfho.comp*ħc,sfho.msom,sfho.esym*ħc,\n",
    "       sfho.fesym_slope(sfho.n0)*ħc))\n",
    "\n",
    "sfhx.saturation()\n",
    "print(('SFHx: n0=%7.6e 1/fm^3, E/A=%7.6e MeV, K=%7.6e MeV, '+\n",
    "       'M*/M=%7.6e, S=%7.6e MeV, L=%7.6e MeV\\n') % \n",
    "      (sfhx.n0,sfhx.eoa*ħc,sfhx.comp*ħc,sfhx.msom,sfhx.esym*ħc,\n",
    "       sfhx.fesym_slope(sfhx.n0)*ħc))"
   ]
  },
  {
   "cell_type": "markdown",
   "id": "be9642a4",
   "metadata": {},
   "source": [
    "Baryon density grid in $1/\\mathrm{fm}^3$. The O$_2$scl object\n",
    "`uniform_grid_end_width` is like numpy.arange() but is numerically\n",
    "stable."
   ]
  },
  {
   "cell_type": "code",
   "execution_count": 7,
   "id": "c3d5b2f0",
   "metadata": {},
   "outputs": [],
   "source": [
    "ug_nb=o2sclpy.uniform_grid_end_width.init(link,0.01,0.32,0.01)"
   ]
  },
  {
   "cell_type": "markdown",
   "id": "1f2f7dde",
   "metadata": {},
   "source": [
    "Temperature grid in MeV"
   ]
  },
  {
   "cell_type": "code",
   "execution_count": 8,
   "id": "017955fe",
   "metadata": {},
   "outputs": [],
   "source": [
    "ug_T=o2sclpy.uniform_grid_end_width.init(link,0.1,10.0,0.1)"
   ]
  },
  {
   "cell_type": "markdown",
   "id": "0d5e6c51",
   "metadata": {},
   "source": [
    "Store the EOS in a table3d object"
   ]
  },
  {
   "cell_type": "code",
   "execution_count": 9,
   "id": "228e167d",
   "metadata": {},
   "outputs": [],
   "source": [
    "t3d=o2sclpy.table3d(link)\n",
    "t3d.set_xy_grid('nB',ug_nb,'T',ug_T)"
   ]
  },
  {
   "cell_type": "markdown",
   "id": "320fa7b0",
   "metadata": {},
   "source": [
    "Create a new slice for the energy per baryon"
   ]
  },
  {
   "cell_type": "code",
   "execution_count": 10,
   "id": "0c96bbda",
   "metadata": {},
   "outputs": [],
   "source": [
    "t3d.new_slice('EoA')"
   ]
  },
  {
   "cell_type": "markdown",
   "id": "39a289b9",
   "metadata": {},
   "source": [
    "Instead of creating new fermion objects, just get the default\n",
    "neutron and proton from the EOS object. Similarly, we need a\n",
    "'thermo' object to store the energy density, pressure, and entropy."
   ]
  },
  {
   "cell_type": "code",
   "execution_count": 11,
   "id": "fc4cbdd4",
   "metadata": {},
   "outputs": [],
   "source": [
    "n=sfho.get_def_neutron()\n",
    "p=sfho.get_def_proton()\n",
    "th=sfho.get_def_thermo()"
   ]
  },
  {
   "cell_type": "markdown",
   "id": "aafc99da",
   "metadata": {},
   "source": [
    "By default, the O2scl EOS objects work in units of\n",
    "$\\mathrm{fm}^{-1}$, so we multiply by ħc to get MeV."
   ]
  },
  {
   "cell_type": "code",
   "execution_count": 12,
   "id": "94ceeea5",
   "metadata": {},
   "outputs": [
    {
     "name": "stdout",
     "output_type": "stream",
     "text": [
      "Neutron mass is 9.395654e+02 MeV.\n",
      "Proton mass is 9.382721e+02 MeV.\n",
      "\n"
     ]
    }
   ],
   "source": [
    "print('Neutron mass is %7.6e MeV.' % (n.m*ħc))\n",
    "print('Proton mass is %7.6e MeV.\\n' % (p.m*ħc))"
   ]
  },
  {
   "cell_type": "markdown",
   "id": "90f80277",
   "metadata": {},
   "source": [
    "The solver works much better with an initial guess, so\n",
    "we store the values of the meson fields "
   ]
  },
  {
   "cell_type": "code",
   "execution_count": 13,
   "id": "5b772d1a",
   "metadata": {},
   "outputs": [],
   "source": [
    "sigma=0.0\n",
    "omega=0.0\n",
    "rho=0.0"
   ]
  },
  {
   "cell_type": "markdown",
   "id": "01c5546e",
   "metadata": {},
   "source": [
    "The EOS at finite temperature for isospin-symmetric matter, with\n",
    "equal numbers of neutrons and protons. Our temperature grid is in\n",
    "MeV, but again the EOS objects expect $\\mathrm{fm}^{-1}$ so we have\n",
    "to divide the temperature by ħc."
   ]
  },
  {
   "cell_type": "code",
   "execution_count": 14,
   "id": "83248faa",
   "metadata": {},
   "outputs": [
    {
     "name": "stdout",
     "output_type": "stream",
     "text": [
      "1 of 32\n",
      "2 of 32\n",
      "3 of 32\n",
      "4 of 32\n",
      "5 of 32\n",
      "6 of 32\n",
      "7 of 32\n",
      "8 of 32\n",
      "9 of 32\n",
      "10 of 32\n",
      "11 of 32\n",
      "12 of 32\n",
      "13 of 32\n",
      "14 of 32\n",
      "15 of 32\n",
      "16 of 32\n",
      "17 of 32\n",
      "18 of 32\n",
      "19 of 32\n",
      "20 of 32\n",
      "21 of 32\n",
      "22 of 32\n",
      "23 of 32\n",
      "24 of 32\n",
      "25 of 32\n",
      "26 of 32\n",
      "27 of 32\n",
      "28 of 32\n",
      "29 of 32\n",
      "30 of 32\n",
      "31 of 32\n",
      "32 of 32\n"
     ]
    }
   ],
   "source": [
    "for i in range(0,t3d.get_nx()):\n",
    "    print(i+1,'of',t3d.get_nx())\n",
    "    # At the lowest temperature point we always need a new initial\n",
    "    # guess.\n",
    "    first_point=True\n",
    "    for j in range(0,t3d.get_ny()):\n",
    "        n.n=ug_nb[i]/2.0\n",
    "        p.n=ug_nb[i]/2.0\n",
    "        # If we're not at the lowest temperature point, use the\n",
    "        # previous solution to the field equations to generate\n",
    "        # the next solution.\n",
    "        if first_point==False:\n",
    "            sfho.set_fields(sigma,omega,rho)\n",
    "        sfho.calc_temp_e(n,p,ug_T[j]/ħc,th)\n",
    "        if first_point==True:\n",
    "            first_point=False\n",
    "        ret,sigma,omega,rho=sfho.get_fields()\n",
    "        # Divide the energy density by the baryon density to\n",
    "        # get the energy per baryon, and then subtract out the\n",
    "        # rest mass contribution from both the neutrons and\n",
    "        # the protons.\n",
    "        t3d.set(i,j,'EoA',th.ed/ug_nb[i]*ħc-n.m*n.n/ug_nb[i]*ħc-\n",
    "                p.m*p.n*ħc/ug_nb[i])"
   ]
  },
  {
   "cell_type": "markdown",
   "id": "5de7e9b2",
   "metadata": {},
   "source": [
    "Now plot the results. Raw matplotlib works, but o2sclpy has\n",
    "a couple functions which make it easier. "
   ]
  },
  {
   "cell_type": "code",
   "execution_count": 15,
   "id": "5c7bd425",
   "metadata": {
    "lines_to_next_cell": 1
   },
   "outputs": [
    {
     "data": {
      "image/png": "[encoded data removed]",
      "text/plain": [
       "<Figure size 432x432 with 2 Axes>"
      ]
     },
     "metadata": {},
     "output_type": "display_data"
    }
   ],
   "source": [
    "if plots:\n",
    "    pl=o2sclpy.plotter()\n",
    "    pl.colbar=True\n",
    "    pl.xtitle(r'$ n_B~(\\mathrm{fm}^{-3}) $')\n",
    "    pl.ytitle(r'$ T~(\\mathrm{MeV}) $')\n",
    "    pl.ttext(1.25,0.5,r'$ E/A~(\\mathrm{MeV}) $',rotation=90)\n",
    "    pl.den_plot_direct(t3d,'EoA')\n",
    "    plot.show()"
   ]
  },
  {
   "cell_type": "markdown",
   "id": "2a24b259",
   "metadata": {},
   "source": [
    "For testing purposes"
   ]
  },
  {
   "cell_type": "code",
   "execution_count": 16,
   "id": "21cc9787",
   "metadata": {},
   "outputs": [],
   "source": [
    "def test_fun():\n",
    "    assert numpy.allclose(sfho.n0,0.1582415,rtol=1.0e-4)\n",
    "    assert numpy.allclose(sfhx.n0,0.1600292,rtol=1.0e-4)\n",
    "    return"
   ]
  },
  {
   "cell_type": "code",
   "execution_count": null,
   "id": "937507f8",
   "metadata": {},
   "outputs": [],
   "source": []
  }
 ],
 "metadata": {
  "jupytext": {
   "cell_metadata_filter": "-all",
   "main_language": "python",
   "notebook_metadata_filter": "-all"
  },
  "kernelspec": {
   "display_name": "Python 3 (ipykernel)",
   "language": "python",
   "name": "python3"
  },
  "language_info": {
   "codemirror_mode": {
    "name": "ipython",
    "version": 3
   },
   "file_extension": ".py",
   "mimetype": "text/x-python",
   "name": "python",
   "nbconvert_exporter": "python",
   "pygments_lexer": "ipython3",
   "version": "3.10.2"
  }
 },
 "nbformat": 4,
 "nbformat_minor": 5
}
