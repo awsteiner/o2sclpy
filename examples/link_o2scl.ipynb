{
 "cells": [
  {
   "cell_type": "markdown",
   "id": "fc5f3ac0",
   "metadata": {},
   "source": [
    "# O$_2$scl library linking example for O$_2$sclpy"
   ]
  },
  {
   "cell_type": "markdown",
   "id": "b431ae5e",
   "metadata": {},
   "source": [
    "See the O$_2$sclpy documentation at\n",
    "https://neutronstars.utk.edu/code/o2sclpy for more information."
   ]
  },
  {
   "cell_type": "code",
   "execution_count": null,
   "id": "5723a068",
   "metadata": {},
   "outputs": [],
   "source": [
    "import sys\n",
    "print(sys.path)"
   ]
  },
  {
   "cell_type": "code",
   "execution_count": 1,
   "id": "9bf5e93e",
   "metadata": {},
   "outputs": [],
   "source": [
    "import o2sclpy\n",
    "import sys\n",
    "\n",
    "plots=True\n",
    "if 'pytest' in sys.modules:\n",
    "    plots=False"
   ]
  },
  {
   "cell_type": "markdown",
   "id": "e9923dbd",
   "metadata": {},
   "source": [
    "This code dynamically links the O$_2$scl library. Environment\n",
    "variables can be used to specify the location of various libraries\n",
    "which need to be added. These values can also be set directly in the\n",
    "linker class (and then they override the environment variables). See\n",
    "http://neutronstars.utk.edu/code/o2sclpy/link_cpp.html#linking-with-o2scl\n",
    "for more detail. We set the verbose parameter to 1 to output more\n",
    "information about which libraries are being linked."
   ]
  },
  {
   "cell_type": "code",
   "execution_count": 2,
   "id": "92229769",
   "metadata": {},
   "outputs": [
    {
     "name": "stdout",
     "output_type": "stream",
     "text": [
      "Set o2scl_cpp_lib from environment variable O2SCL_CPP_LIB to\n",
      "  '/usr/local/lib/gcc/11/libstdc++.dylib'.\n",
      "Loading C++ library '/usr/local/lib/gcc/11/libstdc++.dylib'.\n",
      "Finished loading C++ library.\n",
      "Set o2scl_addl_libs from environment variable O2SCL_ADDL_LIBS to:\n",
      "   ['/usr/lib/libreadline.dylib', '/usr/local/lib/gcc/11/libgomp.1.dylib']\n",
      "Loading additional library '/usr/lib/libreadline.dylib'.\n",
      "Loading additional library '/usr/local/lib/gcc/11/libgomp.1.dylib'.\n",
      "Finished loading additional libraries.\n",
      "Set o2scl_lib_dir from environment variable O2SCL_LIB to\n",
      "  '/usr/local/lib'.\n",
      "Loading /usr/local/lib/libo2scl.dylib.\n",
      "Loading /usr/local/lib/libo2scl_hdf.dylib.\n",
      "Loading /usr/local/lib/libo2scl_part.dylib.\n",
      "Loading /usr/local/lib/libo2scl_eos.dylib.\n",
      "Done loading o2scl libraries.\n",
      "Setting alternate error handler.\n"
     ]
    }
   ],
   "source": [
    "link=o2sclpy.linker()\n",
    "link.verbose=1\n",
    "link.link_o2scl()"
   ]
  },
  {
   "cell_type": "markdown",
   "id": "6afe23cc",
   "metadata": {},
   "source": [
    "To test that the link worked, obtain the O$_2$scl version from the DLL:"
   ]
  },
  {
   "cell_type": "code",
   "execution_count": 3,
   "id": "33df8d74",
   "metadata": {
    "lines_to_next_cell": 1
   },
   "outputs": [
    {
     "name": "stdout",
     "output_type": "stream",
     "text": [
      "b'0.927a1'\n"
     ]
    }
   ],
   "source": [
    "print(link.o2scl_settings.o2scl_version())"
   ]
  },
  {
   "cell_type": "code",
   "execution_count": 4,
   "id": "822f7a33",
   "metadata": {},
   "outputs": [],
   "source": [
    "def test_fun():\n",
    "    assert link.o2scl_settings.o2scl_version()==b'0.928a1'\n",
    "    return"
   ]
  }
 ],
 "metadata": {
  "jupytext": {
   "cell_metadata_filter": "-all",
   "main_language": "python",
   "notebook_metadata_filter": "-all"
  },
  "kernelspec": {
   "display_name": "Python 3 (ipykernel)",
   "language": "python",
   "name": "python3"
  },
  "language_info": {
   "codemirror_mode": {
    "name": "ipython",
    "version": 3
   },
   "file_extension": ".py",
   "mimetype": "text/x-python",
   "name": "python",
   "nbconvert_exporter": "python",
   "pygments_lexer": "ipython3",
   "version": "3.9.7"
  }
 },
 "nbformat": 4,
 "nbformat_minor": 5
}
