{
 "cells": [
  {
   "cell_type": "markdown",
   "id": "fc5f3ac0",
   "metadata": {},
   "source": [
    "# O$_2$scl library linking example for O$_2$sclpy"
   ]
  },
  {
   "cell_type": "markdown",
   "id": "b431ae5e",
   "metadata": {},
   "source": [
    "See the O$_2$sclpy documentation at\n",
    "https://awsteiner.org/code/o2sclpy for more information."
   ]
  },
  {
   "cell_type": "code",
   "execution_count": 1,
   "id": "5723a068",
   "metadata": {},
   "outputs": [
    {
     "name": "stdout",
     "output_type": "stream",
     "text": [
      "['/Users/awsteiner2/wcs/o2sclpy/examples', '/usr/local/Cellar/python@3.11/3.11.4_1/Frameworks/Python.framework/Versions/3.11/lib/python311.zip', '/usr/local/Cellar/python@3.11/3.11.4_1/Frameworks/Python.framework/Versions/3.11/lib/python3.11', '/usr/local/Cellar/python@3.11/3.11.4_1/Frameworks/Python.framework/Versions/3.11/lib/python3.11/lib-dynload', '', '/usr/local/Cellar/jupyterlab/4.0.2/libexec/lib/python3.11/site-packages', '/usr/local/opt/ipython/libexec/lib/python3.11/site-packages', '/usr/local/opt/pygments/lib/python3.11/site-packages', '/usr/local/opt/pycparser/lib/python3.11/site-packages', '/usr/local/opt/cffi/lib/python3.11/site-packages', '/usr/local/opt/six/lib/python3.11/site-packages', '/usr/local/opt/python-typing-extensions/lib/python3.11/site-packages', '/usr/local/opt/pyyaml/lib/python3.11/site-packages', '/Users/awsteiner2/Library/Python/3.11/lib/python/site-packages', '/usr/local/lib/python3.11/site-packages']\n"
     ]
    }
   ],
   "source": [
    "import sys\n",
    "print(sys.path)"
   ]
  },
  {
   "cell_type": "code",
   "execution_count": 2,
   "id": "9bf5e93e",
   "metadata": {},
   "outputs": [],
   "source": [
    "import o2sclpy\n",
    "import sys\n",
    "\n",
    "plots=True\n",
    "if 'pytest' in sys.modules:\n",
    "    plots=False"
   ]
  },
  {
   "cell_type": "markdown",
   "id": "e9923dbd",
   "metadata": {},
   "source": [
    "This code dynamically links the O$_2$scl library. Environment\n",
    "variables can be used to specify the location of various libraries\n",
    "which need to be added. These values can also be set directly in the\n",
    "linker class (and then they override the environment variables). See\n",
    "http://awsteiner.org/code/o2sclpy/link_cpp.html#linking-with-o2scl\n",
    "for more detail. We set the verbose parameter to 1 to output more\n",
    "information about which libraries are being linked."
   ]
  },
  {
   "cell_type": "markdown",
   "id": "6afe23cc",
   "metadata": {},
   "source": [
    "To test that the link worked, obtain the O$_2$scl version from the DLL:"
   ]
  },
  {
   "cell_type": "code",
   "execution_count": 4,
   "id": "33df8d74",
   "metadata": {},
   "outputs": [
    {
     "name": "stdout",
     "output_type": "stream",
     "text": [
      "b'0.930a1'\n"
     ]
    }
   ],
   "source": [
    "o2scl_settings=o2sclpy.lib_settings_class()"
   ]
  },
  {
   "cell_type": "code",
   "execution_count": 5,
   "id": "822f7a33",
   "metadata": {
    "lines_to_next_cell": 1
   },
   "outputs": [],
   "source": [
    "print(o2scl_settings.o2scl_version())"
   ]
  },
  {
   "cell_type": "code",
   "execution_count": null,
   "id": "e5d9412e",
   "metadata": {},
   "outputs": [],
   "source": [
    "def test_fun():\n",
    "    assert o2scl_settings.o2scl_version()==b'0.930a5'\n",
    "    return"
   ]
  }
 ],
 "metadata": {
  "jupytext": {
   "cell_metadata_filter": "-all",
   "main_language": "python",
   "notebook_metadata_filter": "-all"
  },
  "kernelspec": {
   "display_name": "Python 3 (ipykernel)",
   "language": "python",
   "name": "python3"
  },
  "language_info": {
   "codemirror_mode": {
    "name": "ipython",
    "version": 3
   },
   "file_extension": ".py",
   "mimetype": "text/x-python",
   "name": "python",
   "nbconvert_exporter": "python",
   "pygments_lexer": "ipython3",
   "version": "3.11.4"
  }
 },
 "nbformat": 4,
 "nbformat_minor": 5
}
