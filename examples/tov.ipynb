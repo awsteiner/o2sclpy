{
 "cells": [
  {
   "cell_type": "markdown",
   "id": "3fc8183b",
   "metadata": {},
   "source": [
    "# Tolman-Oppenheimer-Volkov example for O$_2$sclpy"
   ]
  },
  {
   "cell_type": "markdown",
   "id": "1de243df",
   "metadata": {},
   "source": [
    "See the O$_2$sclpy documentation at https://awsteiner.org/code/o2sclpy for more information."
   ]
  },
  {
   "cell_type": "code",
   "execution_count": 1,
   "id": "8c46b427",
   "metadata": {},
   "outputs": [],
   "source": [
    "import o2sclpy\n",
    "import matplotlib.pyplot as plot\n",
    "import ctypes\n",
    "import numpy\n",
    "import sys\n",
    "\n",
    "plots=True\n",
    "if 'pytest' in sys.modules:\n",
    "    plots=False"
   ]
  },
  {
   "cell_type": "markdown",
   "id": "cd8c039f",
   "metadata": {},
   "source": [
    "Link the O$_2$scl library:"
   ]
  },
  {
   "cell_type": "code",
   "execution_count": 2,
   "id": "b1f114c7",
   "metadata": {},
   "outputs": [],
   "source": [
    "link=o2sclpy.linker()\n",
    "link.link_o2scl()"
   ]
  },
  {
   "cell_type": "markdown",
   "id": "38301d17",
   "metadata": {},
   "source": [
    "This is the APR EOS as computed in ``o2scl/examples/ex_eos_had_apr.cpp``."
   ]
  },
  {
   "cell_type": "code",
   "execution_count": 3,
   "id": "0778e337",
   "metadata": {},
   "outputs": [],
   "source": [
    "eos=[[4.500000e-02,2.156413e-01,6.998033e-04],\n",
    "     [8.500000e-02,4.084332e-01,2.456061e-03],\n",
    "     [1.250000e-01,6.025862e-01,7.007571e-03],\n",
    "     [1.650000e-01,7.987918e-01,1.572468e-02],\n",
    "     [2.040000e-01,9.927169e-01,2.946785e-02],\n",
    "     [2.440000e-01,1.193221e+00,3.249203e-02],\n",
    "     [2.840000e-01,1.395525e+00,5.124024e-02],\n",
    "     [3.240000e-01,1.600975e+00,7.771385e-02],\n",
    "     [3.640000e-01,1.810261e+00,1.139703e-01],\n",
    "     [4.040000e-01,2.024147e+00,1.620335e-01],\n",
    "     [4.440000e-01,2.243442e+00,2.238295e-01],\n",
    "     [4.840000e-01,2.468981e+00,3.012283e-01],\n",
    "     [5.240000e-01,2.701614e+00,3.960900e-01],\n",
    "     [5.640000e-01,2.942202e+00,5.102769e-01],\n",
    "     [6.040000e-01,3.191619e+00,6.456452e-01],\n",
    "     [6.440000e-01,3.450743e+00,8.040340e-01],\n",
    "     [6.840000e-01,3.720458e+00,9.872584e-01],\n",
    "     [7.240000e-01,4.001649e+00,1.197107e+00],\n",
    "     [7.640000e-01,4.295201e+00,1.435340e+00],\n",
    "     [8.040000e-01,4.602000e+00,1.703690e+00],\n",
    "     [8.440000e-01,4.922926e+00,2.003863e+00],\n",
    "     [8.840000e-01,5.258860e+00,2.337541e+00],\n",
    "     [9.240000e-01,5.610674e+00,2.706378e+00],\n",
    "     [9.640000e-01,5.979240e+00,3.112009e+00],\n",
    "     [1.004000e+00,6.365422e+00,3.556046e+00],\n",
    "     [1.044000e+00,6.770081e+00,4.040080e+00],\n",
    "     [1.084000e+00,7.194071e+00,4.565686e+00],\n",
    "     [1.124000e+00,7.638242e+00,5.134417e+00],\n",
    "     [1.164000e+00,8.103438e+00,5.747813e+00],\n",
    "     [1.204000e+00,8.590497e+00,6.407393e+00],\n",
    "     [1.244000e+00,9.100252e+00,7.114660e+00],\n",
    "     [1.284000e+00,9.633531e+00,7.871098e+00],\n",
    "     [1.324000e+00,1.019116e+01,8.678169e+00],\n",
    "     [1.364000e+00,1.077394e+01,9.537317e+00],\n",
    "     [1.404000e+00,1.138270e+01,1.044996e+01],\n",
    "     [1.444000e+00,1.201824e+01,1.141747e+01],\n",
    "     [1.484000e+00,1.268134e+01,1.244122e+01],\n",
    "     [1.524000e+00,1.337281e+01,1.352252e+01],\n",
    "     [1.564000e+00,1.409343e+01,1.466262e+01],\n",
    "     [1.604000e+00,1.484397e+01,1.586275e+01],\n",
    "     [1.644000e+00,1.562519e+01,1.712404e+01],\n",
    "     [1.684000e+00,1.643786e+01,1.844757e+01],\n",
    "     [1.724000e+00,1.728270e+01,1.983432e+01],\n",
    "     [1.764000e+00,1.816046e+01,2.128515e+01],\n",
    "     [1.804000e+00,1.907185e+01,2.280082e+01],\n",
    "     [1.844000e+00,2.001758e+01,2.438194e+01],\n",
    "     [1.884000e+00,2.099830e+01,2.602899e+01],\n",
    "     [1.924000e+00,2.201470e+01,2.774223e+01],\n",
    "     [1.964000e+00,2.306741e+01,2.952175e+01]]"
   ]
  },
  {
   "cell_type": "markdown",
   "id": "63a59491",
   "metadata": {},
   "source": [
    "Create a table, the columns, and the units for each column"
   ]
  },
  {
   "cell_type": "code",
   "execution_count": 4,
   "id": "43669964",
   "metadata": {},
   "outputs": [],
   "source": [
    "tab=o2sclpy.table_units(link)\n",
    "tab.line_of_names(\"nb ed pr\")\n",
    "tab.line_of_units(\"1/fm^3 1/fm^4 1/fm^4\")"
   ]
  },
  {
   "cell_type": "markdown",
   "id": "2731bf36",
   "metadata": {},
   "source": [
    "Fill the table with the Python data"
   ]
  },
  {
   "cell_type": "code",
   "execution_count": 5,
   "id": "578f4521",
   "metadata": {},
   "outputs": [],
   "source": [
    "for i in range(0,len(eos)):\n",
    "    tab.line_of_data([eos[i][j] for j in range(0,3)])"
   ]
  },
  {
   "cell_type": "markdown",
   "id": "2a66c63c",
   "metadata": {},
   "source": [
    "Create a new column in the table for the chemical\n",
    "potential"
   ]
  },
  {
   "cell_type": "code",
   "execution_count": 6,
   "id": "fc86f1e6",
   "metadata": {},
   "outputs": [],
   "source": [
    "tab.function_column('(ed+pr)/nb','mu')"
   ]
  },
  {
   "cell_type": "markdown",
   "id": "e08d4c99",
   "metadata": {},
   "source": [
    "Create the object which interpolates the EOS for the TOV\n",
    "solver. Use the default crust EOS."
   ]
  },
  {
   "cell_type": "code",
   "execution_count": 7,
   "id": "ce77424f",
   "metadata": {},
   "outputs": [],
   "source": [
    "eti=o2sclpy.eos_tov_interp(link)\n",
    "eti.default_low_dens_eos()\n",
    "eti.read_table(tab,'ed','pr','nb')"
   ]
  },
  {
   "cell_type": "markdown",
   "id": "52852053",
   "metadata": {},
   "source": [
    "Specify the EOS and determine the M-R curve"
   ]
  },
  {
   "cell_type": "code",
   "execution_count": 8,
   "id": "dc26b3ab",
   "metadata": {},
   "outputs": [
    {
     "name": "stdout",
     "output_type": "stream",
     "text": [
      "Mass versus radius mode.\n",
      "Central P: 7.0000e-07 (Msun/km^3), M: 1.0722e-01 (Msun), R: 5.7745e+01 (km)\n",
      "Central P: 7.7000e-07 (Msun/km^3), M: 1.1205e-01 (Msun), R: 4.6451e+01 (km)\n",
      "Central P: 8.4700e-07 (Msun/km^3), M: 1.1754e-01 (Msun), R: 3.8926e+01 (km)\n",
      "Central P: 9.3170e-07 (Msun/km^3), M: 1.2361e-01 (Msun), R: 3.3646e+01 (km)\n",
      "Central P: 1.0249e-06 (Msun/km^3), M: 1.3020e-01 (Msun), R: 2.9792e+01 (km)\n",
      "Central P: 1.1274e-06 (Msun/km^3), M: 1.3722e-01 (Msun), R: 2.6891e+01 (km)\n",
      "Central P: 1.2401e-06 (Msun/km^3), M: 1.4460e-01 (Msun), R: 2.4649e+01 (km)\n",
      "Central P: 1.3641e-06 (Msun/km^3), M: 1.5264e-01 (Msun), R: 2.2817e+01 (km)\n",
      "Central P: 1.5005e-06 (Msun/km^3), M: 1.6165e-01 (Msun), R: 2.1265e+01 (km)\n",
      "Central P: 1.6506e-06 (Msun/km^3), M: 1.7164e-01 (Msun), R: 1.9961e+01 (km)\n",
      "Central P: 1.8156e-06 (Msun/km^3), M: 1.8259e-01 (Msun), R: 1.8868e+01 (km)\n",
      "Central P: 1.9972e-06 (Msun/km^3), M: 1.9444e-01 (Msun), R: 1.7954e+01 (km)\n",
      "Central P: 2.1969e-06 (Msun/km^3), M: 2.0714e-01 (Msun), R: 1.7189e+01 (km)\n",
      "Central P: 2.4166e-06 (Msun/km^3), M: 2.2062e-01 (Msun), R: 1.6546e+01 (km)\n",
      "Central P: 2.6582e-06 (Msun/km^3), M: 2.3480e-01 (Msun), R: 1.6004e+01 (km)\n",
      "Central P: 2.9241e-06 (Msun/km^3), M: 2.4970e-01 (Msun), R: 1.5542e+01 (km)\n",
      "Central P: 3.2165e-06 (Msun/km^3), M: 2.6593e-01 (Msun), R: 1.5134e+01 (km)\n",
      "Central P: 3.5381e-06 (Msun/km^3), M: 2.8354e-01 (Msun), R: 1.4777e+01 (km)\n",
      "Central P: 3.8919e-06 (Msun/km^3), M: 3.0246e-01 (Msun), R: 1.4467e+01 (km)\n",
      "Central P: 4.2811e-06 (Msun/km^3), M: 3.2260e-01 (Msun), R: 1.4201e+01 (km)\n",
      "Central P: 4.7092e-06 (Msun/km^3), M: 3.4383e-01 (Msun), R: 1.3972e+01 (km)\n",
      "Central P: 5.1802e-06 (Msun/km^3), M: 3.6604e-01 (Msun), R: 1.3776e+01 (km)\n",
      "Central P: 5.6982e-06 (Msun/km^3), M: 3.8428e-01 (Msun), R: 1.3630e+01 (km)\n",
      "Central P: 6.2680e-06 (Msun/km^3), M: 3.9798e-01 (Msun), R: 1.3505e+01 (km)\n",
      "Central P: 6.8948e-06 (Msun/km^3), M: 4.1319e-01 (Msun), R: 1.3369e+01 (km)\n",
      "Central P: 7.5843e-06 (Msun/km^3), M: 4.2997e-01 (Msun), R: 1.3230e+01 (km)\n",
      "Central P: 8.3427e-06 (Msun/km^3), M: 4.4825e-01 (Msun), R: 1.3091e+01 (km)\n",
      "Central P: 9.1770e-06 (Msun/km^3), M: 4.6789e-01 (Msun), R: 1.2956e+01 (km)\n",
      "Central P: 1.0095e-05 (Msun/km^3), M: 4.8929e-01 (Msun), R: 1.2826e+01 (km)\n",
      "Central P: 1.1104e-05 (Msun/km^3), M: 5.1268e-01 (Msun), R: 1.2702e+01 (km)\n",
      "Central P: 1.2215e-05 (Msun/km^3), M: 5.3792e-01 (Msun), R: 1.2586e+01 (km)\n",
      "Central P: 1.3436e-05 (Msun/km^3), M: 5.6485e-01 (Msun), R: 1.2479e+01 (km)\n",
      "Central P: 1.4780e-05 (Msun/km^3), M: 5.9351e-01 (Msun), R: 1.2380e+01 (km)\n",
      "Central P: 1.6258e-05 (Msun/km^3), M: 6.2438e-01 (Msun), R: 1.2289e+01 (km)\n",
      "Central P: 1.7883e-05 (Msun/km^3), M: 6.5730e-01 (Msun), R: 1.2206e+01 (km)\n",
      "Central P: 1.9672e-05 (Msun/km^3), M: 6.9200e-01 (Msun), R: 1.2133e+01 (km)\n",
      "Central P: 2.1639e-05 (Msun/km^3), M: 7.2847e-01 (Msun), R: 1.2066e+01 (km)\n",
      "Central P: 2.3803e-05 (Msun/km^3), M: 7.6716e-01 (Msun), R: 1.2007e+01 (km)\n",
      "Central P: 2.6183e-05 (Msun/km^3), M: 8.0780e-01 (Msun), R: 1.1954e+01 (km)\n",
      "Central P: 2.8801e-05 (Msun/km^3), M: 8.5003e-01 (Msun), R: 1.1908e+01 (km)\n",
      "Central P: 3.1681e-05 (Msun/km^3), M: 8.9404e-01 (Msun), R: 1.1866e+01 (km)\n",
      "Central P: 3.4850e-05 (Msun/km^3), M: 9.3994e-01 (Msun), R: 1.1829e+01 (km)\n",
      "Central P: 3.8335e-05 (Msun/km^3), M: 9.8731e-01 (Msun), R: 1.1796e+01 (km)\n",
      "Central P: 4.2168e-05 (Msun/km^3), M: 1.0359e+00 (Msun), R: 1.1765e+01 (km)\n",
      "Central P: 4.6385e-05 (Msun/km^3), M: 1.0860e+00 (Msun), R: 1.1737e+01 (km)\n",
      "Central P: 5.1023e-05 (Msun/km^3), M: 1.1372e+00 (Msun), R: 1.1711e+01 (km)\n",
      "Central P: 5.6126e-05 (Msun/km^3), M: 1.1891e+00 (Msun), R: 1.1686e+01 (km)\n",
      "Central P: 6.1738e-05 (Msun/km^3), M: 1.2420e+00 (Msun), R: 1.1661e+01 (km)\n",
      "Central P: 6.7912e-05 (Msun/km^3), M: 1.2953e+00 (Msun), R: 1.1637e+01 (km)\n",
      "Central P: 7.4703e-05 (Msun/km^3), M: 1.3487e+00 (Msun), R: 1.1612e+01 (km)\n",
      "Central P: 8.2174e-05 (Msun/km^3), M: 1.4023e+00 (Msun), R: 1.1585e+01 (km)\n",
      "Central P: 9.0391e-05 (Msun/km^3), M: 1.4556e+00 (Msun), R: 1.1557e+01 (km)\n",
      "Central P: 9.9430e-05 (Msun/km^3), M: 1.5085e+00 (Msun), R: 1.1528e+01 (km)\n",
      "Central P: 1.0937e-04 (Msun/km^3), M: 1.5607e+00 (Msun), R: 1.1496e+01 (km)\n",
      "Central P: 1.2031e-04 (Msun/km^3), M: 1.6119e+00 (Msun), R: 1.1461e+01 (km)\n",
      "Central P: 1.3234e-04 (Msun/km^3), M: 1.6619e+00 (Msun), R: 1.1424e+01 (km)\n",
      "Central P: 1.4558e-04 (Msun/km^3), M: 1.7105e+00 (Msun), R: 1.1384e+01 (km)\n",
      "Central P: 1.6013e-04 (Msun/km^3), M: 1.7575e+00 (Msun), R: 1.1341e+01 (km)\n",
      "Central P: 1.7615e-04 (Msun/km^3), M: 1.8026e+00 (Msun), R: 1.1295e+01 (km)\n",
      "Central P: 1.9376e-04 (Msun/km^3), M: 1.8457e+00 (Msun), R: 1.1245e+01 (km)\n",
      "Central P: 2.1314e-04 (Msun/km^3), M: 1.8866e+00 (Msun), R: 1.1192e+01 (km)\n",
      "Central P: 2.3445e-04 (Msun/km^3), M: 1.9252e+00 (Msun), R: 1.1136e+01 (km)\n",
      "Central P: 2.5790e-04 (Msun/km^3), M: 1.9613e+00 (Msun), R: 1.1076e+01 (km)\n",
      "Central P: 2.8369e-04 (Msun/km^3), M: 1.9949e+00 (Msun), R: 1.1014e+01 (km)\n",
      "Central P: 3.1205e-04 (Msun/km^3), M: 2.0259e+00 (Msun), R: 1.0948e+01 (km)\n",
      "Central P: 3.4326e-04 (Msun/km^3), M: 2.0541e+00 (Msun), R: 1.0879e+01 (km)\n",
      "Central P: 3.7759e-04 (Msun/km^3), M: 2.0796e+00 (Msun), R: 1.0808e+01 (km)\n",
      "Central P: 4.1534e-04 (Msun/km^3), M: 2.1024e+00 (Msun), R: 1.0734e+01 (km)\n",
      "Central P: 4.5688e-04 (Msun/km^3), M: 2.1225e+00 (Msun), R: 1.0657e+01 (km)\n",
      "Central P: 5.0257e-04 (Msun/km^3), M: 2.1399e+00 (Msun), R: 1.0579e+01 (km)\n",
      "Central P: 5.5282e-04 (Msun/km^3), M: 2.1547e+00 (Msun), R: 1.0498e+01 (km)\n",
      "Central P: 6.0811e-04 (Msun/km^3), M: 2.1669e+00 (Msun), R: 1.0416e+01 (km)\n",
      "Central P: 6.6892e-04 (Msun/km^3), M: 2.1766e+00 (Msun), R: 1.0332e+01 (km)\n",
      "Central P: 7.3581e-04 (Msun/km^3), M: 2.1838e+00 (Msun), R: 1.0247e+01 (km)\n",
      "Central P: 8.0939e-04 (Msun/km^3), M: 2.1888e+00 (Msun), R: 1.0161e+01 (km)\n",
      "Central P: 8.9033e-04 (Msun/km^3), M: 2.1915e+00 (Msun), R: 1.0074e+01 (km)\n",
      "Central P: 9.7936e-04 (Msun/km^3), M: 2.1922e+00 (Msun), R: 9.9865e+00 (km)\n",
      "Central P: 1.0773e-03 (Msun/km^3), M: 2.1908e+00 (Msun), R: 9.8987e+00 (km)\n",
      "Central P: 1.1850e-03 (Msun/km^3), M: 2.1877e+00 (Msun), R: 9.8107e+00 (km)\n",
      "Central P: 1.3035e-03 (Msun/km^3), M: 2.1827e+00 (Msun), R: 9.7228e+00 (km)\n",
      "Central P: 1.4339e-03 (Msun/km^3), M: 2.1762e+00 (Msun), R: 9.6353e+00 (km)\n",
      "Central P: 1.5773e-03 (Msun/km^3), M: 2.1682e+00 (Msun), R: 9.5483e+00 (km)\n",
      "Central P: 1.7350e-03 (Msun/km^3), M: 2.1589e+00 (Msun), R: 9.4621e+00 (km)\n",
      "Central P: 1.9085e-03 (Msun/km^3), M: 2.1484e+00 (Msun), R: 9.3768e+00 (km)\n",
      "Central P: 2.0993e-03 (Msun/km^3), M: 2.1367e+00 (Msun), R: 9.2927e+00 (km)\n",
      "Central P: 2.3093e-03 (Msun/km^3), M: 2.1240e+00 (Msun), R: 9.2099e+00 (km)\n",
      "Central P: 2.5402e-03 (Msun/km^3), M: 2.1105e+00 (Msun), R: 9.1286e+00 (km)\n",
      "Central P: 2.7942e-03 (Msun/km^3), M: 2.0962e+00 (Msun), R: 9.0490e+00 (km)\n",
      "Central P: 3.0736e-03 (Msun/km^3), M: 2.0813e+00 (Msun), R: 8.9712e+00 (km)\n",
      "Central P: 3.3810e-03 (Msun/km^3), M: 2.0658e+00 (Msun), R: 8.8954e+00 (km)\n",
      "Central P: 3.7191e-03 (Msun/km^3), M: 2.0499e+00 (Msun), R: 8.8217e+00 (km)\n",
      "Central P: 4.0910e-03 (Msun/km^3), M: 2.0336e+00 (Msun), R: 8.7503e+00 (km)\n",
      "Central P: 4.5001e-03 (Msun/km^3), M: 2.0170e+00 (Msun), R: 8.6812e+00 (km)\n",
      "Central P: 4.9501e-03 (Msun/km^3), M: 2.0003e+00 (Msun), R: 8.6147e+00 (km)\n",
      "Central P: 5.4452e-03 (Msun/km^3), M: 1.9835e+00 (Msun), R: 8.5508e+00 (km)\n",
      "Central P: 5.9897e-03 (Msun/km^3), M: 1.9667e+00 (Msun), R: 8.4896e+00 (km)\n",
      "Central P: 6.5886e-03 (Msun/km^3), M: 1.9499e+00 (Msun), R: 8.4312e+00 (km)\n",
      "Central P: 7.2475e-03 (Msun/km^3), M: 1.9332e+00 (Msun), R: 8.3758e+00 (km)\n",
      "Central P: 7.9723e-03 (Msun/km^3), M: 1.9168e+00 (Msun), R: 8.3234e+00 (km)\n"
     ]
    },
    {
     "data": {
      "text/plain": [
       "0"
      ]
     },
     "execution_count": 8,
     "metadata": {},
     "output_type": "execute_result"
    }
   ],
   "source": [
    "ts=o2sclpy.tov_solve(link)\n",
    "ts.set_eos(eti)\n",
    "ts.mvsr()"
   ]
  },
  {
   "cell_type": "markdown",
   "id": "8111ba1f",
   "metadata": {},
   "source": [
    "Obtain the table of results and the maximum mass"
   ]
  },
  {
   "cell_type": "code",
   "execution_count": 9,
   "id": "3b870437",
   "metadata": {},
   "outputs": [
    {
     "name": "stdout",
     "output_type": "stream",
     "text": [
      "M_max: 2.192160e+00\n"
     ]
    }
   ],
   "source": [
    "mvsr_table=ts.get_results()\n",
    "print('M_max: %7.6e' % mvsr_table.max(\"gm\"))"
   ]
  },
  {
   "cell_type": "markdown",
   "id": "d7e756aa",
   "metadata": {},
   "source": [
    "Delete rows in the table which correspond to unstable configurations"
   ]
  },
  {
   "cell_type": "code",
   "execution_count": 10,
   "id": "ac512034",
   "metadata": {},
   "outputs": [],
   "source": [
    "mvsr_table.set_nlines(mvsr_table.lookup(\"gm\",mvsr_table.max(\"gm\"))+1)"
   ]
  },
  {
   "cell_type": "markdown",
   "id": "c1f0cd4f",
   "metadata": {},
   "source": [
    "Plot the mass-radius curve"
   ]
  },
  {
   "cell_type": "code",
   "execution_count": 11,
   "id": "6b891deb",
   "metadata": {
    "lines_to_next_cell": 1
   },
   "outputs": [
    {
     "data": {
      "image/png": "[encoded data removed]",
      "text/plain": [
       "<Figure size 432x432 with 1 Axes>"
      ]
     },
     "metadata": {},
     "output_type": "display_data"
    }
   ],
   "source": [
    "if plots:\n",
    "    p=o2sclpy.plot_base()\n",
    "    p.xlimits(9.5,20)\n",
    "    p.plot([mvsr_table,'r','gm'])\n",
    "    p.xtitle(r'$ R~(\\mathrm{km}) $')\n",
    "    p.ytitle(r'$ M~(\\mathrm{M}_{\\odot}) $')\n",
    "    p.show()"
   ]
  },
  {
   "cell_type": "markdown",
   "id": "34a79ec3",
   "metadata": {},
   "source": [
    "For testing using ``pytest``:"
   ]
  },
  {
   "cell_type": "code",
   "execution_count": 12,
   "id": "6eb9c29c",
   "metadata": {},
   "outputs": [],
   "source": [
    "def test_fun():\n",
    "    assert numpy.allclose(mvsr_table.max(\"gm\"),2.192,rtol=4.0e-4)\n",
    "    return"
   ]
  }
 ],
 "metadata": {
  "jupytext": {
   "cell_metadata_filter": "-all",
   "main_language": "python",
   "notebook_metadata_filter": "-all"
  },
  "kernelspec": {
   "display_name": "Python 3 (ipykernel)",
   "language": "python",
   "name": "python3"
  },
  "language_info": {
   "codemirror_mode": {
    "name": "ipython",
    "version": 3
   },
   "file_extension": ".py",
   "mimetype": "text/x-python",
   "name": "python",
   "nbconvert_exporter": "python",
   "pygments_lexer": "ipython3",
   "version": "3.10.6"
  }
 },
 "nbformat": 4,
 "nbformat_minor": 5
}
