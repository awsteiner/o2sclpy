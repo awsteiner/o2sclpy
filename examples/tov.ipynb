{
 "cells": [
  {
   "cell_type": "markdown",
   "id": "3fc8183b",
   "metadata": {},
   "source": [
    "# TOV example for O$_2$sclpy"
   ]
  },
  {
   "cell_type": "markdown",
   "id": "1de243df",
   "metadata": {},
   "source": [
    "See the O$_2$sclpy documentation at https://neutronstars.utk.edu/code/o2sclpy for more information."
   ]
  },
  {
   "cell_type": "code",
   "execution_count": null,
   "id": "8c46b427",
   "metadata": {},
   "outputs": [],
   "source": [
    "import o2sclpy\n",
    "import matplotlib.pyplot as plot\n",
    "import ctypes\n",
    "import numpy\n",
    "import sys\n",
    "\n",
    "plots=True\n",
    "if 'pytest' in sys.modules:\n",
    "    plots=False"
   ]
  },
  {
   "cell_type": "markdown",
   "id": "cd8c039f",
   "metadata": {},
   "source": [
    "Link the O$_2$scl library:"
   ]
  },
  {
   "cell_type": "code",
   "execution_count": null,
   "id": "b1f114c7",
   "metadata": {},
   "outputs": [],
   "source": [
    "link=o2sclpy.linker()\n",
    "link.link_o2scl()"
   ]
  },
  {
   "cell_type": "markdown",
   "id": "38301d17",
   "metadata": {},
   "source": [
    "THis is the APR EOS as computed in o2scl/examples/ex_eos_had_apr.cpp"
   ]
  },
  {
   "cell_type": "code",
   "execution_count": null,
   "id": "0778e337",
   "metadata": {},
   "outputs": [],
   "source": [
    "eos=[[4.500000e-02,2.156413e-01,6.998033e-04],\n",
    "     [8.500000e-02,4.084332e-01,2.456061e-03],\n",
    "     [1.250000e-01,6.025862e-01,7.007571e-03],\n",
    "     [1.650000e-01,7.987918e-01,1.572468e-02],\n",
    "     [2.040000e-01,9.927169e-01,2.946785e-02],\n",
    "     [2.440000e-01,1.193221e+00,3.249203e-02],\n",
    "     [2.840000e-01,1.395525e+00,5.124024e-02],\n",
    "     [3.240000e-01,1.600975e+00,7.771385e-02],\n",
    "     [3.640000e-01,1.810261e+00,1.139703e-01],\n",
    "     [4.040000e-01,2.024147e+00,1.620335e-01],\n",
    "     [4.440000e-01,2.243442e+00,2.238295e-01],\n",
    "     [4.840000e-01,2.468981e+00,3.012283e-01],\n",
    "     [5.240000e-01,2.701614e+00,3.960900e-01],\n",
    "     [5.640000e-01,2.942202e+00,5.102769e-01],\n",
    "     [6.040000e-01,3.191619e+00,6.456452e-01],\n",
    "     [6.440000e-01,3.450743e+00,8.040340e-01],\n",
    "     [6.840000e-01,3.720458e+00,9.872584e-01],\n",
    "     [7.240000e-01,4.001649e+00,1.197107e+00],\n",
    "     [7.640000e-01,4.295201e+00,1.435340e+00],\n",
    "     [8.040000e-01,4.602000e+00,1.703690e+00],\n",
    "     [8.440000e-01,4.922926e+00,2.003863e+00],\n",
    "     [8.840000e-01,5.258860e+00,2.337541e+00],\n",
    "     [9.240000e-01,5.610674e+00,2.706378e+00],\n",
    "     [9.640000e-01,5.979240e+00,3.112009e+00],\n",
    "     [1.004000e+00,6.365422e+00,3.556046e+00],\n",
    "     [1.044000e+00,6.770081e+00,4.040080e+00],\n",
    "     [1.084000e+00,7.194071e+00,4.565686e+00],\n",
    "     [1.124000e+00,7.638242e+00,5.134417e+00],\n",
    "     [1.164000e+00,8.103438e+00,5.747813e+00],\n",
    "     [1.204000e+00,8.590497e+00,6.407393e+00],\n",
    "     [1.244000e+00,9.100252e+00,7.114660e+00],\n",
    "     [1.284000e+00,9.633531e+00,7.871098e+00],\n",
    "     [1.324000e+00,1.019116e+01,8.678169e+00],\n",
    "     [1.364000e+00,1.077394e+01,9.537317e+00],\n",
    "     [1.404000e+00,1.138270e+01,1.044996e+01],\n",
    "     [1.444000e+00,1.201824e+01,1.141747e+01],\n",
    "     [1.484000e+00,1.268134e+01,1.244122e+01],\n",
    "     [1.524000e+00,1.337281e+01,1.352252e+01],\n",
    "     [1.564000e+00,1.409343e+01,1.466262e+01],\n",
    "     [1.604000e+00,1.484397e+01,1.586275e+01],\n",
    "     [1.644000e+00,1.562519e+01,1.712404e+01],\n",
    "     [1.684000e+00,1.643786e+01,1.844757e+01],\n",
    "     [1.724000e+00,1.728270e+01,1.983432e+01],\n",
    "     [1.764000e+00,1.816046e+01,2.128515e+01],\n",
    "     [1.804000e+00,1.907185e+01,2.280082e+01],\n",
    "     [1.844000e+00,2.001758e+01,2.438194e+01],\n",
    "     [1.884000e+00,2.099830e+01,2.602899e+01],\n",
    "     [1.924000e+00,2.201470e+01,2.774223e+01],\n",
    "     [1.964000e+00,2.306741e+01,2.952175e+01]]"
   ]
  },
  {
   "cell_type": "code",
   "execution_count": null,
   "id": "43669964",
   "metadata": {},
   "outputs": [],
   "source": [
    "# Create a table, the columns, and the units for each column\n",
    "tab=o2sclpy.table_units(link)\n",
    "tab.line_of_names(\"nb ed pr\")\n",
    "tab.line_of_units(\"1/fm^3 1/fm^4 1/fm^4\")"
   ]
  },
  {
   "cell_type": "code",
   "execution_count": null,
   "id": "578f4521",
   "metadata": {},
   "outputs": [],
   "source": [
    "# Fill the table with the Python data\n",
    "tab.set_nlines(len(eos))\n",
    "for i in range(0,len(eos)):\n",
    "    tab.line_of_data([eos[i][j] for j in range(0,3)])"
   ]
  },
  {
   "cell_type": "code",
   "execution_count": null,
   "id": "ce77424f",
   "metadata": {},
   "outputs": [],
   "source": [
    "eti=o2sclpy.eos_tov_interp(link)\n",
    "eti.default_low_dens_eos()\n",
    "eti.read_table(tab,'ed','pr','nb')"
   ]
  },
  {
   "cell_type": "code",
   "execution_count": null,
   "id": "dc26b3ab",
   "metadata": {},
   "outputs": [],
   "source": [
    "ts=o2sclpy.tov_solve(link)\n",
    "ts.set_eos(eti)\n",
    "ts.mvsr()"
   ]
  },
  {
   "cell_type": "code",
   "execution_count": null,
   "id": "3b870437",
   "metadata": {
    "lines_to_next_cell": 1
   },
   "outputs": [],
   "source": [
    "mvsr_table=ts.get_results()\n",
    "print('M_max: %7.6e' % mvsr_table.max(\"gm\"))"
   ]
  },
  {
   "cell_type": "markdown",
   "id": "34a79ec3",
   "metadata": {},
   "source": [
    "For testing using ``pytest``:"
   ]
  },
  {
   "cell_type": "code",
   "execution_count": null,
   "id": "6eb9c29c",
   "metadata": {},
   "outputs": [],
   "source": [
    "def test_fun():\n",
    "    assert numpy.allclose(mvsr_table.max(\"gm\"),2.192,rtol=4.0e-4)\n",
    "    return"
   ]
  }
 ],
 "metadata": {
  "jupytext": {
   "cell_metadata_filter": "-all",
   "main_language": "python",
   "notebook_metadata_filter": "-all"
  }
 },
 "nbformat": 4,
 "nbformat_minor": 5
}
