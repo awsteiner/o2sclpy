{
 "cells": [
  {
   "cell_type": "markdown",
   "id": "40a514e6",
   "metadata": {},
   "source": [
    "# DSH example for O$_2$sclpy"
   ]
  },
  {
   "cell_type": "markdown",
   "id": "009e5479",
   "metadata": {},
   "source": [
    "See the O$_2$sclpy documentation at\n",
    "https://awsteiner.org/code/o2sclpy for more information."
   ]
  },
  {
   "cell_type": "code",
   "execution_count": 1,
   "id": "5c599678",
   "metadata": {},
   "outputs": [],
   "source": [
    "import o2sclpy\n",
    "import matplotlib.pyplot as plot\n",
    "import numpy\n",
    "import sys\n",
    "\n",
    "plots=True\n",
    "if 'pytest' in sys.modules:\n",
    "    plots=False"
   ]
  },
  {
   "cell_type": "markdown",
   "id": "de741f15",
   "metadata": {},
   "source": [
    "Link the O$_2$scl library:"
   ]
  },
  {
   "cell_type": "code",
   "execution_count": 2,
   "id": "c4fd81d9",
   "metadata": {},
   "outputs": [],
   "source": [
    "link=o2sclpy.linker()\n",
    "link.link_o2scl()"
   ]
  },
  {
   "cell_type": "markdown",
   "id": "133c1b4b",
   "metadata": {},
   "source": [
    "Get a copy (a pointer to) the O$_2$scl unit conversion object, which\n",
    "also allows access to the constant library, then get ħc."
   ]
  },
  {
   "cell_type": "code",
   "execution_count": 3,
   "id": "2a7e1f0c",
   "metadata": {},
   "outputs": [
    {
     "name": "stdout",
     "output_type": "stream",
     "text": [
      "ħc = 1.973270e+02\n",
      "\n"
     ]
    }
   ],
   "source": [
    "cu=link.o2scl_settings.get_convert_units()\n",
    "ħc=cu.find_unique('hbarc','MeV*fm')\n",
    "print('ħc = %7.6e\\n' % (ħc))"
   ]
  },
  {
   "cell_type": "markdown",
   "id": "c25ddf88",
   "metadata": {},
   "source": [
    "Use the cloud_file object to download the EOS"
   ]
  },
  {
   "cell_type": "code",
   "execution_count": 5,
   "id": "33f65524",
   "metadata": {},
   "outputs": [
    {
     "name": "stdout",
     "output_type": "stream",
     "text": [
      "Function cloud_file::get_file_hash() succeeded to obtain file named 'dsh.o2'.\n"
     ]
    },
    {
     "data": {
      "text/plain": [
       "0"
      ]
     },
     "execution_count": 5,
     "metadata": {},
     "output_type": "execute_result"
    }
   ],
   "source": [
    "cf=o2sclpy.cloud_file(link)\n",
    "cf.verbose=1\n",
    "cf.get_file('dsh.o2','https://isospin.roam.utk.edu/public_data'+\n",
    "            '/eos_tables/du21/fid_3_5_22.o2')"
   ]
  },
  {
   "cell_type": "markdown",
   "id": "1e147343",
   "metadata": {},
   "source": [
    "Read the tensor which stores the average mass number"
   ]
  },
  {
   "cell_type": "code",
   "execution_count": 6,
   "id": "4c2e0f74",
   "metadata": {},
   "outputs": [],
   "source": [
    "hf=o2sclpy.hdf_file(link)\n",
    "tg_A=o2sclpy.tensor_grid(link)\n",
    "hf.open('dsh.o2')\n",
    "o2sclpy.hdf_input_tensor_grid(link,hf,tg_A,'A')\n",
    "hf.close()"
   ]
  },
  {
   "cell_type": "markdown",
   "id": "ddb996f6",
   "metadata": {},
   "source": [
    "In order to make a plot at fixed Ye, we first need to construct a\n",
    "tensor index object. We want to include all values of nB (index 0 in\n",
    "the tensor object) and all values of T (index 2 in the tensor\n",
    "object), but for Ye, we select the value in the grid which is\n",
    "closest to Ye=0.4."
   ]
  },
  {
   "cell_type": "code",
   "execution_count": 7,
   "id": "079cb4c1",
   "metadata": {},
   "outputs": [],
   "source": [
    "ix=o2sclpy.std_vector_size_t(link)\n",
    "ix.resize(3)\n",
    "ix[1]=tg_A.lookup_grid(1,0.4)"
   ]
  },
  {
   "cell_type": "markdown",
   "id": "83fc56d6",
   "metadata": {},
   "source": [
    "Create a table3d object"
   ]
  },
  {
   "cell_type": "code",
   "execution_count": 8,
   "id": "f8aa2de3",
   "metadata": {},
   "outputs": [],
   "source": [
    "t3d=o2sclpy.table3d(link)\n",
    "tg_A.copy_table3d_align_setxy(0,2,ix,t3d,'nB','T','A')"
   ]
  },
  {
   "cell_type": "markdown",
   "id": "00950172",
   "metadata": {},
   "source": [
    "Now plot the results. Raw matplotlib works, but o2sclpy has\n",
    "a couple functions which make it easier. "
   ]
  },
  {
   "cell_type": "code",
   "execution_count": 9,
   "id": "4c6d7495",
   "metadata": {
    "lines_to_next_cell": 1
   },
   "outputs": [
    {
     "data": {
      "image/png": "[encoded data removed]",
      "text/plain": [
       "<Figure size 432x432 with 2 Axes>"
      ]
     },
     "metadata": {},
     "output_type": "display_data"
    }
   ],
   "source": [
    "if plots:\n",
    "    pl=o2sclpy.plot_base()\n",
    "    pl.colbar=True\n",
    "    pl.xtitle(r'$ n_B~(\\mathrm{fm}^{-3}) $')\n",
    "    pl.ytitle(r'$ T~(\\mathrm{MeV}) $')\n",
    "    pl.ttext(1.25,0.5,u'$ A $',rotation=90)\n",
    "    pl.den_plot(t3d,'A')\n",
    "    plot.show()"
   ]
  },
  {
   "cell_type": "markdown",
   "id": "5869c8e6",
   "metadata": {},
   "source": [
    "For testing purposes"
   ]
  },
  {
   "cell_type": "code",
   "execution_count": 10,
   "id": "cfee5b0f",
   "metadata": {},
   "outputs": [],
   "source": [
    "def test_fun():\n",
    "    assert numpy.allclose(t3d.get(0,0,'A'),81,rtol=0.1)\n",
    "    return"
   ]
  },
  {
   "cell_type": "code",
   "execution_count": null,
   "id": "154fe708",
   "metadata": {},
   "outputs": [],
   "source": []
  }
 ],
 "metadata": {
  "jupytext": {
   "cell_metadata_filter": "-all",
   "main_language": "python",
   "notebook_metadata_filter": "-all"
  },
  "kernelspec": {
   "display_name": "Python 3 (ipykernel)",
   "language": "python",
   "name": "python3"
  },
  "language_info": {
   "codemirror_mode": {
    "name": "ipython",
    "version": 3
   },
   "file_extension": ".py",
   "mimetype": "text/x-python",
   "name": "python",
   "nbconvert_exporter": "python",
   "pygments_lexer": "ipython3",
   "version": "3.10.2"
  }
 },
 "nbformat": 4,
 "nbformat_minor": 5
}
