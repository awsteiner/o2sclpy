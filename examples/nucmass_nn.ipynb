{
 "cells": [
  {
   "cell_type": "markdown",
   "id": "97b847ea",
   "metadata": {},
   "source": [
    "See the O$_2$sclpy documentation at https://awsteiner.org/code/o2sclpy for more information."
   ]
  },
  {
   "cell_type": "code",
   "execution_count": null,
   "id": "d963a225",
   "metadata": {},
   "outputs": [],
   "source": [
    "import o2sclpy\n",
    "import matplotlib.pyplot as plot\n",
    "import numpy\n",
    "import sys\n",
    "\n",
    "plots=True\n",
    "if 'pytest' in sys.modules:\n",
    "    plots=False"
   ]
  },
  {
   "cell_type": "markdown",
   "id": "77a6a6bd",
   "metadata": {},
   "source": [
    "Load the data sets of nuclei"
   ]
  },
  {
   "cell_type": "code",
   "execution_count": null,
   "id": "cf9515a9",
   "metadata": {},
   "outputs": [],
   "source": [
    "# Instantiate and load the Atomic Mass Evaluation. The third parameter\n",
    "# is False, to indicate that we include masses which are not solely\n",
    "# determined by experiment\n",
    "ame=o2sclpy.nucmass_ame()\n",
    "ame.load('20',False)\n",
    "print('Number of isotopes in the AME list:',ame.get_nentries())"
   ]
  },
  {
   "cell_type": "code",
   "execution_count": null,
   "id": "8de4d535",
   "metadata": {},
   "outputs": [],
   "source": [
    "dist_exp=o2sclpy.std_vector_nucleus()\n",
    "o2sclpy.nucdist_set(dist_exp,ame)\n",
    "print('Number of nuclei in dist_exp:',len(dist_exp))"
   ]
  },
  {
   "cell_type": "code",
   "execution_count": null,
   "id": "67ac58a4",
   "metadata": {},
   "outputs": [],
   "source": [
    "msis=o2sclpy.nucmass_mnmsk()\n",
    "o2sclpy.mnmsk_load(msis,'msis16')"
   ]
  },
  {
   "cell_type": "code",
   "execution_count": null,
   "id": "ac36ffd7",
   "metadata": {},
   "outputs": [],
   "source": [
    "dist_msis=o2sclpy.std_vector_nucleus()\n",
    "o2sclpy.nucdist_set(dist_msis,msis)\n",
    "print('Number of nuclei in dist_msis:',len(dist_msis))"
   ]
  },
  {
   "cell_type": "code",
   "execution_count": null,
   "id": "56067cca",
   "metadata": {},
   "outputs": [],
   "source": [
    "# Instantiate the Duflo-Zuker fit and set parameters from a recent fit\n",
    "dz=o2sclpy.nucmass_dz_fit_33()\n",
    "p=o2sclpy.ublas_vector()\n",
    "p.resize(33)\n",
    "p[0]=9.089056134746128e+00\n",
    "p[1]=6.503243633083565e+00\n",
    "p[2]=4.508165895514288e+00\n",
    "p[3]=2.078535386636489e+01\n",
    "p[4]=1.725739163595326e+00\n",
    "p[5]=7.535149383516492e+00\n",
    "p[6]=-4.506924382606631e+00\n",
    "p[7]=-3.412765813834761e+01\n",
    "p[8]=-3.585539147281765e-01\n",
    "p[9]=7.344223304154160e-01\n",
    "p[10]=-7.511052798991504e-01\n",
    "p[11]=-3.761406531766877e+00\n",
    "p[12]=-1.776599459045521e-01\n",
    "p[13]=-8.995089717699093e-01\n",
    "p[14]=3.973338204326113e-01\n",
    "p[15]=1.807250910019584e+00\n",
    "p[16]=2.413813645058122e-01\n",
    "p[17]=1.066620521567073e+00\n",
    "p[18]=8.518733677001322e+00\n",
    "p[19]=5.373696129291158e+01\n",
    "p[20]=1.824339588062157e+01\n",
    "p[21]=7.270593853877729e+01\n",
    "p[22]=-2.714335458881215e+01\n",
    "p[23]=-1.284192451766697e+02\n",
    "p[24]=-5.001066637985519e+00\n",
    "p[25]=-3.299700362463194e+01\n",
    "p[26]=-3.794286672329046e+01\n",
    "p[27]=-5.392723600204433e+01\n",
    "p[28]=1.559715229007208e+00\n",
    "p[29]=5.448044100904870e+00\n",
    "p[30]=7.054620573104972e-01\n",
    "p[31]=6.182687849301996e+00\n",
    "p[32]=2.076508980189957e+01\n",
    "dz.fit_fun(33,p)"
   ]
  },
  {
   "cell_type": "code",
   "execution_count": null,
   "id": "d3cf567b",
   "metadata": {},
   "outputs": [],
   "source": [
    "# Instantiate the FRDM fit and set parameters from a recent fit\n",
    "frdm=o2sclpy.nucmass_frdm()\n",
    "p.resize(10)\n",
    "p[0]=1.470521168091704e+00\n",
    "p[1]=1.110599542324431e+00\n",
    "p[2]=4.233650770523403e+01\n",
    "p[3]=1.677705218132046e+01\n",
    "p[4]=2.646289872432062e+01\n",
    "p[5]=3.443846328788821e+01\n",
    "p[6]=2.585455547917483e+01\n",
    "p[7]=7.138147608954237e-01\n",
    "p[8]=1.284100176024626e+00\n",
    "p[9]=2.660955290904157e-01\n",
    "frdm.fit_fun(10,p)"
   ]
  },
  {
   "cell_type": "code",
   "execution_count": null,
   "id": "638e91b6",
   "metadata": {},
   "outputs": [],
   "source": [
    "# Instantiate tables\n",
    "wlw=o2sclpy.nucmass_wlw()\n",
    "wlw.load(\"WS4_RBF\")"
   ]
  },
  {
   "cell_type": "code",
   "execution_count": null,
   "id": "fd8f353e",
   "metadata": {},
   "outputs": [],
   "source": [
    "# Create the initial table from which the neural network fit is based\n",
    "# We fit the deviation in the mass excess.\n",
    "nuc=o2sclpy.nucleus()\n",
    "tab=o2sclpy.table()\n",
    "tab.line_of_names('Z N mex mex_th diff')\n",
    "for Z in range(8,200):\n",
    "    for N in range(8,250):\n",
    "        line=[Z,N,0,0,0]\n",
    "        if ame.is_included(Z,N) and dz.is_included(Z,N):\n",
    "            ame.get_nucleus(Z,N,nuc)\n",
    "            line[2]=nuc.mex*197.33\n",
    "            dz.get_nucleus(Z,N,nuc)\n",
    "            line[3]=nuc.mex*197.33\n",
    "            line[4]=line[2]-line[3]\n",
    "            if Z==50:\n",
    "                print(line)\n",
    "            tab.line_of_data(line)"
   ]
  },
  {
   "cell_type": "code",
   "execution_count": null,
   "id": "be1a8f5d",
   "metadata": {},
   "outputs": [],
   "source": [
    "# Write the table to a file\n",
    "hf=o2sclpy.hdf_file()\n",
    "hf.open_or_create('nm2.o2')\n",
    "o2sclpy.hdf_output_table(hf,tab,b'table')\n",
    "hf.close()"
   ]
  },
  {
   "cell_type": "code",
   "execution_count": null,
   "id": "392fa262",
   "metadata": {},
   "outputs": [],
   "source": [
    "# Reformat the table into a numpy array for the interpm class\n",
    "N=tab.get_nlines()\n",
    "x2=numpy.zeros((N,2))\n",
    "y2=numpy.zeros((N,1))\n",
    "for i in range(0,N):\n",
    "    x2[i,0]=tab[\"Z\"][i]\n",
    "    x2[i,1]=tab[\"N\"][i]\n",
    "    y2[i,0]=tab[\"diff\"][i]\n",
    "print('Number of isotopes to fit:',N)"
   ]
  },
  {
   "cell_type": "markdown",
   "id": "cef0d81f",
   "metadata": {},
   "source": [
    "The input transformation"
   ]
  },
  {
   "cell_type": "code",
   "execution_count": null,
   "id": "9426086b",
   "metadata": {},
   "outputs": [],
   "source": [
    "trans='moto'"
   ]
  },
  {
   "cell_type": "markdown",
   "id": "5d48abc7",
   "metadata": {},
   "source": [
    "The activation function"
   ]
  },
  {
   "cell_type": "code",
   "execution_count": null,
   "id": "d4e7d0e2",
   "metadata": {},
   "outputs": [],
   "source": [
    "act='relu'"
   ]
  },
  {
   "cell_type": "markdown",
   "id": "bb9ed76e",
   "metadata": {},
   "source": [
    "The neural network size parameter"
   ]
  },
  {
   "cell_type": "code",
   "execution_count": null,
   "id": "ec7bd6dd",
   "metadata": {},
   "outputs": [],
   "source": [
    "M=4"
   ]
  },
  {
   "cell_type": "markdown",
   "id": "da22aa02",
   "metadata": {},
   "source": [
    "Create the neural network interpolation object"
   ]
  },
  {
   "cell_type": "code",
   "execution_count": null,
   "id": "f57de565",
   "metadata": {},
   "outputs": [],
   "source": [
    "im2=o2sclpy.interpm_tf_dnn()"
   ]
  },
  {
   "cell_type": "markdown",
   "id": "cd48a94e",
   "metadata": {},
   "source": [
    "Train the neural network or load a previous training"
   ]
  },
  {
   "cell_type": "code",
   "execution_count": null,
   "id": "2205256e",
   "metadata": {},
   "outputs": [],
   "source": [
    "if True:\n",
    "    im2.set_data(x2,y2,verbose=1,epochs=800,\n",
    "                 transform_in=trans,test_size=0.1,\n",
    "                 activations=[act,act,act,act],\n",
    "                 hlayers=[240*M,120*M,60*M,40*M])\n",
    "else:\n",
    "    im2.load('nucmass_nn')"
   ]
  },
  {
   "cell_type": "markdown",
   "id": "c9f701ca",
   "metadata": {},
   "source": [
    "Print the absolute deviation"
   ]
  },
  {
   "cell_type": "code",
   "execution_count": null,
   "id": "5715b3d4",
   "metadata": {},
   "outputs": [],
   "source": [
    "sum=0\n",
    "for i in range(0,N):\n",
    "    v=numpy.array([x2[i,0],x2[i,1]])\n",
    "    sum+=numpy.abs(im2.eval(v)[0]-y2[i,0])\n",
    "qual=sum/N\n",
    "print('Quality: %7.6e' %(qual))"
   ]
  },
  {
   "cell_type": "markdown",
   "id": "714931fc",
   "metadata": {},
   "source": [
    "Save the result in a file"
   ]
  },
  {
   "cell_type": "code",
   "execution_count": null,
   "id": "4a6965c6",
   "metadata": {},
   "outputs": [],
   "source": [
    "im2.save('nucmass_nn')"
   ]
  },
  {
   "cell_type": "markdown",
   "id": "f57eed3c",
   "metadata": {},
   "source": [
    "Plot the loss and the validation loss"
   ]
  },
  {
   "cell_type": "code",
   "execution_count": null,
   "id": "c2f98444",
   "metadata": {},
   "outputs": [],
   "source": [
    "if plots:\n",
    "    index=[i for i in range(0,len(im2.loss))]\n",
    "    pb=o2sclpy.plot_base()\n",
    "    pb.fig_dict='fig_size_x=6,fig_size_y=6,dpi=250'\n",
    "    pb.plot([index,im2.loss])\n",
    "    pb.plot([index,im2.val_loss])\n",
    "    pb.show()\n",
    "    plot.close()"
   ]
  },
  {
   "cell_type": "markdown",
   "id": "d02980b8",
   "metadata": {},
   "source": [
    "Compute Tin isotopes"
   ]
  },
  {
   "cell_type": "code",
   "execution_count": null,
   "id": "0d604f66",
   "metadata": {},
   "outputs": [],
   "source": [
    "Z=50\n",
    "sn=o2sclpy.table()\n",
    "sn.line_of_names('N ame dz msis dz_nn')\n",
    "for N in range(50,100):\n",
    "    if ame.is_included(Z,N):\n",
    "        ame.get_nucleus(Z,N,nuc)\n",
    "        ame_mex=nuc.mex\n",
    "    else:\n",
    "        ame_mex=0.0\n",
    "    dz.get_nucleus(Z,N,nuc)\n",
    "    dz_mex=nuc.mex\n",
    "    msis.get_nucleus(Z,N,nuc)\n",
    "    msis_mex=nuc.mex\n",
    "    # diff is ame-dz, so ame is diff+dz\n",
    "    ii=numpy.array([50,N])\n",
    "    line=[N,ame_mex*197.33,dz_mex*197.33,msis_mex*197.33,\n",
    "          dz_mex*197.33+im2.eval(ii)[0]]\n",
    "    sn.line_of_data(line)"
   ]
  },
  {
   "cell_type": "markdown",
   "id": "66e236f7",
   "metadata": {},
   "source": [
    "Plot Sn isotopes"
   ]
  },
  {
   "cell_type": "code",
   "execution_count": null,
   "id": "f3c96b98",
   "metadata": {},
   "outputs": [],
   "source": [
    "if plots:\n",
    "    pb=o2sclpy.plot_base()\n",
    "    pb.fig_dict='fig_size_x=6,fig_size_y=6,dpi=250'\n",
    "    pb.plot([sn,'N','ame'])\n",
    "    pb.plot([sn,'N','dz'])\n",
    "    pb.plot([sn,'N','msis'])\n",
    "    pb.plot([sn,'N','dz_nn'])\n",
    "    pb.show()\n",
    "    plot.close()"
   ]
  },
  {
   "cell_type": "code",
   "execution_count": null,
   "id": "38abb22a",
   "metadata": {},
   "outputs": [],
   "source": [
    "    "
   ]
  }
 ],
 "metadata": {
  "jupytext": {
   "cell_metadata_filter": "-all",
   "main_language": "python",
   "notebook_metadata_filter": "-all"
  }
 },
 "nbformat": 4,
 "nbformat_minor": 5
}
