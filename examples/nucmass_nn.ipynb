{
 "cells": [
  {
   "cell_type": "markdown",
   "id": "97b847ea",
   "metadata": {},
   "source": [
    "See the O$_2$sclpy documentation at https://awsteiner.org/code/o2sclpy for more information."
   ]
  },
  {
   "cell_type": "code",
   "execution_count": null,
   "id": "d963a225",
   "metadata": {},
   "outputs": [],
   "source": [
    "import o2sclpy\n",
    "import matplotlib.pyplot as plot\n",
    "import random\n",
    "import numpy\n",
    "import sys\n",
    "from IPython.utils import io\n",
    "\n",
    "plots=True\n",
    "if 'pytest' in sys.modules:\n",
    "    plots=False"
   ]
  },
  {
   "cell_type": "code",
   "execution_count": null,
   "id": "cf9515a9",
   "metadata": {},
   "outputs": [],
   "source": [
    "vary_nn_parms=False"
   ]
  },
  {
   "cell_type": "markdown",
   "id": "58632a4c",
   "metadata": {},
   "source": [
    "Create the data set:"
   ]
  },
  {
   "cell_type": "code",
   "execution_count": null,
   "id": "22336c8c",
   "metadata": {},
   "outputs": [],
   "source": [
    "# Instantiate and load the Atomic Mass Evaluation. The third parameter\n",
    "# is False, to indicate that we include masses which are not solely\n",
    "# determined by experiment\n",
    "ame=o2sclpy.nucmass_ame()\n",
    "o2sclpy.ame_load(ame,'20',False)\n",
    "print('Number of isotopes in the AME list:',ame.get_nentries())"
   ]
  },
  {
   "cell_type": "code",
   "execution_count": null,
   "id": "8de4d535",
   "metadata": {},
   "outputs": [],
   "source": [
    "dist_exp=o2sclpy.std_vector_nucleus()\n",
    "o2sclpy.nucdist_set(dist_exp,ame,'')\n",
    "print('Number of nuclei in dist_exp:',len(dist_exp))"
   ]
  },
  {
   "cell_type": "code",
   "execution_count": null,
   "id": "67ac58a4",
   "metadata": {},
   "outputs": [],
   "source": [
    "msis=o2sclpy.nucmass_mnmsk()\n",
    "o2sclpy.mnmsk_load(msis,'msis16')"
   ]
  },
  {
   "cell_type": "code",
   "execution_count": null,
   "id": "ac36ffd7",
   "metadata": {},
   "outputs": [],
   "source": [
    "dist_msis=o2sclpy.std_vector_nucleus()\n",
    "o2sclpy.nucdist_set(dist_msis,msis)\n",
    "print('Number of nuclei in dist_msis:',len(dist_msis))"
   ]
  },
  {
   "cell_type": "code",
   "execution_count": null,
   "id": "56067cca",
   "metadata": {},
   "outputs": [],
   "source": [
    "# Instantiate the Duflo-Zuker fit and set parameters from a recent fit\n",
    "dz=o2sclpy.nucmass_dz_fit_33()\n",
    "p=o2sclpy.ublas_vector()\n",
    "p.resize(33)\n",
    "p[0]=9.089056134746128e+00\n",
    "p[1]=6.503243633083565e+00\n",
    "p[2]=4.508165895514288e+00\n",
    "p[3]=2.078535386636489e+01\n",
    "p[4]=1.725739163595326e+00\n",
    "p[5]=7.535149383516492e+00\n",
    "p[6]=-4.506924382606631e+00\n",
    "p[7]=-3.412765813834761e+01\n",
    "p[8]=-3.585539147281765e-01\n",
    "p[9]=7.344223304154160e-01\n",
    "p[10]=-7.511052798991504e-01\n",
    "p[11]=-3.761406531766877e+00\n",
    "p[12]=-1.776599459045521e-01\n",
    "p[13]=-8.995089717699093e-01\n",
    "p[14]=3.973338204326113e-01\n",
    "p[15]=1.807250910019584e+00\n",
    "p[16]=2.413813645058122e-01\n",
    "p[17]=1.066620521567073e+00\n",
    "p[18]=8.518733677001322e+00\n",
    "p[19]=5.373696129291158e+01\n",
    "p[20]=1.824339588062157e+01\n",
    "p[21]=7.270593853877729e+01\n",
    "p[22]=-2.714335458881215e+01\n",
    "p[23]=-1.284192451766697e+02\n",
    "p[24]=-5.001066637985519e+00\n",
    "p[25]=-3.299700362463194e+01\n",
    "p[26]=-3.794286672329046e+01\n",
    "p[27]=-5.392723600204433e+01\n",
    "p[28]=1.559715229007208e+00\n",
    "p[29]=5.448044100904870e+00\n",
    "p[30]=7.054620573104972e-01\n",
    "p[31]=6.182687849301996e+00\n",
    "p[32]=2.076508980189957e+01\n",
    "dz.fit_fun(33,p)"
   ]
  },
  {
   "cell_type": "code",
   "execution_count": null,
   "id": "d3cf567b",
   "metadata": {},
   "outputs": [],
   "source": [
    "# Instantiate the FRDM fit and set parameters from a recent fit\n",
    "frdm=o2sclpy.nucmass_frdm()\n",
    "p.resize(10)\n",
    "p[0]=1.470521168091704e+00\n",
    "p[1]=1.110599542324431e+00\n",
    "p[2]=4.233650770523403e+01\n",
    "p[3]=1.677705218132046e+01\n",
    "p[4]=2.646289872432062e+01\n",
    "p[5]=3.443846328788821e+01\n",
    "p[6]=2.585455547917483e+01\n",
    "p[7]=7.138147608954237e-01\n",
    "p[8]=1.284100176024626e+00\n",
    "p[9]=2.660955290904157e-01\n",
    "frdm.fit_fun(10,p)"
   ]
  },
  {
   "cell_type": "code",
   "execution_count": null,
   "id": "5fff0658",
   "metadata": {},
   "outputs": [],
   "source": [
    "# Instantiate the FRDM-shell fit and set parameters from a recent fit\n",
    "frdm_shell=o2sclpy.nucmass_frdm_shell()\n",
    "p.resize(14)\n",
    "p[0]=2.657399203505667e+00\n",
    "p[1]=1.136316849511381e+00\n",
    "p[2]=3.548541967676024e+01\n",
    "p[3]=1.649009712939987e+01\n",
    "p[4]=2.331520244072635e+01\n",
    "p[5]=3.437294342444157e+01\n",
    "p[6]=2.660294896136239e+01\n",
    "p[7]=4.409661805078772e-01\n",
    "p[8]=2.501490274580595e+01\n",
    "p[9]=1.897879047364143e+00\n",
    "p[10]=-1.460475719478483e+00\n",
    "p[11]=1.928679183044334e-02\n",
    "p[12]=1.901033655300475e-03\n",
    "p[13]=8.970261351311239e-02\n",
    "frdm_shell.fit_fun(14,p)"
   ]
  },
  {
   "cell_type": "code",
   "execution_count": null,
   "id": "c237334d",
   "metadata": {},
   "outputs": [],
   "source": [
    "# Instantiate the ldrop_shell fit and set parameters from a recent fit\n",
    "ldrop_shell=o2sclpy.nucmass_ldrop_shell()\n",
    "sk=o2sclpy.eos_had_skyrme()\n",
    "o2sclpy.skyrme_load(sk,'SLy4')\n",
    "ldrop_shell.set_eos_had_temp_base(sk)\n",
    "p.resize(11)\n",
    "p[0]=8.994776301007761e-01\n",
    "p[1]=9.679865078598426e-01\n",
    "p[2]=8.751369188587536e-01\n",
    "p[3]=9.710432146736609e-01\n",
    "p[4]=-9.041294789462331e-03\n",
    "p[5]=1.390547985659261e-01\n",
    "p[6]=1.246579548574642e+01\n",
    "p[7]=-1.493972115439528e+00\n",
    "p[8]=1.419539065031770e-02\n",
    "p[9]=1.659654542326672e-03\n",
    "p[10]=1.136613448382515e-01\n",
    "ldrop_shell.fit_fun(11,p)"
   ]
  },
  {
   "cell_type": "code",
   "execution_count": null,
   "id": "638e91b6",
   "metadata": {},
   "outputs": [],
   "source": [
    "# Instantiate tables\n",
    "wlw=o2sclpy.nucmass_wlw()\n",
    "wlw.load(\"WS4_RBF\")"
   ]
  },
  {
   "cell_type": "code",
   "execution_count": null,
   "id": "fd8f353e",
   "metadata": {},
   "outputs": [],
   "source": [
    "# Create the initial table from which the neural network fit is based\n",
    "nuc=o2sclpy.nucleus()\n",
    "tab=o2sclpy.table()\n",
    "tab.line_of_names('Z N mex mex_th diff')\n",
    "for Z in range(8,200):\n",
    "    for N in range(8,250):\n",
    "        line=[Z,N,0,0,0]\n",
    "        if ame.is_included(Z,N) and dz.is_included(Z,N):\n",
    "            ame.get_nucleus(Z,N,nuc)\n",
    "            line[2]=nuc.mex*197.33\n",
    "            dz.get_nucleus(Z,N,nuc)\n",
    "            line[3]=nuc.mex*197.33\n",
    "            line[4]=line[2]-line[3]\n",
    "            if Z==82 and N==126:\n",
    "                print(line)\n",
    "            tab.line_of_data(line)"
   ]
  },
  {
   "cell_type": "code",
   "execution_count": null,
   "id": "be1a8f5d",
   "metadata": {},
   "outputs": [],
   "source": [
    "# Write the table to a file\n",
    "hf=o2sclpy.hdf_file()\n",
    "hf.open_or_create('nm2.o2')\n",
    "o2sclpy.hdf_output_table(hf,tab,b'table')\n",
    "hf.close()"
   ]
  },
  {
   "cell_type": "code",
   "execution_count": null,
   "id": "392fa262",
   "metadata": {},
   "outputs": [],
   "source": [
    "# Reformat the table into a numpy array for the interpm class\n",
    "N=tab.get_nlines()\n",
    "x2=numpy.zeros((N,2))\n",
    "y2=numpy.zeros((N,1))\n",
    "for i in range(0,N):\n",
    "    x2[i,0]=tab[\"Z\"][i]\n",
    "    x2[i,1]=tab[\"N\"][i]\n",
    "    y2[i,0]=tab[\"diff\"][i]\n",
    "print('Number of isotopes to fit:',N)"
   ]
  },
  {
   "cell_type": "markdown",
   "id": "da22aa02",
   "metadata": {},
   "source": [
    "Create the neural network interpolation object"
   ]
  },
  {
   "cell_type": "code",
   "execution_count": null,
   "id": "f57de565",
   "metadata": {},
   "outputs": [],
   "source": [
    "for k in range(0,27):\n",
    "\n",
    "    if vary_nn_parms==True or k==19:\n",
    "\n",
    "        # Different transformations\n",
    "        if k%3==0:\n",
    "            trans='none'\n",
    "        elif k%3==1:\n",
    "            trans='moto'\n",
    "        else:\n",
    "            trans='quant'\n",
    "    \n",
    "        # Different activation functions\n",
    "        if (k//3)%3==0:\n",
    "            act='relu'\n",
    "        elif (k//3)%3==1:\n",
    "            act='sigmoid'\n",
    "        else:\n",
    "            act='tanh'\n",
    "    \n",
    "        # Different network sizes\n",
    "        if (k//9)%3==0:\n",
    "            M=1\n",
    "        elif (k//9)%3==1:\n",
    "            M=2\n",
    "        else:\n",
    "            M=4\n",
    "    \n",
    "        avgs=0\n",
    "        \n",
    "        # Try each configuration five times, and take the\n",
    "        # average of the 5 at the end\n",
    "        n_fits=0\n",
    "        \n",
    "        for j in range(0,5):\n",
    "\n",
    "            if vary_nn_parms==True or j==0:\n",
    "            \n",
    "                im2=o2sclpy.interpm_tf_dnn()\n",
    "                \n",
    "                # Train the neural network\n",
    "                \n",
    "                im2.set_data(x2,y2,verbose=1,epochs=800,\n",
    "                             transform_in=trans,test_size=0.1,\n",
    "                             activations=[act,act,act,act],\n",
    "                             hlayers=[240*M,120*M,60*M,40*M])\n",
    "                im2.save('nm2.keras')\n",
    "                \n",
    "                sum=0\n",
    "                for i in range(0,N):\n",
    "                    v=numpy.array([x2[i,0],x2[i,1]])\n",
    "                    sum+=numpy.abs(im2.eval(v)[0]-y2[i,0])\n",
    "                    \n",
    "                avg=sum/N\n",
    "                print('%d avg %7.6e MeV' % (j,avg))\n",
    "                avgs=avgs+avg\n",
    "                n_fits=n_fits+1\n",
    "                \n",
    "        print(avgs/n_fits)\n",
    "    \n",
    "    print(k,trans,act,M,avgs/n_fits)"
   ]
  },
  {
   "cell_type": "markdown",
   "id": "cd48a94e",
   "metadata": {},
   "source": [
    "Plot Tin isotopes    "
   ]
  },
  {
   "cell_type": "code",
   "execution_count": null,
   "id": "38abb22a",
   "metadata": {},
   "outputs": [],
   "source": []
  }
 ],
 "metadata": {
  "jupytext": {
   "cell_metadata_filter": "-all",
   "main_language": "python",
   "notebook_metadata_filter": "-all"
  }
 },
 "nbformat": 4,
 "nbformat_minor": 5
}
