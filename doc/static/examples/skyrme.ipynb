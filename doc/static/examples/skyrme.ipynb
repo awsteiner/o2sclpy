{
 "cells": [
  {
   "cell_type": "markdown",
   "id": "a5e35a4c",
   "metadata": {},
   "source": [
    "# Skyrme equation of state example for O$_2$sclpy"
   ]
  },
  {
   "cell_type": "markdown",
   "id": "eeb16114",
   "metadata": {},
   "source": [
    "See the O$_2$sclpy documentation at https://neutronstars.utk.edu/code/o2sclpy for more information."
   ]
  },
  {
   "cell_type": "code",
   "execution_count": 1,
   "id": "8a685237",
   "metadata": {},
   "outputs": [],
   "source": [
    "import o2sclpy\n",
    "import matplotlib.pyplot as plot\n",
    "import ctypes\n",
    "import numpy\n",
    "import sys\n",
    "\n",
    "plots=True\n",
    "if 'pytest' in sys.modules:\n",
    "    plots=False"
   ]
  },
  {
   "cell_type": "markdown",
   "id": "5004efe7",
   "metadata": {},
   "source": [
    "Link the O$_2$scl library:"
   ]
  },
  {
   "cell_type": "code",
   "execution_count": 2,
   "id": "c5125dc4",
   "metadata": {},
   "outputs": [],
   "source": [
    "link=o2sclpy.linker()\n",
    "link.link_o2scl()"
   ]
  },
  {
   "cell_type": "markdown",
   "id": "bf6a7907",
   "metadata": {},
   "source": [
    "Get the value of $\\hbar c$ from an O$_2$scl find_constants object:"
   ]
  },
  {
   "cell_type": "code",
   "execution_count": 3,
   "id": "fb2d46b0",
   "metadata": {},
   "outputs": [
    {
     "name": "stdout",
     "output_type": "stream",
     "text": [
      "hbarc = 1.973270e+02\n"
     ]
    }
   ],
   "source": [
    "fc=o2sclpy.find_constants(link)\n",
    "hc=fc.find_unique('hbarc','MeV*fm')\n",
    "print('hbarc = %7.6e' % (hc))"
   ]
  },
  {
   "cell_type": "markdown",
   "id": "520ec6ef",
   "metadata": {},
   "source": [
    "Get a copy (a pointer to) the O$_2$scl unit conversion object:"
   ]
  },
  {
   "cell_type": "code",
   "execution_count": 4,
   "id": "c525d317",
   "metadata": {},
   "outputs": [],
   "source": [
    "cu=link.o2scl_settings.get_convert_units()"
   ]
  },
  {
   "cell_type": "markdown",
   "id": "1a437289",
   "metadata": {},
   "source": [
    "Create neutron and proton objects and set their spin degeneracy and\n",
    "masses. The O$_2$scl EOS classes expect these masses to be in units\n",
    "of inverse femtometers."
   ]
  },
  {
   "cell_type": "code",
   "execution_count": 5,
   "id": "b426331a",
   "metadata": {},
   "outputs": [],
   "source": [
    "neut=o2sclpy.fermion(link)\n",
    "neut.g=2.0\n",
    "neut.m=cu.convert('g','1/fm',fc.find_unique('massneutron','g'))"
   ]
  },
  {
   "cell_type": "code",
   "execution_count": 6,
   "id": "6cf04e60",
   "metadata": {},
   "outputs": [],
   "source": [
    "prot=o2sclpy.fermion(link)\n",
    "prot.g=2.0\n",
    "prot.m=cu.convert('g','1/fm',fc.find_unique('massproton','g'))"
   ]
  },
  {
   "cell_type": "markdown",
   "id": "d6e6e4f2",
   "metadata": {},
   "source": [
    "Create the Skyrme EOS object and load the NRAPR parameterization:"
   ]
  },
  {
   "cell_type": "code",
   "execution_count": 7,
   "id": "c06aca48",
   "metadata": {},
   "outputs": [],
   "source": [
    "sk=o2sclpy.eos_had_skyrme(link)\n",
    "o2sclpy.skyrme_load(link,sk,'NRAPR',False,0)"
   ]
  },
  {
   "cell_type": "markdown",
   "id": "5142993f",
   "metadata": {},
   "source": [
    "Compute nuclear saturation and output the saturation density\n",
    "and binding energy:"
   ]
  },
  {
   "cell_type": "code",
   "execution_count": 8,
   "id": "b113a451",
   "metadata": {},
   "outputs": [
    {
     "name": "stdout",
     "output_type": "stream",
     "text": [
      "NRAPR: n0=1.605785e-01 1/fm^3, E/A=-1.585619e+01 MeV\n",
      "\n"
     ]
    }
   ],
   "source": [
    "sk.saturation()\n",
    "print('NRAPR: n0=%7.6e 1/fm^3, E/A=%7.6e MeV' % (sk.n0,sk.eoa*hc))\n",
    "print('')"
   ]
  },
  {
   "cell_type": "markdown",
   "id": "d506cf39",
   "metadata": {},
   "source": [
    "Create the nstar_cold object for automatically computing the\n",
    "beta-equilibrium EOS and solving the TOV equations:"
   ]
  },
  {
   "cell_type": "code",
   "execution_count": 9,
   "id": "ce653948",
   "metadata": {},
   "outputs": [],
   "source": [
    "nc=o2sclpy.nstar_cold(link)"
   ]
  },
  {
   "cell_type": "markdown",
   "id": "22ab821e",
   "metadata": {},
   "source": [
    "Let the nstar_cold object know we want to use the Skyrme NRAPR EOS:"
   ]
  },
  {
   "cell_type": "code",
   "execution_count": 10,
   "id": "3aab5839",
   "metadata": {},
   "outputs": [],
   "source": [
    "nc.set_eos(sk)"
   ]
  },
  {
   "cell_type": "markdown",
   "id": "67b31836",
   "metadata": {},
   "source": [
    "Compute the EOS"
   ]
  },
  {
   "cell_type": "code",
   "execution_count": 11,
   "id": "fd13a8ae",
   "metadata": {},
   "outputs": [],
   "source": [
    "ret1=nc.calc_eos(0.01)"
   ]
  },
  {
   "cell_type": "markdown",
   "id": "46a7279a",
   "metadata": {},
   "source": [
    "Summarize the columns in the EOS table and their associated units.\n",
    "The strings returned by the C++ wrappers are bytes objects, so we\n",
    "need to convert them to strings to print them out."
   ]
  },
  {
   "cell_type": "code",
   "execution_count": 12,
   "id": "d50671e5",
   "metadata": {},
   "outputs": [
    {
     "name": "stdout",
     "output_type": "stream",
     "text": [
      "EOS table:\n",
      "Column 0 ed 1/fm^4\n",
      "Column 1 pr 1/fm^4\n",
      "Column 2 nb 1/fm^3\n",
      "Column 3 mun 1/fm\n",
      "Column 4 mup 1/fm\n",
      "Column 5 mue 1/fm\n",
      "Column 6 nn 1/fm^3\n",
      "Column 7 np 1/fm^3\n",
      "Column 8 ne 1/fm^3\n",
      "Column 9 kfn 1/fm\n",
      "Column 10 kfp 1/fm\n",
      "Column 11 kfe 1/fm\n",
      "Column 12 mumu 1/fm\n",
      "Column 13 nmu 1/fm^3\n",
      "Column 14 kfmu 1/fm\n",
      "Column 15 cs2 \n",
      "Column 16 logp \n",
      "Column 17 loge \n",
      "Column 18 s 1/fm\n",
      "Column 19 urca 1/fm^4\n",
      "Column 20 ad_index \n",
      "\n"
     ]
    }
   ],
   "source": [
    "eos_table=nc.get_eos_results()\n",
    "print('EOS table:')\n",
    "for i in range(0,eos_table.get_ncolumns()):\n",
    "    col=eos_table.get_column_name(i)\n",
    "    unit=eos_table.get_unit(col)\n",
    "    print('Column',i,str(col,'UTF-8'),str(unit,'UTF-8'))\n",
    "print('')"
   ]
  },
  {
   "cell_type": "markdown",
   "id": "4a070478",
   "metadata": {},
   "source": [
    "Get the columns of the table as numpy arrays, and then plot the EOS.\n",
    "The first line requires a bit of explanation. The raw vectors stored\n",
    "in O$_2$scl table objects are often larger than the current table\n",
    "size so it can grow efficiently. Thus we truncate the vector so that\n",
    "it matches the current table size."
   ]
  },
  {
   "cell_type": "code",
   "execution_count": 13,
   "id": "a51c3689",
   "metadata": {},
   "outputs": [
    {
     "name": "stdout",
     "output_type": "stream",
     "text": [
      "<class 'numpy.ndarray'>\n"
     ]
    },
    {
     "data": {
      "image/png": "[encoded data removed]",
      "text/plain": [
       "<Figure size 432x288 with 1 Axes>"
      ]
     },
     "metadata": {
      "needs_background": "light"
     },
     "output_type": "display_data"
    }
   ],
   "source": [
    "nb=eos_table['nb'][0:eos_table.get_nlines()]\n",
    "print(type(nb))\n",
    "ed=eos_table['ed'][0:eos_table.get_nlines()]\n",
    "edhc=[ed[i]*hc for i in range(0,eos_table.get_nlines())]\n",
    "plot.plot(nb,edhc)\n",
    "plot.xlabel('baryon density (1/fm^3)')\n",
    "plot.ylabel('energy density (MeV/fm^3)')\n",
    "if plots:\n",
    "    plot.show()"
   ]
  },
  {
   "cell_type": "markdown",
   "id": "8d1720a4",
   "metadata": {},
   "source": [
    "Compute the M-R curve using the TOV equations. TOV solver\n",
    "automatically outputs some information to std::cout, and we use the\n",
    "cap_cout class to ensure that output goes here instead of the\n",
    "jupyter console."
   ]
  },
  {
   "cell_type": "code",
   "execution_count": 14,
   "id": "8f56258a",
   "metadata": {},
   "outputs": [
    {
     "name": "stdout",
     "output_type": "stream",
     "text": [
      "Contents of std::cout:\n",
      "Mass versus radius mode.\n",
      "Central P: 7.0000e-07 (Msun/km^3), M: 1.1198e-01 (Msun), R: 4.9512e+01 (km)\n",
      "Central P: 7.7000e-07 (Msun/km^3), M: 1.1729e-01 (Msun), R: 4.1344e+01 (km)\n",
      "Central P: 8.4700e-07 (Msun/km^3), M: 1.2314e-01 (Msun), R: 3.5633e+01 (km)\n",
      "Central P: 9.3170e-07 (Msun/km^3), M: 1.2957e-01 (Msun), R: 3.1426e+01 (km)\n",
      "Central P: 1.0249e-06 (Msun/km^3), M: 1.3652e-01 (Msun), R: 2.8239e+01 (km)\n",
      "Central P: 1.1274e-06 (Msun/km^3), M: 1.4406e-01 (Msun), R: 2.5740e+01 (km)\n",
      "Central P: 1.2401e-06 (Msun/km^3), M: 1.5217e-01 (Msun), R: 2.3747e+01 (km)\n",
      "Central P: 1.3641e-06 (Msun/km^3), M: 1.6087e-01 (Msun), R: 2.2129e+01 (km)\n",
      "Central P: 1.5005e-06 (Msun/km^3), M: 1.7016e-01 (Msun), R: 2.0796e+01 (km)\n",
      "Central P: 1.6506e-06 (Msun/km^3), M: 1.8006e-01 (Msun), R: 1.9684e+01 (km)\n",
      "Central P: 1.8156e-06 (Msun/km^3), M: 1.9060e-01 (Msun), R: 1.8746e+01 (km)\n",
      "Central P: 1.9972e-06 (Msun/km^3), M: 2.0182e-01 (Msun), R: 1.7947e+01 (km)\n",
      "Central P: 2.1969e-06 (Msun/km^3), M: 2.1374e-01 (Msun), R: 1.7261e+01 (km)\n",
      "Central P: 2.4166e-06 (Msun/km^3), M: 2.2643e-01 (Msun), R: 1.6666e+01 (km)\n",
      "Central P: 2.6582e-06 (Msun/km^3), M: 2.3988e-01 (Msun), R: 1.6150e+01 (km)\n",
      "Central P: 2.9241e-06 (Msun/km^3), M: 2.5418e-01 (Msun), R: 1.5698e+01 (km)\n",
      "Central P: 3.2165e-06 (Msun/km^3), M: 2.6935e-01 (Msun), R: 1.5302e+01 (km)\n",
      "Central P: 3.5381e-06 (Msun/km^3), M: 2.8543e-01 (Msun), R: 1.4952e+01 (km)\n",
      "Central P: 3.8919e-06 (Msun/km^3), M: 3.0249e-01 (Msun), R: 1.4644e+01 (km)\n",
      "Central P: 4.2811e-06 (Msun/km^3), M: 3.2054e-01 (Msun), R: 1.4371e+01 (km)\n",
      "Central P: 4.7092e-06 (Msun/km^3), M: 3.3964e-01 (Msun), R: 1.4128e+01 (km)\n",
      "Central P: 5.1802e-06 (Msun/km^3), M: 3.5984e-01 (Msun), R: 1.3913e+01 (km)\n",
      "Central P: 5.6982e-06 (Msun/km^3), M: 3.8116e-01 (Msun), R: 1.3722e+01 (km)\n",
      "Central P: 6.2680e-06 (Msun/km^3), M: 4.0365e-01 (Msun), R: 1.3552e+01 (km)\n",
      "Central P: 6.8948e-06 (Msun/km^3), M: 4.2734e-01 (Msun), R: 1.3400e+01 (km)\n",
      "Central P: 7.5843e-06 (Msun/km^3), M: 4.5227e-01 (Msun), R: 1.3265e+01 (km)\n",
      "Central P: 8.3427e-06 (Msun/km^3), M: 4.7846e-01 (Msun), R: 1.3145e+01 (km)\n",
      "Central P: 9.1770e-06 (Msun/km^3), M: 5.0593e-01 (Msun), R: 1.3037e+01 (km)\n",
      "Central P: 1.0095e-05 (Msun/km^3), M: 5.3470e-01 (Msun), R: 1.2941e+01 (km)\n",
      "Central P: 1.1104e-05 (Msun/km^3), M: 5.6477e-01 (Msun), R: 1.2855e+01 (km)\n",
      "Central P: 1.2215e-05 (Msun/km^3), M: 5.9616e-01 (Msun), R: 1.2778e+01 (km)\n",
      "Central P: 1.3436e-05 (Msun/km^3), M: 6.2885e-01 (Msun), R: 1.2708e+01 (km)\n",
      "Central P: 1.4780e-05 (Msun/km^3), M: 6.6283e-01 (Msun), R: 1.2646e+01 (km)\n",
      "Central P: 1.6258e-05 (Msun/km^3), M: 6.9808e-01 (Msun), R: 1.2588e+01 (km)\n",
      "Central P: 1.7883e-05 (Msun/km^3), M: 7.3456e-01 (Msun), R: 1.2536e+01 (km)\n",
      "Central P: 1.9672e-05 (Msun/km^3), M: 7.7224e-01 (Msun), R: 1.2488e+01 (km)\n",
      "Central P: 2.1639e-05 (Msun/km^3), M: 8.1105e-01 (Msun), R: 1.2443e+01 (km)\n",
      "Central P: 2.3803e-05 (Msun/km^3), M: 8.5093e-01 (Msun), R: 1.2401e+01 (km)\n",
      "Central P: 2.6183e-05 (Msun/km^3), M: 8.9181e-01 (Msun), R: 1.2360e+01 (km)\n",
      "Central P: 2.8801e-05 (Msun/km^3), M: 9.3359e-01 (Msun), R: 1.2321e+01 (km)\n",
      "Central P: 3.1681e-05 (Msun/km^3), M: 9.7618e-01 (Msun), R: 1.2283e+01 (km)\n",
      "Central P: 3.4850e-05 (Msun/km^3), M: 1.0195e+00 (Msun), R: 1.2245e+01 (km)\n",
      "Central P: 3.8335e-05 (Msun/km^3), M: 1.0633e+00 (Msun), R: 1.2207e+01 (km)\n",
      "Central P: 4.2168e-05 (Msun/km^3), M: 1.1076e+00 (Msun), R: 1.2168e+01 (km)\n",
      "Central P: 4.6385e-05 (Msun/km^3), M: 1.1522e+00 (Msun), R: 1.2128e+01 (km)\n",
      "Central P: 5.1023e-05 (Msun/km^3), M: 1.1969e+00 (Msun), R: 1.2087e+01 (km)\n",
      "Central P: 5.6126e-05 (Msun/km^3), M: 1.2417e+00 (Msun), R: 1.2044e+01 (km)\n",
      "Central P: 6.1738e-05 (Msun/km^3), M: 1.2862e+00 (Msun), R: 1.1999e+01 (km)\n",
      "Central P: 6.7912e-05 (Msun/km^3), M: 1.3304e+00 (Msun), R: 1.1951e+01 (km)\n",
      "Central P: 7.4703e-05 (Msun/km^3), M: 1.3741e+00 (Msun), R: 1.1901e+01 (km)\n",
      "Central P: 8.2174e-05 (Msun/km^3), M: 1.4172e+00 (Msun), R: 1.1848e+01 (km)\n",
      "Central P: 9.0391e-05 (Msun/km^3), M: 1.4593e+00 (Msun), R: 1.1793e+01 (km)\n",
      "Central P: 9.9430e-05 (Msun/km^3), M: 1.5005e+00 (Msun), R: 1.1734e+01 (km)\n",
      "Central P: 1.0937e-04 (Msun/km^3), M: 1.5404e+00 (Msun), R: 1.1672e+01 (km)\n",
      "Central P: 1.2031e-04 (Msun/km^3), M: 1.5791e+00 (Msun), R: 1.1607e+01 (km)\n",
      "Central P: 1.3234e-04 (Msun/km^3), M: 1.6162e+00 (Msun), R: 1.1539e+01 (km)\n",
      "Central P: 1.4558e-04 (Msun/km^3), M: 1.6517e+00 (Msun), R: 1.1468e+01 (km)\n",
      "Central P: 1.6013e-04 (Msun/km^3), M: 1.6855e+00 (Msun), R: 1.1393e+01 (km)\n",
      "Central P: 1.7615e-04 (Msun/km^3), M: 1.7174e+00 (Msun), R: 1.1315e+01 (km)\n",
      "Central P: 1.9376e-04 (Msun/km^3), M: 1.7473e+00 (Msun), R: 1.1235e+01 (km)\n",
      "Central P: 2.1314e-04 (Msun/km^3), M: 1.7752e+00 (Msun), R: 1.1151e+01 (km)\n",
      "Central P: 2.3445e-04 (Msun/km^3), M: 1.8010e+00 (Msun), R: 1.1065e+01 (km)\n",
      "Central P: 2.5790e-04 (Msun/km^3), M: 1.8245e+00 (Msun), R: 1.0976e+01 (km)\n",
      "Central P: 2.8369e-04 (Msun/km^3), M: 1.8459e+00 (Msun), R: 1.0884e+01 (km)\n",
      "Central P: 3.1205e-04 (Msun/km^3), M: 1.8649e+00 (Msun), R: 1.0790e+01 (km)\n",
      "Central P: 3.4326e-04 (Msun/km^3), M: 1.8818e+00 (Msun), R: 1.0694e+01 (km)\n",
      "Central P: 3.7759e-04 (Msun/km^3), M: 1.8963e+00 (Msun), R: 1.0596e+01 (km)\n",
      "Central P: 4.1534e-04 (Msun/km^3), M: 1.9087e+00 (Msun), R: 1.0497e+01 (km)\n",
      "Central P: 4.5688e-04 (Msun/km^3), M: 1.9188e+00 (Msun), R: 1.0395e+01 (km)\n",
      "Central P: 5.0257e-04 (Msun/km^3), M: 1.9267e+00 (Msun), R: 1.0293e+01 (km)\n",
      "Central P: 5.5282e-04 (Msun/km^3), M: 1.9325e+00 (Msun), R: 1.0189e+01 (km)\n",
      "Central P: 6.0811e-04 (Msun/km^3), M: 1.9363e+00 (Msun), R: 1.0085e+01 (km)\n",
      "Central P: 6.6892e-04 (Msun/km^3), M: 1.9381e+00 (Msun), R: 9.9800e+00 (km)\n",
      "Central P: 7.3581e-04 (Msun/km^3), M: 1.9380e+00 (Msun), R: 9.8747e+00 (km)\n",
      "Central P: 8.0939e-04 (Msun/km^3), M: 1.9361e+00 (Msun), R: 9.7693e+00 (km)\n",
      "Central P: 8.9033e-04 (Msun/km^3), M: 1.9325e+00 (Msun), R: 9.6639e+00 (km)\n",
      "Central P: 9.7936e-04 (Msun/km^3), M: 1.9273e+00 (Msun), R: 9.5589e+00 (km)\n",
      "Central P: 1.0773e-03 (Msun/km^3), M: 1.9206e+00 (Msun), R: 9.4544e+00 (km)\n",
      "Central P: 1.1850e-03 (Msun/km^3), M: 1.9124e+00 (Msun), R: 9.3506e+00 (km)\n",
      "Central P: 1.3035e-03 (Msun/km^3), M: 1.9030e+00 (Msun), R: 9.2478e+00 (km)\n",
      "Central P: 1.4339e-03 (Msun/km^3), M: 1.8923e+00 (Msun), R: 9.1461e+00 (km)\n",
      "Central P: 1.5773e-03 (Msun/km^3), M: 1.8806e+00 (Msun), R: 9.0458e+00 (km)\n",
      "Central P: 1.7350e-03 (Msun/km^3), M: 1.8678e+00 (Msun), R: 8.9469e+00 (km)\n",
      "Central P: 1.9085e-03 (Msun/km^3), M: 1.8542e+00 (Msun), R: 8.8498e+00 (km)\n",
      "Central P: 2.0993e-03 (Msun/km^3), M: 1.8398e+00 (Msun), R: 8.7545e+00 (km)\n",
      "Central P: 2.3093e-03 (Msun/km^3), M: 1.8247e+00 (Msun), R: 8.6613e+00 (km)\n",
      "Central P: 2.5402e-03 (Msun/km^3), M: 1.8090e+00 (Msun), R: 8.5703e+00 (km)\n",
      "Central P: 2.7942e-03 (Msun/km^3), M: 1.7928e+00 (Msun), R: 8.4818e+00 (km)\n",
      "Central P: 3.0736e-03 (Msun/km^3), M: 1.7761e+00 (Msun), R: 8.3961e+00 (km)\n",
      "Central P: 3.3810e-03 (Msun/km^3), M: 1.7592e+00 (Msun), R: 8.3132e+00 (km)\n",
      "Central P: 3.7191e-03 (Msun/km^3), M: 1.7420e+00 (Msun), R: 8.2335e+00 (km)\n",
      "Central P: 4.0910e-03 (Msun/km^3), M: 1.7245e+00 (Msun), R: 8.1570e+00 (km)\n",
      "Central P: 4.5001e-03 (Msun/km^3), M: 1.7070e+00 (Msun), R: 8.0838e+00 (km)\n",
      "Central P: 4.9501e-03 (Msun/km^3), M: 1.6895e+00 (Msun), R: 8.0142e+00 (km)\n",
      "Central P: 5.4452e-03 (Msun/km^3), M: 1.6719e+00 (Msun), R: 7.9481e+00 (km)\n",
      "Central P: 5.9897e-03 (Msun/km^3), M: 1.6545e+00 (Msun), R: 7.8857e+00 (km)\n",
      "Central P: 6.5886e-03 (Msun/km^3), M: 1.6372e+00 (Msun), R: 7.8270e+00 (km)\n",
      "Central P: 7.2475e-03 (Msun/km^3), M: 1.6202e+00 (Msun), R: 7.7722e+00 (km)\n",
      "Central P: 7.9723e-03 (Msun/km^3), M: 1.6035e+00 (Msun), R: 7.7212e+00 (km)\n",
      "\n"
     ]
    }
   ],
   "source": [
    "cc=o2sclpy.cap_cout()\n",
    "cc.open()\n",
    "ret2=nc.calc_nstar()\n",
    "cc.close()"
   ]
  },
  {
   "cell_type": "markdown",
   "id": "f5ef9d1a",
   "metadata": {},
   "source": [
    "Get the table for the TOV results"
   ]
  },
  {
   "cell_type": "code",
   "execution_count": 15,
   "id": "0c319a66",
   "metadata": {},
   "outputs": [],
   "source": [
    "tov_table=nc.get_tov_results()"
   ]
  },
  {
   "cell_type": "markdown",
   "id": "b7fc7e14",
   "metadata": {},
   "source": [
    "Summarize the columns in the TOV table and their associated units."
   ]
  },
  {
   "cell_type": "code",
   "execution_count": 16,
   "id": "6ae39bec",
   "metadata": {
    "lines_to_next_cell": 2
   },
   "outputs": [
    {
     "name": "stdout",
     "output_type": "stream",
     "text": [
      "TOV table:\n",
      "Column 0 gm Msun\n",
      "Column 1 r km\n",
      "Column 2 bm Msun\n",
      "Column 3 pr 1/fm^4\n",
      "Column 4 ed 1/fm^4\n",
      "Column 5 nb 1/fm^3\n",
      "Column 6 sg 1/km\n",
      "Column 7 rs \n",
      "Column 8 dmdr Msun/km\n",
      "Column 9 dlogpdr 1/km\n",
      "Column 10 dbmdr Msun/km\n",
      "\n"
     ]
    }
   ],
   "source": [
    "print('TOV table:')\n",
    "for i in range(0,tov_table.get_ncolumns()):\n",
    "    col=tov_table.get_column_name(i)\n",
    "    unit=tov_table.get_unit(col)\n",
    "    print('Column',i,str(col,'UTF-8'),str(unit,'UTF-8'))\n",
    "print('')"
   ]
  },
  {
   "cell_type": "code",
   "execution_count": 17,
   "id": "2cdba679",
   "metadata": {},
   "outputs": [
    {
     "data": {
      "image/png": "[encoded data removed]",
      "text/plain": [
       "<Figure size 432x288 with 1 Axes>"
      ]
     },
     "metadata": {
      "needs_background": "light"
     },
     "output_type": "display_data"
    }
   ],
   "source": [
    "plot.plot(tov_table['r'][0:tov_table.get_nlines()],\n",
    "          tov_table['gm'][0:tov_table.get_nlines()])\n",
    "plot.xlabel('radius (km)')\n",
    "plot.ylabel('gravitational mass (Msun))')\n",
    "if plots:\n",
    "    plot.show()"
   ]
  },
  {
   "cell_type": "markdown",
   "id": "325c3c43",
   "metadata": {},
   "source": [
    "This line computes the profile of a 1.4 solar mass \n",
    "neutron star. If you look at the console output you will\n",
    "notice that the maximum mass is computed first. This\n",
    "helps ensure the class doesn't give the profile of an\n",
    "unstable configuration."
   ]
  },
  {
   "cell_type": "code",
   "execution_count": 18,
   "id": "970a4290",
   "metadata": {},
   "outputs": [
    {
     "name": "stdout",
     "output_type": "stream",
     "text": [
      "1.400000e+00 solar mass mode.\n",
      "Maximum mass mode.\n",
      "Central P: 7.0000e-05 (Msun/km^3), M: 1.3444e+00 (Msun), R: 1.1935e+01 (km)\n",
      "Central P: 9.1000e-05 (Msun/km^3), M: 1.4623e+00 (Msun), R: 1.1788e+01 (km)\n",
      "Central P: 1.1830e-04 (Msun/km^3), M: 1.5723e+00 (Msun), R: 1.1619e+01 (km)\n",
      "Central P: 1.5379e-04 (Msun/km^3), M: 1.6714e+00 (Msun), R: 1.1425e+01 (km)\n",
      "Central P: 1.9993e-04 (Msun/km^3), M: 1.7567e+00 (Msun), R: 1.1208e+01 (km)\n",
      "Central P: 2.5991e-04 (Msun/km^3), M: 1.8263e+00 (Msun), R: 1.0968e+01 (km)\n",
      "Central P: 3.3788e-04 (Msun/km^3), M: 1.8791e+00 (Msun), R: 1.0710e+01 (km)\n",
      "Central P: 4.3924e-04 (Msun/km^3), M: 1.9149e+00 (Msun), R: 1.0437e+01 (km)\n",
      "Central P: 5.7101e-04 (Msun/km^3), M: 1.9340e+00 (Msun), R: 1.0154e+01 (km)\n",
      "Central P: 7.4231e-04 (Msun/km^3), M: 1.9379e+00 (Msun), R: 9.8650e+00 (km)\n",
      "Central P: 9.6501e-04 (Msun/km^3), M: 1.9282e+00 (Msun), R: 9.5751e+00 (km)\n",
      "Central P: 1.2545e-03 (Msun/km^3), M: 1.9069e+00 (Msun), R: 9.2890e+00 (km)\n",
      "Central P: 1.6309e-03 (Msun/km^3), M: 1.8762e+00 (Msun), R: 9.0109e+00 (km)\n",
      "Central P: 2.1201e-03 (Msun/km^3), M: 1.8383e+00 (Msun), R: 8.7448e+00 (km)\n",
      "Central P: 2.7562e-03 (Msun/km^3), M: 1.7951e+00 (Msun), R: 8.4944e+00 (km)\n",
      "Central P: 3.5830e-03 (Msun/km^3), M: 1.7487e+00 (Msun), R: 8.2643e+00 (km)\n",
      "Central P: 4.6579e-03 (Msun/km^3), M: 1.7007e+00 (Msun), R: 8.0582e+00 (km)\n",
      "Central P: 6.6808e-04 (Msun/km^3), M: 1.9381e+00 (Msun), R: 9.9814e+00 (km)\n",
      "Central P: 7.4231e-04 (Msun/km^3), M: 1.9379e+00 (Msun), R: 9.8650e+00 (km)\n",
      "Central P: 7.0520e-04 (Msun/km^3), M: 1.9383e+00 (Msun), R: 9.9217e+00 (km)\n",
      "Central P: 7.0520e-04 (Msun/km^3), M: 1.9383e+00 (Msun), R: 9.9217e+00 (km)\n",
      "Central P: 7.4231e-04 (Msun/km^3), M: 1.9379e+00 (Msun), R: 9.8650e+00 (km)\n",
      "Central P: 6.6808e-04 (Msun/km^3), M: 1.9381e+00 (Msun), R: 9.9814e+00 (km)\n",
      "Central P: 6.9644e-04 (Msun/km^3), M: 1.9383e+00 (Msun), R: 9.9355e+00 (km)\n",
      "Central P: 6.9102e-04 (Msun/km^3), M: 1.9383e+00 (Msun), R: 9.9441e+00 (km)\n",
      "Central P: 7.0520e-04 (Msun/km^3), M: 1.9383e+00 (Msun), R: 9.9217e+00 (km)\n",
      "Maximum gravitational mass is: 1.938299e+00\n",
      "Corresponding baryon mass is: 2.282546e+00\n",
      "Corresponding radius is: 9.921711e+00\n",
      "Central P: 5.2000e-05 (Msun/km^3), M: 1.2058e+00 (Msun), R: 1.2078e+01 (km)\n",
      "Central P: 5.2000e-05 (Msun/km^3), M: 1.2058e+00 (Msun), R: 1.2078e+01 (km)\n",
      "Central P: 5.2000e-05 (Msun/km^3), M: 1.2058e+00 (Msun), R: 1.2078e+01 (km)\n",
      "Central P: 7.3503e-05 (Msun/km^3), M: 1.3667e+00 (Msun), R: 1.1910e+01 (km)\n",
      "Central P: 7.7947e-05 (Msun/km^3), M: 1.3934e+00 (Msun), R: 1.1878e+01 (km)\n",
      "Central P: 7.9045e-05 (Msun/km^3), M: 1.3997e+00 (Msun), R: 1.1870e+01 (km)\n",
      "Central P: 7.9093e-05 (Msun/km^3), M: 1.4000e+00 (Msun), R: 1.1870e+01 (km)\n",
      "Central P: 7.9093e-05 (Msun/km^3), M: 1.4000e+00 (Msun), R: 1.1870e+01 (km)\n",
      "Central P: 7.9093e-05 (Msun/km^3), M: 1.4000e+00 (Msun), R: 1.1870e+01 (km)\n",
      "Gravitational mass is: 1.400000e+00\n",
      "Radius is: 1.186970e+01\n",
      "Baryon mass is: 1.554925e+00\n"
     ]
    }
   ],
   "source": [
    "ret2=nc.fixed(1.4)"
   ]
  },
  {
   "cell_type": "code",
   "execution_count": 19,
   "id": "838b2c67",
   "metadata": {},
   "outputs": [
    {
     "data": {
      "image/png": "[encoded data removed]",
      "text/plain": [
       "<Figure size 432x288 with 1 Axes>"
      ]
     },
     "metadata": {
      "needs_background": "light"
     },
     "output_type": "display_data"
    }
   ],
   "source": [
    "plot.plot(tov_table['r'][0:tov_table.get_nlines()],\n",
    "          tov_table['gm'][0:tov_table.get_nlines()])\n",
    "plot.xlabel('radius (km)')\n",
    "plot.ylabel('gravitational mass (Msun))')\n",
    "if plots:\n",
    "    plot.show()"
   ]
  },
  {
   "cell_type": "markdown",
   "id": "42e3919b",
   "metadata": {},
   "source": [
    "Create a O$_2$scl ``tov_love`` object to compute the tidal\n",
    "deformability of a 1.4 solar mass neutron star."
   ]
  },
  {
   "cell_type": "code",
   "execution_count": 20,
   "id": "873d3631",
   "metadata": {},
   "outputs": [],
   "source": [
    "tl=o2sclpy.tov_love(link)"
   ]
  },
  {
   "cell_type": "markdown",
   "id": "c3780063",
   "metadata": {},
   "source": [
    "The ``tov_love`` class requires the energy density and pressure to\n",
    "be in units of $ \\mathrm{M}_{\\odot}/\\mathrm{km}^3 $, so we convert\n",
    "those columns in the table"
   ]
  },
  {
   "cell_type": "code",
   "execution_count": 21,
   "id": "aa663f81",
   "metadata": {},
   "outputs": [
    {
     "data": {
      "text/plain": [
       "0"
      ]
     },
     "execution_count": 21,
     "metadata": {},
     "output_type": "execute_result"
    }
   ],
   "source": [
    "tov_table.convert_to_unit('ed','Msun/km^3',True)\n",
    "tov_table.convert_to_unit('pr','Msun/km^3',True)"
   ]
  },
  {
   "cell_type": "markdown",
   "id": "2a1e9616",
   "metadata": {},
   "source": [
    "The ``tov_love`` class also requires the speed of sound, so we\n",
    "compute it using interpolation."
   ]
  },
  {
   "cell_type": "code",
   "execution_count": 22,
   "id": "6bb32d32",
   "metadata": {},
   "outputs": [],
   "source": [
    "tov_table.deriv_col('ed','pr','cs2')"
   ]
  },
  {
   "cell_type": "markdown",
   "id": "bc5f58de",
   "metadata": {},
   "source": [
    "Provide the TOV table to the ``tov_love`` object and compute the\n",
    "tidal deformability in units of $\\mathrm{km}^{-5}$:"
   ]
  },
  {
   "cell_type": "code",
   "execution_count": 23,
   "id": "14c9e5e2",
   "metadata": {},
   "outputs": [
    {
     "name": "stdout",
     "output_type": "stream",
     "text": [
      "1.118582e+04\n"
     ]
    }
   ],
   "source": [
    "tl.set_tab(tov_table)\n",
    "(ret,yR,beta,k2,lambda_km5,lambda_cgs)=tl.calc_y(False)\n",
    "\n",
    "print('%7.6e' % lambda_km5)"
   ]
  },
  {
   "cell_type": "markdown",
   "id": "3cc0e642",
   "metadata": {},
   "source": [
    "To get the dimensionless tidal deformability we divide by $(G M)^5$:"
   ]
  },
  {
   "cell_type": "code",
   "execution_count": 24,
   "id": "52ef069a",
   "metadata": {
    "lines_to_next_cell": 1
   },
   "outputs": [
    {
     "name": "stdout",
     "output_type": "stream",
     "text": [
      "2.962623e+02\n"
     ]
    }
   ],
   "source": [
    "twoG=fc.find_unique('schwarz','m')/1.0e3\n",
    "Lambda=lambda_km5/(1.4*twoG/2.0)**5\n",
    "print('%7.6e' % Lambda)"
   ]
  },
  {
   "cell_type": "markdown",
   "id": "c2d6aa89",
   "metadata": {},
   "source": [
    "For testing using ``pytest``:"
   ]
  },
  {
   "cell_type": "code",
   "execution_count": 25,
   "id": "713d4a87",
   "metadata": {},
   "outputs": [],
   "source": [
    "def test_fun():\n",
    "    assert numpy.allclose(Lambda,297.0,rtol=8.0e-3)\n",
    "    return"
   ]
  }
 ],
 "metadata": {
  "jupytext": {
   "cell_metadata_filter": "-all",
   "main_language": "python",
   "notebook_metadata_filter": "-all"
  },
  "kernelspec": {
   "display_name": "Python 3 (ipykernel)",
   "language": "python",
   "name": "python3"
  },
  "language_info": {
   "codemirror_mode": {
    "name": "ipython",
    "version": 3
   },
   "file_extension": ".py",
   "mimetype": "text/x-python",
   "name": "python",
   "nbconvert_exporter": "python",
   "pygments_lexer": "ipython3",
   "version": "3.9.7"
  }
 },
 "nbformat": 4,
 "nbformat_minor": 5
}
