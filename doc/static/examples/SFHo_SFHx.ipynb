{
 "cells": [
  {
   "cell_type": "markdown",
   "id": "e0929fae",
   "metadata": {},
   "source": [
    "# SFHo/SFHx example for O$_2$sclpy"
   ]
  },
  {
   "cell_type": "markdown",
   "id": "27ed45fb",
   "metadata": {},
   "source": [
    "See the O$_2$sclpy documentation at\n",
    "https://neutronstars.utk.edu/code/o2sclpy for more information."
   ]
  },
  {
   "cell_type": "code",
   "execution_count": 1,
   "id": "770f6e3c",
   "metadata": {},
   "outputs": [],
   "source": [
    "import o2sclpy\n",
    "import matplotlib.pyplot as plot\n",
    "import numpy\n",
    "import sys\n",
    "\n",
    "plots=True\n",
    "if 'pytest' in sys.modules:\n",
    "    plots=False"
   ]
  },
  {
   "cell_type": "markdown",
   "id": "1302c3d8",
   "metadata": {},
   "source": [
    "Link the O$_2$scl library:"
   ]
  },
  {
   "cell_type": "code",
   "execution_count": 2,
   "id": "f2d3c2ad",
   "metadata": {},
   "outputs": [],
   "source": [
    "link=o2sclpy.linker()\n",
    "link.link_o2scl()"
   ]
  },
  {
   "cell_type": "markdown",
   "id": "9521b1db",
   "metadata": {},
   "source": [
    "Get the value of $\\hbar c$ from an O$_2$scl find_constants object:"
   ]
  },
  {
   "cell_type": "code",
   "execution_count": 3,
   "id": "64829780",
   "metadata": {},
   "outputs": [
    {
     "name": "stdout",
     "output_type": "stream",
     "text": [
      "hbarc = 1.973270e+02\n"
     ]
    }
   ],
   "source": [
    "fc=o2sclpy.find_constants(link)\n",
    "hc=fc.find_unique('hbarc','MeV*fm')\n",
    "print('hbarc = %7.6e' % (hc))"
   ]
  },
  {
   "cell_type": "markdown",
   "id": "b2c798dd",
   "metadata": {},
   "source": [
    "Get a copy (a pointer to) the O$_2$scl unit conversion object:"
   ]
  },
  {
   "cell_type": "code",
   "execution_count": 4,
   "id": "ac9764d7",
   "metadata": {},
   "outputs": [],
   "source": [
    "cu=link.o2scl_settings.get_convert_units()"
   ]
  },
  {
   "cell_type": "code",
   "execution_count": 5,
   "id": "ce958a89",
   "metadata": {},
   "outputs": [],
   "source": [
    "sfho=o2sclpy.eos_had_rmf(link)\n",
    "o2sclpy.rmf_load(link,sfho,'SFHo')\n",
    "sfhx=o2sclpy.eos_had_rmf(link)\n",
    "o2sclpy.rmf_load(link,sfhx,'SFHx')"
   ]
  },
  {
   "cell_type": "markdown",
   "id": "4166fdae",
   "metadata": {},
   "source": [
    "Compute nuclear saturation and output the saturation density\n",
    "and binding energy:"
   ]
  },
  {
   "cell_type": "code",
   "execution_count": 6,
   "id": "09f6d5fb",
   "metadata": {},
   "outputs": [
    {
     "name": "stdout",
     "output_type": "stream",
     "text": [
      "SFHo: n0=1.582415e-01 1/fm^3, E/A=-1.617240e+01 MeV, K=2.452197e+02 MeV, M*/M=7.610394e-01, S=3.123132e+01 MeV, L=4.574132e+01 MeV\n",
      "\n"
     ]
    }
   ],
   "source": [
    "sfho.saturation()\n",
    "print(('SFHo: n0=%7.6e 1/fm^3, E/A=%7.6e MeV, K=%7.6e MeV, '+\n",
    "       'M*/M=%7.6e, S=%7.6e MeV, L=%7.6e MeV') % \n",
    "      (sfho.n0,sfho.eoa*hc,sfho.comp*hc,sfho.msom,sfho.esym*hc,\n",
    "       sfho.fesym_slope(sfho.n0)*hc))\n",
    "print('')"
   ]
  },
  {
   "cell_type": "code",
   "execution_count": 7,
   "id": "c5188850",
   "metadata": {},
   "outputs": [
    {
     "name": "stdout",
     "output_type": "stream",
     "text": [
      "SFHx: n0=1.600292e-01 1/fm^3, E/A=-1.614755e+01 MeV, K=2.386343e+02 MeV, M*/M=7.181083e-01, S=2.827242e+01 MeV, L=2.318892e+01 MeV\n",
      "\n"
     ]
    }
   ],
   "source": [
    "sfhx.saturation()\n",
    "print(('SFHx: n0=%7.6e 1/fm^3, E/A=%7.6e MeV, K=%7.6e MeV, '+\n",
    "       'M*/M=%7.6e, S=%7.6e MeV, L=%7.6e MeV') % \n",
    "      (sfhx.n0,sfhx.eoa*hc,sfhx.comp*hc,sfhx.msom,sfhx.esym*hc,\n",
    "       sfhx.fesym_slope(sfhx.n0)*hc))\n",
    "print('')"
   ]
  },
  {
   "cell_type": "markdown",
   "id": "be9642a4",
   "metadata": {},
   "source": [
    "Baryon density grid in $1/\\mathrm{fm}^3$. The O$_2$scl object\n",
    "`uniform_grid_end_width` is like numpy.arange() but is numerically\n",
    "stable."
   ]
  },
  {
   "cell_type": "code",
   "execution_count": null,
   "id": "c3d5b2f0",
   "metadata": {},
   "outputs": [],
   "source": [
    "ug_nb=o2sclpy.uniform_grid_end_width.init(link,0.01,1.0,0.01)"
   ]
  },
  {
   "cell_type": "markdown",
   "id": "1f2f7dde",
   "metadata": {},
   "source": [
    "Temperature grid in MeV"
   ]
  },
  {
   "cell_type": "code",
   "execution_count": null,
   "id": "017955fe",
   "metadata": {},
   "outputs": [],
   "source": [
    "ug_T=o2sclpy.uniform_grid_end_width.init(link,0.1,10.0,0.1)"
   ]
  },
  {
   "cell_type": "markdown",
   "id": "0d5e6c51",
   "metadata": {},
   "source": [
    "Store the EOS in a table3d object"
   ]
  },
  {
   "cell_type": "code",
   "execution_count": null,
   "id": "228e167d",
   "metadata": {},
   "outputs": [],
   "source": [
    "t3d=o2sclpy.table3d(link)\n",
    "t3d.set_xy_grid('nB',ug_nb,'T',ug_T)"
   ]
  },
  {
   "cell_type": "markdown",
   "id": "320fa7b0",
   "metadata": {},
   "source": [
    "Create a new slice for the energy per baryon"
   ]
  },
  {
   "cell_type": "code",
   "execution_count": null,
   "id": "0c96bbda",
   "metadata": {},
   "outputs": [],
   "source": [
    "t3d.new_slice('EoA')"
   ]
  },
  {
   "cell_type": "code",
   "execution_count": null,
   "id": "fc4cbdd4",
   "metadata": {},
   "outputs": [],
   "source": [
    "n=sfho.get_def_neutron()\n",
    "p=sfho.get_def_proton()\n",
    "th=sfho.get_def_thermo()"
   ]
  },
  {
   "cell_type": "code",
   "execution_count": null,
   "id": "94ceeea5",
   "metadata": {},
   "outputs": [],
   "source": [
    "for i in range(0,t3d.get_nx()):\n",
    "   for j in range(0,t3d.get_ny()):\n",
    "       n.n=ug_nb[i]/2.0\n",
    "       p.n=ug_nb[i]/2.0\n",
    "       sfho.calc_temp_e(n,p,ug_T[j]/197.33,th)\n",
    "       t3d.set(i,j,'EoA',th.ed/ug_nb[i])"
   ]
  },
  {
   "cell_type": "code",
   "execution_count": null,
   "id": "5b772d1a",
   "metadata": {
    "lines_to_next_cell": 1
   },
   "outputs": [],
   "source": [
    "if plots:\n",
    "    plot.den_plot(t3d,'EoA')\n",
    "    plot.show()"
   ]
  },
  {
   "cell_type": "code",
   "execution_count": 8,
   "id": "83248faa",
   "metadata": {},
   "outputs": [],
   "source": [
    "#xarr=[i*0.02+0.02 for i in range(0,16)]\n",
    "#for T in numpy.arange(0,20,5):\n",
    "#   sfho.calc_"
   ]
  },
  {
   "cell_type": "code",
   "execution_count": 9,
   "id": "21cc9787",
   "metadata": {},
   "outputs": [],
   "source": [
    "def test_fun():\n",
    "    assert numpy.allclose(sfho.n0,0.1582415,rtol=1.0e-4)\n",
    "    assert numpy.allclose(sfhx.n0,0.1600292,rtol=1.0e-4)\n",
    "    return"
   ]
  },
  {
   "cell_type": "code",
   "execution_count": null,
   "id": "937507f8",
   "metadata": {},
   "outputs": [],
   "source": []
  }
 ],
 "metadata": {
  "jupytext": {
   "cell_metadata_filter": "-all",
   "main_language": "python",
   "notebook_metadata_filter": "-all"
  },
  "kernelspec": {
   "display_name": "Python 3 (ipykernel)",
   "language": "python",
   "name": "python3"
  },
  "language_info": {
   "codemirror_mode": {
    "name": "ipython",
    "version": 3
   },
   "file_extension": ".py",
   "mimetype": "text/x-python",
   "name": "python",
   "nbconvert_exporter": "python",
   "pygments_lexer": "ipython3",
   "version": "3.9.7"
  }
 },
 "nbformat": 4,
 "nbformat_minor": 5
}
